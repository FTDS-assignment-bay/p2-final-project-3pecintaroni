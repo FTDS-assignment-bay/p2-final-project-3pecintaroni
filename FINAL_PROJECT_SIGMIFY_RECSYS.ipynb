{
  "cells": [
    {
      "cell_type": "markdown",
      "metadata": {},
      "source": [
        "# Introduction"
      ]
    },
    {
      "cell_type": "markdown",
      "metadata": {
        "id": "RBkRs01_kRS3"
      },
      "source": [
        "\n",
        "\n",
        "***Final Project (`Segmify`)***\n",
        "\n",
        "Team Name : 3PecintaRoni    \n",
        "Members :     \n",
        "Adhy Arya Hendrata    \n",
        "Daffa Darwin    \n",
        "Vicky Eldora Wuisan      \n",
        "\n",
        "object : Creating a machine learning-based recommendation system aims to provide      \n",
        "        customers with the best selection of goods based on their needs."
      ]
    },
    {
      "cell_type": "markdown",
      "metadata": {
        "id": "NOu3uYUC8--5"
      },
      "source": [
        "# ***Import Libraries & Packages***"
      ]
    },
    {
      "cell_type": "code",
      "execution_count": 1,
      "metadata": {
        "id": "GSxTXLFokQay"
      },
      "outputs": [],
      "source": [
        "import pandas as pd\n",
        "import numpy as np\n",
        "from sklearn.preprocessing import StandardScaler, OneHotEncoder\n",
        "import matplotlib.pyplot as plt\n",
        "from sklearn.decomposition import PCA\n",
        "from sklearn.cluster import KMeans\n",
        "from sklearn.metrics import silhouette_score, silhouette_samples\n",
        "from feature_engine.outliers import Winsorizer\n",
        "from sklearn.compose import ColumnTransformer\n",
        "from sklearn.pipeline import Pipeline\n",
        "import re"
      ]
    },
    {
      "cell_type": "markdown",
      "metadata": {
        "id": "dyF367H39LDy"
      },
      "source": [
        "# ***Data Loading***"
      ]
    },
    {
      "cell_type": "code",
      "execution_count": 2,
      "metadata": {},
      "outputs": [
        {
          "data": {
            "text/html": [
              "<div>\n",
              "<style scoped>\n",
              "    .dataframe tbody tr th:only-of-type {\n",
              "        vertical-align: middle;\n",
              "    }\n",
              "\n",
              "    .dataframe tbody tr th {\n",
              "        vertical-align: top;\n",
              "    }\n",
              "\n",
              "    .dataframe thead th {\n",
              "        text-align: right;\n",
              "    }\n",
              "</style>\n",
              "<table border=\"1\" class=\"dataframe\">\n",
              "  <thead>\n",
              "    <tr style=\"text-align: right;\">\n",
              "      <th></th>\n",
              "      <th>InvoiceNo</th>\n",
              "      <th>StockCode</th>\n",
              "      <th>Description</th>\n",
              "      <th>Quantity</th>\n",
              "      <th>InvoiceDate</th>\n",
              "      <th>UnitPrice</th>\n",
              "      <th>CustomerID</th>\n",
              "      <th>Country</th>\n",
              "    </tr>\n",
              "  </thead>\n",
              "  <tbody>\n",
              "    <tr>\n",
              "      <th>0</th>\n",
              "      <td>536365</td>\n",
              "      <td>85123A</td>\n",
              "      <td>WHITE HANGING HEART T-LIGHT HOLDER</td>\n",
              "      <td>6</td>\n",
              "      <td>12/1/2010 8:26</td>\n",
              "      <td>2.55</td>\n",
              "      <td>17850.0</td>\n",
              "      <td>United Kingdom</td>\n",
              "    </tr>\n",
              "    <tr>\n",
              "      <th>1</th>\n",
              "      <td>536365</td>\n",
              "      <td>71053</td>\n",
              "      <td>WHITE METAL LANTERN</td>\n",
              "      <td>6</td>\n",
              "      <td>12/1/2010 8:26</td>\n",
              "      <td>3.39</td>\n",
              "      <td>17850.0</td>\n",
              "      <td>United Kingdom</td>\n",
              "    </tr>\n",
              "    <tr>\n",
              "      <th>2</th>\n",
              "      <td>536365</td>\n",
              "      <td>84406B</td>\n",
              "      <td>CREAM CUPID HEARTS COAT HANGER</td>\n",
              "      <td>8</td>\n",
              "      <td>12/1/2010 8:26</td>\n",
              "      <td>2.75</td>\n",
              "      <td>17850.0</td>\n",
              "      <td>United Kingdom</td>\n",
              "    </tr>\n",
              "  </tbody>\n",
              "</table>\n",
              "</div>"
            ],
            "text/plain": [
              "  InvoiceNo StockCode                         Description  Quantity  \\\n",
              "0    536365    85123A  WHITE HANGING HEART T-LIGHT HOLDER         6   \n",
              "1    536365     71053                 WHITE METAL LANTERN         6   \n",
              "2    536365    84406B      CREAM CUPID HEARTS COAT HANGER         8   \n",
              "\n",
              "      InvoiceDate  UnitPrice  CustomerID         Country  \n",
              "0  12/1/2010 8:26       2.55     17850.0  United Kingdom  \n",
              "1  12/1/2010 8:26       3.39     17850.0  United Kingdom  \n",
              "2  12/1/2010 8:26       2.75     17850.0  United Kingdom  "
            ]
          },
          "execution_count": 2,
          "metadata": {},
          "output_type": "execute_result"
        }
      ],
      "source": [
        "# Load the CSV file\n",
        "df_ori = pd.read_csv('data.csv', encoding='ISO-8859-1')\n",
        "\n",
        "# duplicate dataset\n",
        "df = df_ori.copy()\n",
        "\n",
        "# Display the first 3 rows to understand the structure of the data\n",
        "df.head(3)"
      ]
    },
    {
      "cell_type": "code",
      "execution_count": 3,
      "metadata": {},
      "outputs": [
        {
          "data": {
            "text/html": [
              "<div>\n",
              "<style scoped>\n",
              "    .dataframe tbody tr th:only-of-type {\n",
              "        vertical-align: middle;\n",
              "    }\n",
              "\n",
              "    .dataframe tbody tr th {\n",
              "        vertical-align: top;\n",
              "    }\n",
              "\n",
              "    .dataframe thead th {\n",
              "        text-align: right;\n",
              "    }\n",
              "</style>\n",
              "<table border=\"1\" class=\"dataframe\">\n",
              "  <thead>\n",
              "    <tr style=\"text-align: right;\">\n",
              "      <th></th>\n",
              "      <th>InvoiceNo</th>\n",
              "      <th>StockCode</th>\n",
              "      <th>Description</th>\n",
              "      <th>Quantity</th>\n",
              "      <th>InvoiceDate</th>\n",
              "      <th>UnitPrice</th>\n",
              "      <th>CustomerID</th>\n",
              "      <th>Country</th>\n",
              "    </tr>\n",
              "  </thead>\n",
              "  <tbody>\n",
              "    <tr>\n",
              "      <th>541906</th>\n",
              "      <td>581587</td>\n",
              "      <td>23254</td>\n",
              "      <td>CHILDRENS CUTLERY DOLLY GIRL</td>\n",
              "      <td>4</td>\n",
              "      <td>12/9/2011 12:50</td>\n",
              "      <td>4.15</td>\n",
              "      <td>12680.0</td>\n",
              "      <td>France</td>\n",
              "    </tr>\n",
              "    <tr>\n",
              "      <th>541907</th>\n",
              "      <td>581587</td>\n",
              "      <td>23255</td>\n",
              "      <td>CHILDRENS CUTLERY CIRCUS PARADE</td>\n",
              "      <td>4</td>\n",
              "      <td>12/9/2011 12:50</td>\n",
              "      <td>4.15</td>\n",
              "      <td>12680.0</td>\n",
              "      <td>France</td>\n",
              "    </tr>\n",
              "    <tr>\n",
              "      <th>541908</th>\n",
              "      <td>581587</td>\n",
              "      <td>22138</td>\n",
              "      <td>BAKING SET 9 PIECE RETROSPOT</td>\n",
              "      <td>3</td>\n",
              "      <td>12/9/2011 12:50</td>\n",
              "      <td>4.95</td>\n",
              "      <td>12680.0</td>\n",
              "      <td>France</td>\n",
              "    </tr>\n",
              "  </tbody>\n",
              "</table>\n",
              "</div>"
            ],
            "text/plain": [
              "       InvoiceNo StockCode                      Description  Quantity  \\\n",
              "541906    581587     23254    CHILDRENS CUTLERY DOLLY GIRL          4   \n",
              "541907    581587     23255  CHILDRENS CUTLERY CIRCUS PARADE         4   \n",
              "541908    581587     22138    BAKING SET 9 PIECE RETROSPOT          3   \n",
              "\n",
              "            InvoiceDate  UnitPrice  CustomerID Country  \n",
              "541906  12/9/2011 12:50       4.15     12680.0  France  \n",
              "541907  12/9/2011 12:50       4.15     12680.0  France  \n",
              "541908  12/9/2011 12:50       4.95     12680.0  France  "
            ]
          },
          "execution_count": 3,
          "metadata": {},
          "output_type": "execute_result"
        }
      ],
      "source": [
        "df.tail(3)"
      ]
    },
    {
      "cell_type": "code",
      "execution_count": 4,
      "metadata": {
        "colab": {
          "base_uri": "https://localhost:8080/"
        },
        "id": "iZB3VE_42NGt",
        "outputId": "08911d25-cbd8-4f88-baf4-a7849e9e9c68"
      },
      "outputs": [
        {
          "name": "stdout",
          "output_type": "stream",
          "text": [
            "<class 'pandas.core.frame.DataFrame'>\n",
            "RangeIndex: 541909 entries, 0 to 541908\n",
            "Data columns (total 8 columns):\n",
            " #   Column       Non-Null Count   Dtype  \n",
            "---  ------       --------------   -----  \n",
            " 0   InvoiceNo    541909 non-null  object \n",
            " 1   StockCode    541909 non-null  object \n",
            " 2   Description  540455 non-null  object \n",
            " 3   Quantity     541909 non-null  int64  \n",
            " 4   InvoiceDate  541909 non-null  object \n",
            " 5   UnitPrice    541909 non-null  float64\n",
            " 6   CustomerID   406829 non-null  float64\n",
            " 7   Country      541909 non-null  object \n",
            "dtypes: float64(2), int64(1), object(5)\n",
            "memory usage: 33.1+ MB\n"
          ]
        }
      ],
      "source": [
        "df.info()"
      ]
    },
    {
      "cell_type": "code",
      "execution_count": 5,
      "metadata": {},
      "outputs": [
        {
          "data": {
            "text/plain": [
              "5268"
            ]
          },
          "execution_count": 5,
          "metadata": {},
          "output_type": "execute_result"
        }
      ],
      "source": [
        "df.duplicated().sum()"
      ]
    },
    {
      "cell_type": "code",
      "execution_count": 6,
      "metadata": {
        "colab": {
          "base_uri": "https://localhost:8080/"
        },
        "id": "vBfpNl74LDko",
        "outputId": "7361a6f2-a615-46a3-969d-ea46a3f3dc74"
      },
      "outputs": [
        {
          "data": {
            "text/plain": [
              "InvoiceNo      25900\n",
              "StockCode       4070\n",
              "Description     4223\n",
              "Quantity         722\n",
              "InvoiceDate    23260\n",
              "UnitPrice       1630\n",
              "CustomerID      4372\n",
              "Country           38\n",
              "dtype: int64"
            ]
          },
          "execution_count": 6,
          "metadata": {},
          "output_type": "execute_result"
        }
      ],
      "source": [
        "df.nunique()"
      ]
    },
    {
      "cell_type": "code",
      "execution_count": 7,
      "metadata": {
        "colab": {
          "base_uri": "https://localhost:8080/"
        },
        "id": "Vn2JWP5yLHu2",
        "outputId": "d0939c9d-dce8-41b0-f070-3a8b25e4f90c"
      },
      "outputs": [
        {
          "data": {
            "text/plain": [
              "InvoiceNo           0\n",
              "StockCode           0\n",
              "Description      1454\n",
              "Quantity            0\n",
              "InvoiceDate         0\n",
              "UnitPrice           0\n",
              "CustomerID     135080\n",
              "Country             0\n",
              "dtype: int64"
            ]
          },
          "execution_count": 7,
          "metadata": {},
          "output_type": "execute_result"
        }
      ],
      "source": [
        "# mengecek missing value\n",
        "df.isnull().sum()"
      ]
    },
    {
      "cell_type": "code",
      "execution_count": 8,
      "metadata": {
        "colab": {
          "base_uri": "https://localhost:8080/"
        },
        "id": "6-1AfIljLPYV",
        "outputId": "11616e02-ef36-4989-ac74-d8be72d4b0c4"
      },
      "outputs": [
        {
          "name": "stdout",
          "output_type": "stream",
          "text": [
            "<class 'pandas.core.frame.DataFrame'>\n",
            "RangeIndex: 541909 entries, 0 to 541908\n",
            "Data columns (total 8 columns):\n",
            " #   Column       Non-Null Count   Dtype  \n",
            "---  ------       --------------   -----  \n",
            " 0   InvoiceNo    541909 non-null  object \n",
            " 1   StockCode    541909 non-null  object \n",
            " 2   Description  540455 non-null  object \n",
            " 3   Quantity     541909 non-null  int64  \n",
            " 4   InvoiceDate  541909 non-null  object \n",
            " 5   UnitPrice    541909 non-null  float64\n",
            " 6   CustomerID   406829 non-null  float64\n",
            " 7   Country      541909 non-null  object \n",
            "dtypes: float64(2), int64(1), object(5)\n",
            "memory usage: 33.1+ MB\n"
          ]
        }
      ],
      "source": [
        "df.info()"
      ]
    },
    {
      "cell_type": "code",
      "execution_count": 9,
      "metadata": {},
      "outputs": [
        {
          "name": "stdout",
          "output_type": "stream",
          "text": [
            "numerical columns: ['Quantity', 'UnitPrice', 'CustomerID']\n",
            "categorical columns: ['InvoiceNo', 'StockCode', 'Description', 'InvoiceDate', 'Country']\n"
          ]
        }
      ],
      "source": [
        "# menampilkan kolom yang hanya berisi integer dan float\n",
        "num_col_1 = df.select_dtypes(include=np.number).columns.tolist()\n",
        "\n",
        "# menampilkan kolom yang hanya berisi object\n",
        "cat_col_1 = df.select_dtypes(include=['object']).columns.tolist()\n",
        "\n",
        "print(f'numerical columns: {num_col_1}')\n",
        "print(f'categorical columns: {cat_col_1}')\n",
        "\n",
        "df_num = df[num_col_1]\n",
        "df_cat = df[cat_col_1]"
      ]
    },
    {
      "cell_type": "code",
      "execution_count": 10,
      "metadata": {},
      "outputs": [
        {
          "data": {
            "text/html": [
              "<div>\n",
              "<style scoped>\n",
              "    .dataframe tbody tr th:only-of-type {\n",
              "        vertical-align: middle;\n",
              "    }\n",
              "\n",
              "    .dataframe tbody tr th {\n",
              "        vertical-align: top;\n",
              "    }\n",
              "\n",
              "    .dataframe thead th {\n",
              "        text-align: right;\n",
              "    }\n",
              "</style>\n",
              "<table border=\"1\" class=\"dataframe\">\n",
              "  <thead>\n",
              "    <tr style=\"text-align: right;\">\n",
              "      <th></th>\n",
              "      <th>InvoiceNo</th>\n",
              "      <th>StockCode</th>\n",
              "      <th>Description</th>\n",
              "      <th>Quantity</th>\n",
              "      <th>InvoiceDate</th>\n",
              "      <th>UnitPrice</th>\n",
              "      <th>CustomerID</th>\n",
              "      <th>Country</th>\n",
              "    </tr>\n",
              "  </thead>\n",
              "  <tbody>\n",
              "    <tr>\n",
              "      <th>0</th>\n",
              "      <td>536365</td>\n",
              "      <td>85123A</td>\n",
              "      <td>WHITE HANGING HEART T-LIGHT HOLDER</td>\n",
              "      <td>6</td>\n",
              "      <td>12/1/2010 8:26</td>\n",
              "      <td>2.55</td>\n",
              "      <td>17850.0</td>\n",
              "      <td>United Kingdom</td>\n",
              "    </tr>\n",
              "  </tbody>\n",
              "</table>\n",
              "</div>"
            ],
            "text/plain": [
              "  InvoiceNo StockCode                         Description  Quantity  \\\n",
              "0    536365    85123A  WHITE HANGING HEART T-LIGHT HOLDER         6   \n",
              "\n",
              "      InvoiceDate  UnitPrice  CustomerID         Country  \n",
              "0  12/1/2010 8:26       2.55     17850.0  United Kingdom  "
            ]
          },
          "execution_count": 10,
          "metadata": {},
          "output_type": "execute_result"
        }
      ],
      "source": [
        "df.head(1)"
      ]
    },
    {
      "cell_type": "code",
      "execution_count": 11,
      "metadata": {},
      "outputs": [
        {
          "data": {
            "text/plain": [
              "InvoiceNo      25900\n",
              "StockCode       4070\n",
              "Description     4223\n",
              "Quantity         722\n",
              "InvoiceDate    23260\n",
              "UnitPrice       1630\n",
              "CustomerID      4372\n",
              "Country           38\n",
              "dtype: int64"
            ]
          },
          "execution_count": 11,
          "metadata": {},
          "output_type": "execute_result"
        }
      ],
      "source": [
        "df.nunique()"
      ]
    },
    {
      "cell_type": "markdown",
      "metadata": {},
      "source": [
        "# ***Feature Engginering***"
      ]
    },
    {
      "cell_type": "markdown",
      "metadata": {},
      "source": [
        "## ***Handling Outlier***"
      ]
    },
    {
      "cell_type": "code",
      "execution_count": 12,
      "metadata": {},
      "outputs": [
        {
          "name": "stderr",
          "output_type": "stream",
          "text": [
            "C:\\Users\\ASUS\\AppData\\Local\\Temp\\ipykernel_19544\\1340654869.py:32: FutureWarning: A value is trying to be set on a copy of a DataFrame or Series through chained assignment using an inplace method.\n",
            "The behavior will change in pandas 3.0. This inplace method will never work because the intermediate object on which we are setting values always behaves as a copy.\n",
            "\n",
            "For example, when doing 'df[col].method(value, inplace=True)', try using 'df.method({col: value}, inplace=True)' or df[col] = df[col].method(value) instead, to perform the operation inplace on the original object.\n",
            "\n",
            "\n",
            "  df[col].fillna(df[col].mean(), inplace=True)\n"
          ]
        },
        {
          "data": {
            "text/html": [
              "<div>\n",
              "<style scoped>\n",
              "    .dataframe tbody tr th:only-of-type {\n",
              "        vertical-align: middle;\n",
              "    }\n",
              "\n",
              "    .dataframe tbody tr th {\n",
              "        vertical-align: top;\n",
              "    }\n",
              "\n",
              "    .dataframe thead th {\n",
              "        text-align: right;\n",
              "    }\n",
              "</style>\n",
              "<table border=\"1\" class=\"dataframe\">\n",
              "  <thead>\n",
              "    <tr style=\"text-align: right;\">\n",
              "      <th></th>\n",
              "      <th>invoice_no</th>\n",
              "      <th>stock_code</th>\n",
              "      <th>description</th>\n",
              "      <th>quantity</th>\n",
              "      <th>invoice_date</th>\n",
              "      <th>unit_price</th>\n",
              "      <th>customer_id</th>\n",
              "      <th>country</th>\n",
              "    </tr>\n",
              "  </thead>\n",
              "  <tbody>\n",
              "    <tr>\n",
              "      <th>0</th>\n",
              "      <td>536365</td>\n",
              "      <td>85123a</td>\n",
              "      <td>white hanging heart t-light holder</td>\n",
              "      <td>6.0</td>\n",
              "      <td>12/1/2010 8:26</td>\n",
              "      <td>2.55</td>\n",
              "      <td>17517.801354</td>\n",
              "      <td>united kingdom</td>\n",
              "    </tr>\n",
              "    <tr>\n",
              "      <th>1</th>\n",
              "      <td>536365</td>\n",
              "      <td>71053</td>\n",
              "      <td>white metal lantern</td>\n",
              "      <td>6.0</td>\n",
              "      <td>12/1/2010 8:26</td>\n",
              "      <td>3.39</td>\n",
              "      <td>17517.801354</td>\n",
              "      <td>united kingdom</td>\n",
              "    </tr>\n",
              "    <tr>\n",
              "      <th>2</th>\n",
              "      <td>536365</td>\n",
              "      <td>84406b</td>\n",
              "      <td>cream cupid hearts coat hanger</td>\n",
              "      <td>8.0</td>\n",
              "      <td>12/1/2010 8:26</td>\n",
              "      <td>2.75</td>\n",
              "      <td>17517.801354</td>\n",
              "      <td>united kingdom</td>\n",
              "    </tr>\n",
              "    <tr>\n",
              "      <th>3</th>\n",
              "      <td>536365</td>\n",
              "      <td>84029g</td>\n",
              "      <td>knitted union flag hot water bottle</td>\n",
              "      <td>6.0</td>\n",
              "      <td>12/1/2010 8:26</td>\n",
              "      <td>3.39</td>\n",
              "      <td>17517.801354</td>\n",
              "      <td>united kingdom</td>\n",
              "    </tr>\n",
              "    <tr>\n",
              "      <th>4</th>\n",
              "      <td>536365</td>\n",
              "      <td>84029e</td>\n",
              "      <td>red woolly hottie white heart.</td>\n",
              "      <td>6.0</td>\n",
              "      <td>12/1/2010 8:26</td>\n",
              "      <td>3.39</td>\n",
              "      <td>17517.801354</td>\n",
              "      <td>united kingdom</td>\n",
              "    </tr>\n",
              "  </tbody>\n",
              "</table>\n",
              "</div>"
            ],
            "text/plain": [
              "  invoice_no stock_code                          description  quantity  \\\n",
              "0     536365     85123a   white hanging heart t-light holder       6.0   \n",
              "1     536365      71053                  white metal lantern       6.0   \n",
              "2     536365     84406b       cream cupid hearts coat hanger       8.0   \n",
              "3     536365     84029g  knitted union flag hot water bottle       6.0   \n",
              "4     536365     84029e       red woolly hottie white heart.       6.0   \n",
              "\n",
              "     invoice_date  unit_price   customer_id         country  \n",
              "0  12/1/2010 8:26        2.55  17517.801354  united kingdom  \n",
              "1  12/1/2010 8:26        3.39  17517.801354  united kingdom  \n",
              "2  12/1/2010 8:26        2.75  17517.801354  united kingdom  \n",
              "3  12/1/2010 8:26        3.39  17517.801354  united kingdom  \n",
              "4  12/1/2010 8:26        3.39  17517.801354  united kingdom  "
            ]
          },
          "execution_count": 12,
          "metadata": {},
          "output_type": "execute_result"
        }
      ],
      "source": [
        "def clean_data(df):\n",
        "    # Remove duplicate rows\n",
        "    df.drop_duplicates(inplace=True)\n",
        "\n",
        "    # Replace \"ID\" to \"Id\" in column names\n",
        "    df.columns = df.columns.str.replace('ID', 'Id')\n",
        "    \n",
        "    # Replace uppercase letters in the middle of words with underscores\n",
        "    df.columns = df.columns.str.replace(r'(?<!^)(?=[A-Z])', '_', regex=True).str.lower()\n",
        "    \n",
        "    # Reset index\n",
        "    df.reset_index(drop=True, inplace=True)\n",
        "\n",
        "    # Clean string columns\n",
        "    for col in df.select_dtypes(include=['object']).columns:\n",
        "        # Remove leading and trailing spaces\n",
        "        df[col] = df[col].str.strip()\n",
        "\n",
        "        # Remove special characters and convert to lowercase\n",
        "        df[col] = df[col].str.replace(r'[\\*\\?!]', '', regex=True).str.lower()\n",
        "    \n",
        "    return df\n",
        "\n",
        "def identify_distribution(df):\n",
        "    normal, skew, extreme_skew = [], [], []\n",
        "\n",
        "    # Identify numerical columns\n",
        "    df_num = df.select_dtypes(include=['float64', 'int64'])\n",
        "\n",
        "    # Determine the skewness of each numerical column\n",
        "    for col in df_num.columns:\n",
        "        skewness = df[col].skew()\n",
        "        if -0.5 < skewness < 0.5:\n",
        "            normal.append(col)\n",
        "        elif -1 <= skewness <= -0.5 or 0.5 <= skewness <= 1:\n",
        "            skew.append(col)\n",
        "        elif skewness < -1 or skewness > 1:\n",
        "            extreme_skew.append(col)\n",
        "    return normal, skew, extreme_skew\n",
        "\n",
        "def handle_missing_value(df):\n",
        "    # Calculate the percentage of missing values for each column\n",
        "    missing_percent = df.isnull().mean() * 100\n",
        "\n",
        "    # Fill or drop missing values based on percentage\n",
        "    for col in df.columns:\n",
        "        if missing_percent[col] > 5:\n",
        "            if df[col].dtype == 'object':  # Categorical data\n",
        "                df[col].fillna(df[col].mode()[0], inplace=True)\n",
        "            else:  # Numerical data\n",
        "                skewness = df[col].dropna().skew()\n",
        "                if abs(skewness) < 0.5:  # Normally distributed\n",
        "                    df[col].fillna(df[col].mean(), inplace=True)\n",
        "                else:  # Skewed distribution\n",
        "                    df[col].fillna(df[col].median(), inplace=True)\n",
        "        else:\n",
        "            df.dropna(subset=[col], inplace=True)\n",
        "\n",
        "    return df\n",
        "\n",
        "def handle_outliers(df):\n",
        "    normal, skew, extreme_skew = identify_distribution(df)\n",
        "\n",
        "    # Handle extreme skewed data\n",
        "    if extreme_skew:\n",
        "        winsoriser_extreme_skew = Winsorizer(capping_method='iqr', tail='both', fold=3, variables=extreme_skew)\n",
        "        df = winsoriser_extreme_skew.fit_transform(df)\n",
        "    \n",
        "    # Handle skewed data\n",
        "    if skew:\n",
        "        winsoriser_skew = Winsorizer(capping_method='iqr', tail='both', fold=1.5, variables=skew)\n",
        "        df = winsoriser_skew.fit_transform(df)\n",
        "    \n",
        "    # Handle normally distributed data\n",
        "    if normal:\n",
        "        winsoriser_normal = Winsorizer(capping_method='gaussian', tail='both', fold=3, variables=normal)\n",
        "        df = winsoriser_normal.fit_transform(df)\n",
        "    \n",
        "    # Debugging statements to ensure Winsorizer is applied\n",
        "    for col in normal + skew + extreme_skew:\n",
        "        if col in df.columns:\n",
        "            print(f\"Outliers handled for column: {col}\")\n",
        "\n",
        "    return df\n",
        "\n",
        "def find_skewed_boundaries(df, variable, distance):\n",
        "    IQR = df[variable].quantile(0.75) - df[variable].quantile(0.25)\n",
        "    lower_boundary = df[variable].quantile(0.25) - (IQR * distance)\n",
        "    upper_boundary = df[variable].quantile(0.75) + (IQR * distance)\n",
        "    return upper_boundary, lower_boundary\n",
        "\n",
        "def calculate_outliers_percentage(df, variable, distance):    \n",
        "    upper_boundary, lower_boundary = find_skewed_boundaries(df, variable, distance)\n",
        "    outliers = df[(df[variable] < lower_boundary) | (df[variable] > upper_boundary)]\n",
        "    per = (len(outliers) / len(df)) * 100\n",
        "    print('Percentage of outliers in {}: {:.2f}%'.format(variable, per))\n",
        "\n",
        "def diagnostic_plots(df, variable):\n",
        "    plt.figure(figsize=(16, 4))\n",
        "\n",
        "    # Histogram\n",
        "    plt.subplot(1, 2, 1)\n",
        "    sns.histplot(df[variable], bins=30)\n",
        "    plt.title(f'Histogram of {variable}')\n",
        "\n",
        "    # Boxplot\n",
        "    plt.subplot(1, 2, 2)\n",
        "    sns.boxplot(y=df[variable])\n",
        "    plt.title(f'Boxplot of {variable}')\n",
        "\n",
        "    plt.show()\n",
        "\n",
        "# Main data processing\n",
        "df = clean_data(df)\n",
        "df = handle_missing_value(df)\n",
        "df_clean = handle_outliers(df)\n",
        "\n",
        "normal, skew, extreme_skew = identify_distribution(df)\n",
        "\n",
        "# Display percentage of outliers before and after outlier handling\n",
        "print(\"Outliers percentage before handling:\")\n",
        "for col in normal:\n",
        "    calculate_outliers_percentage(df, col, 1.5)\n",
        "for col in skew:\n",
        "    calculate_outliers_percentage(df, col, 1.5)\n",
        "for col in extreme_skew:\n",
        "    calculate_outliers_percentage(df, col, 3)\n",
        "\n",
        "print(\"\\nOutliers percentage after handling:\")\n",
        "for col in normal:\n",
        "    calculate_outliers_percentage(df_clean, col, 1.5)\n",
        "for col in skew:\n",
        "    calculate_outliers_percentage(df_clean, col, 1.5)\n",
        "for col in extreme_skew:\n",
        "    calculate_outliers_percentage(df_clean, col, 3)\n",
        "\n",
        "# Generate diagnostic plots before and after trimming for all variables\n",
        "print(\"\\nDiagnostic plots before and after trimming:\")\n",
        "for col in normal + skew + extreme_skew:\n",
        "    print(f'\\n{col} - Before Trimming')\n",
        "    diagnostic_plots(df, col)\n",
        "    print(f'\\n{col} - After Trimming')\n",
        "    diagnostic_plots(df_clean, col)"
      ]
    },
    {
      "cell_type": "code",
      "execution_count": null,
      "metadata": {},
      "outputs": [],
      "source": [
        "df_clean.head()"
      ]
    },
    {
      "cell_type": "code",
      "execution_count": 13,
      "metadata": {},
      "outputs": [],
      "source": [
        "df_clean['invoice_date'] = pd.to_datetime(df_clean['invoice_date'])\n",
        "df_clean[['customer_id','quantity']] = df_clean[['customer_id','quantity']].astype(int)"
      ]
    },
    {
      "cell_type": "code",
      "execution_count": 14,
      "metadata": {
        "colab": {
          "base_uri": "https://localhost:8080/"
        },
        "id": "7jg5XRqJPG8C",
        "outputId": "a50e0237-1ff0-4f5b-ed34-8f83e69bdefc"
      },
      "outputs": [
        {
          "name": "stdout",
          "output_type": "stream",
          "text": [
            "<class 'pandas.core.frame.DataFrame'>\n",
            "RangeIndex: 535122 entries, 0 to 535121\n",
            "Data columns (total 8 columns):\n",
            " #   Column        Non-Null Count   Dtype         \n",
            "---  ------        --------------   -----         \n",
            " 0   invoice_no    535122 non-null  object        \n",
            " 1   stock_code    535122 non-null  object        \n",
            " 2   description   535122 non-null  object        \n",
            " 3   quantity      535122 non-null  int32         \n",
            " 4   invoice_date  535122 non-null  datetime64[ns]\n",
            " 5   unit_price    535122 non-null  float64       \n",
            " 6   customer_id   535122 non-null  int32         \n",
            " 7   country       535122 non-null  object        \n",
            "dtypes: datetime64[ns](1), float64(1), int32(2), object(4)\n",
            "memory usage: 28.6+ MB\n"
          ]
        }
      ],
      "source": [
        "df_clean.info()"
      ]
    },
    {
      "cell_type": "code",
      "execution_count": 15,
      "metadata": {
        "colab": {
          "base_uri": "https://localhost:8080/"
        },
        "id": "pASDphDYO18X",
        "outputId": "a892ce35-29f2-4444-e8b8-a3f0e3e678ba"
      },
      "outputs": [
        {
          "data": {
            "text/plain": [
              "invoice_no      0\n",
              "stock_code      0\n",
              "description     0\n",
              "quantity        0\n",
              "invoice_date    0\n",
              "unit_price      0\n",
              "customer_id     0\n",
              "country         0\n",
              "dtype: int64"
            ]
          },
          "execution_count": 15,
          "metadata": {},
          "output_type": "execute_result"
        }
      ],
      "source": [
        "df_clean.isnull().sum()"
      ]
    },
    {
      "cell_type": "code",
      "execution_count": null,
      "metadata": {},
      "outputs": [],
      "source": [
        "df.duplicated().sum()"
      ]
    },
    {
      "cell_type": "code",
      "execution_count": 16,
      "metadata": {},
      "outputs": [
        {
          "name": "stdout",
          "output_type": "stream",
          "text": [
            "<class 'pandas.core.frame.DataFrame'>\n",
            "RangeIndex: 535122 entries, 0 to 535121\n",
            "Data columns (total 8 columns):\n",
            " #   Column        Non-Null Count   Dtype         \n",
            "---  ------        --------------   -----         \n",
            " 0   invoice_no    535122 non-null  object        \n",
            " 1   stock_code    535122 non-null  object        \n",
            " 2   description   535122 non-null  object        \n",
            " 3   quantity      535122 non-null  int32         \n",
            " 4   invoice_date  535122 non-null  datetime64[ns]\n",
            " 5   unit_price    535122 non-null  float64       \n",
            " 6   customer_id   535122 non-null  int32         \n",
            " 7   country       535122 non-null  object        \n",
            "dtypes: datetime64[ns](1), float64(1), int32(2), object(4)\n",
            "memory usage: 28.6+ MB\n"
          ]
        }
      ],
      "source": [
        "df_clean.info()"
      ]
    },
    {
      "cell_type": "code",
      "execution_count": 17,
      "metadata": {
        "colab": {
          "base_uri": "https://localhost:8080/"
        },
        "id": "P4JwPUhaO_rX",
        "outputId": "7ff853ec-30ed-4ced-b7e7-23830f045e8c"
      },
      "outputs": [
        {
          "data": {
            "text/plain": [
              "invoice_no      24446\n",
              "stock_code       3848\n",
              "description      4177\n",
              "quantity           73\n",
              "invoice_date    22309\n",
              "unit_price        486\n",
              "customer_id      3263\n",
              "country            38\n",
              "dtype: int64"
            ]
          },
          "execution_count": 17,
          "metadata": {},
          "output_type": "execute_result"
        }
      ],
      "source": [
        "# melihat berapa unique value\n",
        "df_clean.nunique()"
      ]
    },
    {
      "cell_type": "code",
      "execution_count": 18,
      "metadata": {
        "colab": {
          "base_uri": "https://localhost:8080/"
        },
        "id": "kBTxdkrOQSnw",
        "outputId": "6d013f1e-f8ce-46bf-9227-7c9fc14e89fe"
      },
      "outputs": [
        {
          "data": {
            "text/plain": [
              "Index(['invoice_no', 'stock_code', 'description', 'quantity', 'invoice_date',\n",
              "       'unit_price', 'customer_id', 'country'],\n",
              "      dtype='object')"
            ]
          },
          "execution_count": 18,
          "metadata": {},
          "output_type": "execute_result"
        }
      ],
      "source": [
        "# menampilkan nama kolom\n",
        "df_clean.columns"
      ]
    },
    {
      "cell_type": "markdown",
      "metadata": {},
      "source": [
        "# ***Recommended System Methods***"
      ]
    },
    {
      "cell_type": "code",
      "execution_count": 19,
      "metadata": {},
      "outputs": [],
      "source": [
        "# Gabungkan baris berdasarkan 'Description'\n",
        "df_grouped = df_clean.groupby('description').agg({\n",
        "    'stock_code': 'first',\n",
        "    'quantity': 'sum',\n",
        "    'invoice_date': 'first',  # atau bisa gunakan min/max tergantung kebutuhan\n",
        "    'unit_price': 'mean',  # atau bisa gunakan sum/mean tergantung kebutuhan\n",
        "    'customer_id': 'first',  # atau bisa gunakan mode/min/max tergantung kebutuhan\n",
        "    'country': 'first'\n",
        "}).reset_index()"
      ]
    },
    {
      "cell_type": "code",
      "execution_count": 20,
      "metadata": {},
      "outputs": [
        {
          "data": {
            "text/html": [
              "<div>\n",
              "<style scoped>\n",
              "    .dataframe tbody tr th:only-of-type {\n",
              "        vertical-align: middle;\n",
              "    }\n",
              "\n",
              "    .dataframe tbody tr th {\n",
              "        vertical-align: top;\n",
              "    }\n",
              "\n",
              "    .dataframe thead th {\n",
              "        text-align: right;\n",
              "    }\n",
              "</style>\n",
              "<table border=\"1\" class=\"dataframe\">\n",
              "  <thead>\n",
              "    <tr style=\"text-align: right;\">\n",
              "      <th></th>\n",
              "      <th>description</th>\n",
              "      <th>stock_code</th>\n",
              "      <th>quantity</th>\n",
              "      <th>invoice_date</th>\n",
              "      <th>unit_price</th>\n",
              "      <th>customer_id</th>\n",
              "      <th>country</th>\n",
              "      <th>category</th>\n",
              "    </tr>\n",
              "  </thead>\n",
              "  <tbody>\n",
              "    <tr>\n",
              "      <th>0</th>\n",
              "      <td></td>\n",
              "      <td>21275</td>\n",
              "      <td>-1047</td>\n",
              "      <td>2010-12-03 16:50:00</td>\n",
              "      <td>0.000000</td>\n",
              "      <td>15287</td>\n",
              "      <td>united kingdom</td>\n",
              "      <td>Miscellaneous</td>\n",
              "    </tr>\n",
              "    <tr>\n",
              "      <th>1</th>\n",
              "      <td>10 colour spaceboy pen</td>\n",
              "      <td>22418</td>\n",
              "      <td>5393</td>\n",
              "      <td>2010-12-01 11:41:00</td>\n",
              "      <td>1.050917</td>\n",
              "      <td>14307</td>\n",
              "      <td>united kingdom</td>\n",
              "      <td>Stationery</td>\n",
              "    </tr>\n",
              "    <tr>\n",
              "      <th>2</th>\n",
              "      <td>12 coloured party balloons</td>\n",
              "      <td>22436</td>\n",
              "      <td>2030</td>\n",
              "      <td>2010-12-02 13:32:00</td>\n",
              "      <td>0.703952</td>\n",
              "      <td>17517</td>\n",
              "      <td>united kingdom</td>\n",
              "      <td>Miscellaneous</td>\n",
              "    </tr>\n",
              "    <tr>\n",
              "      <th>3</th>\n",
              "      <td>12 daisy pegs in wood box</td>\n",
              "      <td>21448</td>\n",
              "      <td>344</td>\n",
              "      <td>2010-12-01 11:49:00</td>\n",
              "      <td>1.916667</td>\n",
              "      <td>17517</td>\n",
              "      <td>united kingdom</td>\n",
              "      <td>Miscellaneous</td>\n",
              "    </tr>\n",
              "    <tr>\n",
              "      <th>4</th>\n",
              "      <td>12 egg house painted wood</td>\n",
              "      <td>22282</td>\n",
              "      <td>148</td>\n",
              "      <td>2010-12-06 09:58:00</td>\n",
              "      <td>12.739200</td>\n",
              "      <td>15287</td>\n",
              "      <td>united kingdom</td>\n",
              "      <td>Miscellaneous</td>\n",
              "    </tr>\n",
              "  </tbody>\n",
              "</table>\n",
              "</div>"
            ],
            "text/plain": [
              "                  description stock_code  quantity        invoice_date  \\\n",
              "0                                  21275     -1047 2010-12-03 16:50:00   \n",
              "1      10 colour spaceboy pen      22418      5393 2010-12-01 11:41:00   \n",
              "2  12 coloured party balloons      22436      2030 2010-12-02 13:32:00   \n",
              "3   12 daisy pegs in wood box      21448       344 2010-12-01 11:49:00   \n",
              "4   12 egg house painted wood      22282       148 2010-12-06 09:58:00   \n",
              "\n",
              "   unit_price  customer_id         country       category  \n",
              "0    0.000000        15287  united kingdom  Miscellaneous  \n",
              "1    1.050917        14307  united kingdom     Stationery  \n",
              "2    0.703952        17517  united kingdom  Miscellaneous  \n",
              "3    1.916667        17517  united kingdom  Miscellaneous  \n",
              "4   12.739200        15287  united kingdom  Miscellaneous  "
            ]
          },
          "execution_count": 20,
          "metadata": {},
          "output_type": "execute_result"
        }
      ],
      "source": [
        "# Update the function to handle non-string values\n",
        "def categorize_description(description):\n",
        "    if not isinstance(description, str):\n",
        "        return 'Miscellaneous'\n",
        "    \n",
        "    categories = []\n",
        "    \n",
        "    # Define the category keywords\n",
        "    category_keywords = {\n",
        "        'Candles': ['candles'],\n",
        "        'Decorations': ['decoration', 'ornament', 'garland','holder','flannel','platter','balloons'],\n",
        "        'Kitchenware': ['mug', 'plate', 'bowl', 'jampot','cutlery','jars','tea','bottle','container','teacup','tissues','napkins','baking'],\n",
        "        'Stationery': ['notebook', 'pen', 'pencil', 'paper','sticker','pen'],\n",
        "        'Toys': ['toy', 'game', 'puzzle','block','children','dolly'],\n",
        "        'Furniture': ['chair', 'table', 'sofa', 'stool'],\n",
        "        'Clothing': ['shirt', 'dress', 'trousers', 'sock','woolly'],\n",
        "        'Electronics': ['lamp', 'light', 'clock'],\n",
        "        'Accessories': ['bag', 'scarf', 'belt','charm','rucksack','backpack','earrings'],\n",
        "        'Miscellaneous': ['misc', 'various']\n",
        "    }\n",
        "    \n",
        "    # Lowercase description for case insensitive matching\n",
        "    description_lower = description.lower()\n",
        "    \n",
        "    # Check keywords and assign categories\n",
        "    for category, keywords in category_keywords.items():\n",
        "        if any(re.search(r'\\b' + keyword + r'\\b', description_lower) for keyword in keywords):\n",
        "            categories.append(category)\n",
        "        if len(categories) == 2:  # Maximum of 2 categories\n",
        "            break\n",
        "    \n",
        "    if not categories:\n",
        "        categories.append('Miscellaneous')\n",
        "    \n",
        "    return ' '.join(categories)\n",
        "\n",
        "# Apply the function to the Description column to create the Category column\n",
        "df_grouped['category'] = df_grouped['description'].apply(categorize_description)\n",
        "\n",
        "# Display the first few rows with the new Category column\n",
        "df_grouped.head()"
      ]
    },
    {
      "cell_type": "code",
      "execution_count": 21,
      "metadata": {},
      "outputs": [
        {
          "data": {
            "text/html": [
              "<div>\n",
              "<style scoped>\n",
              "    .dataframe tbody tr th:only-of-type {\n",
              "        vertical-align: middle;\n",
              "    }\n",
              "\n",
              "    .dataframe tbody tr th {\n",
              "        vertical-align: top;\n",
              "    }\n",
              "\n",
              "    .dataframe thead th {\n",
              "        text-align: right;\n",
              "    }\n",
              "</style>\n",
              "<table border=\"1\" class=\"dataframe\">\n",
              "  <thead>\n",
              "    <tr style=\"text-align: right;\">\n",
              "      <th></th>\n",
              "      <th>description</th>\n",
              "      <th>stock_code</th>\n",
              "      <th>quantity</th>\n",
              "      <th>invoice_date</th>\n",
              "      <th>unit_price</th>\n",
              "      <th>customer_id</th>\n",
              "      <th>country</th>\n",
              "      <th>category</th>\n",
              "    </tr>\n",
              "  </thead>\n",
              "  <tbody>\n",
              "    <tr>\n",
              "      <th>4172</th>\n",
              "      <td>zinc t-light holder stars small</td>\n",
              "      <td>23144</td>\n",
              "      <td>3867</td>\n",
              "      <td>2011-04-21 09:36:00</td>\n",
              "      <td>0.942446</td>\n",
              "      <td>16133</td>\n",
              "      <td>united kingdom</td>\n",
              "      <td>Decorations Electronics</td>\n",
              "    </tr>\n",
              "    <tr>\n",
              "      <th>4173</th>\n",
              "      <td>zinc top  2 door wooden shelf</td>\n",
              "      <td>21275</td>\n",
              "      <td>8</td>\n",
              "      <td>2010-12-08 11:33:00</td>\n",
              "      <td>12.770000</td>\n",
              "      <td>14952</td>\n",
              "      <td>united kingdom</td>\n",
              "      <td>Miscellaneous</td>\n",
              "    </tr>\n",
              "    <tr>\n",
              "      <th>4174</th>\n",
              "      <td>zinc willie winkie  candle stick</td>\n",
              "      <td>84832</td>\n",
              "      <td>2624</td>\n",
              "      <td>2010-12-01 09:41:00</td>\n",
              "      <td>1.085971</td>\n",
              "      <td>15311</td>\n",
              "      <td>united kingdom</td>\n",
              "      <td>Miscellaneous</td>\n",
              "    </tr>\n",
              "    <tr>\n",
              "      <th>4175</th>\n",
              "      <td>zinc wire kitchen organiser</td>\n",
              "      <td>23143</td>\n",
              "      <td>30</td>\n",
              "      <td>2011-05-04 13:17:00</td>\n",
              "      <td>8.425625</td>\n",
              "      <td>17517</td>\n",
              "      <td>united kingdom</td>\n",
              "      <td>Miscellaneous</td>\n",
              "    </tr>\n",
              "    <tr>\n",
              "      <th>4176</th>\n",
              "      <td>zinc wire sweetheart letter tray</td>\n",
              "      <td>23137</td>\n",
              "      <td>83</td>\n",
              "      <td>2011-04-21 16:53:00</td>\n",
              "      <td>3.976522</td>\n",
              "      <td>16750</td>\n",
              "      <td>united kingdom</td>\n",
              "      <td>Miscellaneous</td>\n",
              "    </tr>\n",
              "  </tbody>\n",
              "</table>\n",
              "</div>"
            ],
            "text/plain": [
              "                           description stock_code  quantity  \\\n",
              "4172   zinc t-light holder stars small      23144      3867   \n",
              "4173     zinc top  2 door wooden shelf      21275         8   \n",
              "4174  zinc willie winkie  candle stick      84832      2624   \n",
              "4175       zinc wire kitchen organiser      23143        30   \n",
              "4176  zinc wire sweetheart letter tray      23137        83   \n",
              "\n",
              "            invoice_date  unit_price  customer_id         country  \\\n",
              "4172 2011-04-21 09:36:00    0.942446        16133  united kingdom   \n",
              "4173 2010-12-08 11:33:00   12.770000        14952  united kingdom   \n",
              "4174 2010-12-01 09:41:00    1.085971        15311  united kingdom   \n",
              "4175 2011-05-04 13:17:00    8.425625        17517  united kingdom   \n",
              "4176 2011-04-21 16:53:00    3.976522        16750  united kingdom   \n",
              "\n",
              "                     category  \n",
              "4172  Decorations Electronics  \n",
              "4173            Miscellaneous  \n",
              "4174            Miscellaneous  \n",
              "4175            Miscellaneous  \n",
              "4176            Miscellaneous  "
            ]
          },
          "execution_count": 21,
          "metadata": {},
          "output_type": "execute_result"
        }
      ],
      "source": [
        "df_grouped.tail()"
      ]
    },
    {
      "cell_type": "code",
      "execution_count": 22,
      "metadata": {},
      "outputs": [],
      "source": [
        "df_grouped = df_grouped[df_grouped['unit_price'] != 0.000000]"
      ]
    },
    {
      "cell_type": "code",
      "execution_count": 23,
      "metadata": {},
      "outputs": [
        {
          "data": {
            "text/html": [
              "<div>\n",
              "<style scoped>\n",
              "    .dataframe tbody tr th:only-of-type {\n",
              "        vertical-align: middle;\n",
              "    }\n",
              "\n",
              "    .dataframe tbody tr th {\n",
              "        vertical-align: top;\n",
              "    }\n",
              "\n",
              "    .dataframe thead th {\n",
              "        text-align: right;\n",
              "    }\n",
              "</style>\n",
              "<table border=\"1\" class=\"dataframe\">\n",
              "  <thead>\n",
              "    <tr style=\"text-align: right;\">\n",
              "      <th></th>\n",
              "      <th>description</th>\n",
              "      <th>stock_code</th>\n",
              "      <th>quantity</th>\n",
              "      <th>invoice_date</th>\n",
              "      <th>unit_price</th>\n",
              "      <th>customer_id</th>\n",
              "      <th>country</th>\n",
              "      <th>category</th>\n",
              "    </tr>\n",
              "  </thead>\n",
              "  <tbody>\n",
              "    <tr>\n",
              "      <th>1547</th>\n",
              "      <td>gold cosmetics bag with butterfly</td>\n",
              "      <td>20860</td>\n",
              "      <td>1</td>\n",
              "      <td>2010-12-13 16:46:00</td>\n",
              "      <td>2.100000</td>\n",
              "      <td>15287</td>\n",
              "      <td>united kingdom</td>\n",
              "      <td>Accessories</td>\n",
              "    </tr>\n",
              "    <tr>\n",
              "      <th>3768</th>\n",
              "      <td>turquoise christmas tree</td>\n",
              "      <td>35591t</td>\n",
              "      <td>5</td>\n",
              "      <td>2010-12-01 11:57:00</td>\n",
              "      <td>1.250000</td>\n",
              "      <td>13057</td>\n",
              "      <td>united kingdom</td>\n",
              "      <td>Miscellaneous</td>\n",
              "    </tr>\n",
              "    <tr>\n",
              "      <th>2490</th>\n",
              "      <td>parisienne sewing box</td>\n",
              "      <td>23111</td>\n",
              "      <td>288</td>\n",
              "      <td>2011-05-11 13:20:00</td>\n",
              "      <td>12.332968</td>\n",
              "      <td>14277</td>\n",
              "      <td>france</td>\n",
              "      <td>Miscellaneous</td>\n",
              "    </tr>\n",
              "    <tr>\n",
              "      <th>1742</th>\n",
              "      <td>herb marker rosemary</td>\n",
              "      <td>22917</td>\n",
              "      <td>1683</td>\n",
              "      <td>2010-12-01 12:43:00</td>\n",
              "      <td>0.850331</td>\n",
              "      <td>14729</td>\n",
              "      <td>united kingdom</td>\n",
              "      <td>Miscellaneous</td>\n",
              "    </tr>\n",
              "    <tr>\n",
              "      <th>447</th>\n",
              "      <td>blue easter egg hunt start post</td>\n",
              "      <td>21461</td>\n",
              "      <td>8</td>\n",
              "      <td>2011-01-16 16:23:00</td>\n",
              "      <td>2.495000</td>\n",
              "      <td>17517</td>\n",
              "      <td>united kingdom</td>\n",
              "      <td>Miscellaneous</td>\n",
              "    </tr>\n",
              "    <tr>\n",
              "      <th>4147</th>\n",
              "      <td>yellow/pink ceramic candle holder</td>\n",
              "      <td>37491a</td>\n",
              "      <td>6</td>\n",
              "      <td>2010-12-01 17:06:00</td>\n",
              "      <td>3.307500</td>\n",
              "      <td>15287</td>\n",
              "      <td>united kingdom</td>\n",
              "      <td>Decorations</td>\n",
              "    </tr>\n",
              "    <tr>\n",
              "      <th>554</th>\n",
              "      <td>box of 6 mini vintage crackers</td>\n",
              "      <td>23318</td>\n",
              "      <td>3074</td>\n",
              "      <td>2011-07-04 10:17:00</td>\n",
              "      <td>2.732905</td>\n",
              "      <td>15287</td>\n",
              "      <td>united kingdom</td>\n",
              "      <td>Miscellaneous</td>\n",
              "    </tr>\n",
              "    <tr>\n",
              "      <th>3289</th>\n",
              "      <td>set of 6 ice cream skittles</td>\n",
              "      <td>84715</td>\n",
              "      <td>16</td>\n",
              "      <td>2011-01-30 14:05:00</td>\n",
              "      <td>2.950000</td>\n",
              "      <td>13148</td>\n",
              "      <td>united kingdom</td>\n",
              "      <td>Miscellaneous</td>\n",
              "    </tr>\n",
              "    <tr>\n",
              "      <th>4098</th>\n",
              "      <td>wrap flower shop</td>\n",
              "      <td>23547</td>\n",
              "      <td>1571</td>\n",
              "      <td>2011-07-20 14:39:00</td>\n",
              "      <td>0.420000</td>\n",
              "      <td>17511</td>\n",
              "      <td>united kingdom</td>\n",
              "      <td>Miscellaneous</td>\n",
              "    </tr>\n",
              "    <tr>\n",
              "      <th>3464</th>\n",
              "      <td>slate tile natural hanging</td>\n",
              "      <td>22185</td>\n",
              "      <td>1410</td>\n",
              "      <td>2010-12-01 13:21:00</td>\n",
              "      <td>1.949207</td>\n",
              "      <td>17517</td>\n",
              "      <td>united kingdom</td>\n",
              "      <td>Miscellaneous</td>\n",
              "    </tr>\n",
              "  </tbody>\n",
              "</table>\n",
              "</div>"
            ],
            "text/plain": [
              "                            description stock_code  quantity  \\\n",
              "1547  gold cosmetics bag with butterfly      20860         1   \n",
              "3768           turquoise christmas tree     35591t         5   \n",
              "2490              parisienne sewing box      23111       288   \n",
              "1742               herb marker rosemary      22917      1683   \n",
              "447     blue easter egg hunt start post      21461         8   \n",
              "4147  yellow/pink ceramic candle holder     37491a         6   \n",
              "554      box of 6 mini vintage crackers      23318      3074   \n",
              "3289        set of 6 ice cream skittles      84715        16   \n",
              "4098                   wrap flower shop      23547      1571   \n",
              "3464         slate tile natural hanging      22185      1410   \n",
              "\n",
              "            invoice_date  unit_price  customer_id         country  \\\n",
              "1547 2010-12-13 16:46:00    2.100000        15287  united kingdom   \n",
              "3768 2010-12-01 11:57:00    1.250000        13057  united kingdom   \n",
              "2490 2011-05-11 13:20:00   12.332968        14277          france   \n",
              "1742 2010-12-01 12:43:00    0.850331        14729  united kingdom   \n",
              "447  2011-01-16 16:23:00    2.495000        17517  united kingdom   \n",
              "4147 2010-12-01 17:06:00    3.307500        15287  united kingdom   \n",
              "554  2011-07-04 10:17:00    2.732905        15287  united kingdom   \n",
              "3289 2011-01-30 14:05:00    2.950000        13148  united kingdom   \n",
              "4098 2011-07-20 14:39:00    0.420000        17511  united kingdom   \n",
              "3464 2010-12-01 13:21:00    1.949207        17517  united kingdom   \n",
              "\n",
              "           category  \n",
              "1547    Accessories  \n",
              "3768  Miscellaneous  \n",
              "2490  Miscellaneous  \n",
              "1742  Miscellaneous  \n",
              "447   Miscellaneous  \n",
              "4147    Decorations  \n",
              "554   Miscellaneous  \n",
              "3289  Miscellaneous  \n",
              "4098  Miscellaneous  \n",
              "3464  Miscellaneous  "
            ]
          },
          "execution_count": 23,
          "metadata": {},
          "output_type": "execute_result"
        }
      ],
      "source": [
        "# Display a sample of the data to see different descriptions and their categories\n",
        "df_grouped.sample(10)"
      ]
    },
    {
      "cell_type": "code",
      "execution_count": 24,
      "metadata": {},
      "outputs": [
        {
          "data": {
            "text/plain": [
              "array(['Stationery', 'Miscellaneous', 'Kitchenware', 'Toys', 'Candles',\n",
              "       'Decorations', 'Decorations Stationery', 'Accessories',\n",
              "       'Stationery Accessories', 'Electronics', 'Clothing',\n",
              "       'Decorations Electronics', 'Decorations Clothing', 'Furniture',\n",
              "       'Kitchenware Electronics', 'Furniture Electronics',\n",
              "       'Kitchenware Accessories', 'Candles Electronics',\n",
              "       'Toys Accessories', 'Kitchenware Toys', 'Decorations Toys',\n",
              "       'Stationery Electronics', 'Toys Clothing',\n",
              "       'Kitchenware Stationery', 'Candles Kitchenware',\n",
              "       'Stationery Furniture', 'Stationery Toys', 'Decorations Furniture',\n",
              "       'Kitchenware Furniture'], dtype=object)"
            ]
          },
          "execution_count": 24,
          "metadata": {},
          "output_type": "execute_result"
        }
      ],
      "source": [
        "df_grouped['category'].unique()"
      ]
    },
    {
      "cell_type": "code",
      "execution_count": 25,
      "metadata": {},
      "outputs": [
        {
          "data": {
            "text/plain": [
              "description     4031\n",
              "stock_code      3802\n",
              "quantity        1760\n",
              "invoice_date    1395\n",
              "unit_price      3442\n",
              "customer_id      654\n",
              "country           20\n",
              "category          29\n",
              "dtype: int64"
            ]
          },
          "execution_count": 25,
          "metadata": {},
          "output_type": "execute_result"
        }
      ],
      "source": [
        "df_grouped.nunique()"
      ]
    },
    {
      "cell_type": "code",
      "execution_count": 26,
      "metadata": {
        "id": "puZJydCk-_kr"
      },
      "outputs": [
        {
          "data": {
            "text/plain": [
              "['Accessories',\n",
              " 'Stationery',\n",
              " 'Electronics',\n",
              " 'Candles',\n",
              " 'Kitchenware',\n",
              " 'Miscellaneous',\n",
              " 'Furniture',\n",
              " 'Decorations',\n",
              " 'Clothing',\n",
              " 'Toys']"
            ]
          },
          "execution_count": 26,
          "metadata": {},
          "output_type": "execute_result"
        }
      ],
      "source": [
        "Category = ' '\n",
        "for g in df_grouped['category']:\n",
        "  Category += g+' '\n",
        "\n",
        "Category = list(set(Category.split(' ')))[1:]\n",
        "\n",
        "Category"
      ]
    },
    {
      "cell_type": "code",
      "execution_count": 27,
      "metadata": {
        "id": "zxJT0-vPBEAO"
      },
      "outputs": [],
      "source": [
        "gen_desc = [[] for i in range(len(Category))]\n",
        "\n",
        "for dat in df_grouped['category']:\n",
        "  for i,g in enumerate(Category):\n",
        "    if g in dat.split(' '):\n",
        "      gen_desc[i].append(1)\n",
        "    else:\n",
        "      gen_desc[i].append(0)"
      ]
    },
    {
      "cell_type": "code",
      "execution_count": 28,
      "metadata": {
        "id": "Wkgi_On4MARj"
      },
      "outputs": [
        {
          "data": {
            "text/html": [
              "<div>\n",
              "<style scoped>\n",
              "    .dataframe tbody tr th:only-of-type {\n",
              "        vertical-align: middle;\n",
              "    }\n",
              "\n",
              "    .dataframe tbody tr th {\n",
              "        vertical-align: top;\n",
              "    }\n",
              "\n",
              "    .dataframe thead th {\n",
              "        text-align: right;\n",
              "    }\n",
              "</style>\n",
              "<table border=\"1\" class=\"dataframe\">\n",
              "  <thead>\n",
              "    <tr style=\"text-align: right;\">\n",
              "      <th></th>\n",
              "      <th>Accessories</th>\n",
              "      <th>Stationery</th>\n",
              "      <th>Electronics</th>\n",
              "      <th>Candles</th>\n",
              "      <th>Kitchenware</th>\n",
              "      <th>Miscellaneous</th>\n",
              "      <th>Furniture</th>\n",
              "      <th>Decorations</th>\n",
              "      <th>Clothing</th>\n",
              "      <th>Toys</th>\n",
              "    </tr>\n",
              "  </thead>\n",
              "  <tbody>\n",
              "    <tr>\n",
              "      <th>0</th>\n",
              "      <td>0</td>\n",
              "      <td>1</td>\n",
              "      <td>0</td>\n",
              "      <td>0</td>\n",
              "      <td>0</td>\n",
              "      <td>0</td>\n",
              "      <td>0</td>\n",
              "      <td>0</td>\n",
              "      <td>0</td>\n",
              "      <td>0</td>\n",
              "    </tr>\n",
              "    <tr>\n",
              "      <th>1</th>\n",
              "      <td>0</td>\n",
              "      <td>0</td>\n",
              "      <td>0</td>\n",
              "      <td>0</td>\n",
              "      <td>0</td>\n",
              "      <td>1</td>\n",
              "      <td>0</td>\n",
              "      <td>0</td>\n",
              "      <td>0</td>\n",
              "      <td>0</td>\n",
              "    </tr>\n",
              "    <tr>\n",
              "      <th>2</th>\n",
              "      <td>0</td>\n",
              "      <td>0</td>\n",
              "      <td>0</td>\n",
              "      <td>0</td>\n",
              "      <td>0</td>\n",
              "      <td>1</td>\n",
              "      <td>0</td>\n",
              "      <td>0</td>\n",
              "      <td>0</td>\n",
              "      <td>0</td>\n",
              "    </tr>\n",
              "    <tr>\n",
              "      <th>3</th>\n",
              "      <td>0</td>\n",
              "      <td>0</td>\n",
              "      <td>0</td>\n",
              "      <td>0</td>\n",
              "      <td>0</td>\n",
              "      <td>1</td>\n",
              "      <td>0</td>\n",
              "      <td>0</td>\n",
              "      <td>0</td>\n",
              "      <td>0</td>\n",
              "    </tr>\n",
              "    <tr>\n",
              "      <th>4</th>\n",
              "      <td>0</td>\n",
              "      <td>0</td>\n",
              "      <td>0</td>\n",
              "      <td>0</td>\n",
              "      <td>0</td>\n",
              "      <td>1</td>\n",
              "      <td>0</td>\n",
              "      <td>0</td>\n",
              "      <td>0</td>\n",
              "      <td>0</td>\n",
              "    </tr>\n",
              "    <tr>\n",
              "      <th>...</th>\n",
              "      <td>...</td>\n",
              "      <td>...</td>\n",
              "      <td>...</td>\n",
              "      <td>...</td>\n",
              "      <td>...</td>\n",
              "      <td>...</td>\n",
              "      <td>...</td>\n",
              "      <td>...</td>\n",
              "      <td>...</td>\n",
              "      <td>...</td>\n",
              "    </tr>\n",
              "    <tr>\n",
              "      <th>4026</th>\n",
              "      <td>0</td>\n",
              "      <td>0</td>\n",
              "      <td>1</td>\n",
              "      <td>0</td>\n",
              "      <td>0</td>\n",
              "      <td>0</td>\n",
              "      <td>0</td>\n",
              "      <td>1</td>\n",
              "      <td>0</td>\n",
              "      <td>0</td>\n",
              "    </tr>\n",
              "    <tr>\n",
              "      <th>4027</th>\n",
              "      <td>0</td>\n",
              "      <td>0</td>\n",
              "      <td>0</td>\n",
              "      <td>0</td>\n",
              "      <td>0</td>\n",
              "      <td>1</td>\n",
              "      <td>0</td>\n",
              "      <td>0</td>\n",
              "      <td>0</td>\n",
              "      <td>0</td>\n",
              "    </tr>\n",
              "    <tr>\n",
              "      <th>4028</th>\n",
              "      <td>0</td>\n",
              "      <td>0</td>\n",
              "      <td>0</td>\n",
              "      <td>0</td>\n",
              "      <td>0</td>\n",
              "      <td>1</td>\n",
              "      <td>0</td>\n",
              "      <td>0</td>\n",
              "      <td>0</td>\n",
              "      <td>0</td>\n",
              "    </tr>\n",
              "    <tr>\n",
              "      <th>4029</th>\n",
              "      <td>0</td>\n",
              "      <td>0</td>\n",
              "      <td>0</td>\n",
              "      <td>0</td>\n",
              "      <td>0</td>\n",
              "      <td>1</td>\n",
              "      <td>0</td>\n",
              "      <td>0</td>\n",
              "      <td>0</td>\n",
              "      <td>0</td>\n",
              "    </tr>\n",
              "    <tr>\n",
              "      <th>4030</th>\n",
              "      <td>0</td>\n",
              "      <td>0</td>\n",
              "      <td>0</td>\n",
              "      <td>0</td>\n",
              "      <td>0</td>\n",
              "      <td>1</td>\n",
              "      <td>0</td>\n",
              "      <td>0</td>\n",
              "      <td>0</td>\n",
              "      <td>0</td>\n",
              "    </tr>\n",
              "  </tbody>\n",
              "</table>\n",
              "<p>4031 rows × 10 columns</p>\n",
              "</div>"
            ],
            "text/plain": [
              "      Accessories  Stationery  Electronics  Candles  Kitchenware  \\\n",
              "0               0           1            0        0            0   \n",
              "1               0           0            0        0            0   \n",
              "2               0           0            0        0            0   \n",
              "3               0           0            0        0            0   \n",
              "4               0           0            0        0            0   \n",
              "...           ...         ...          ...      ...          ...   \n",
              "4026            0           0            1        0            0   \n",
              "4027            0           0            0        0            0   \n",
              "4028            0           0            0        0            0   \n",
              "4029            0           0            0        0            0   \n",
              "4030            0           0            0        0            0   \n",
              "\n",
              "      Miscellaneous  Furniture  Decorations  Clothing  Toys  \n",
              "0                 0          0            0         0     0  \n",
              "1                 1          0            0         0     0  \n",
              "2                 1          0            0         0     0  \n",
              "3                 1          0            0         0     0  \n",
              "4                 1          0            0         0     0  \n",
              "...             ...        ...          ...       ...   ...  \n",
              "4026              0          0            1         0     0  \n",
              "4027              1          0            0         0     0  \n",
              "4028              1          0            0         0     0  \n",
              "4029              1          0            0         0     0  \n",
              "4030              1          0            0         0     0  \n",
              "\n",
              "[4031 rows x 10 columns]"
            ]
          },
          "execution_count": 28,
          "metadata": {},
          "output_type": "execute_result"
        }
      ],
      "source": [
        "gen_mv_dat = pd.DataFrame(np.array(gen_desc).T,columns=Category)\n",
        "gen_mv_dat"
      ]
    },
    {
      "cell_type": "code",
      "execution_count": 29,
      "metadata": {},
      "outputs": [
        {
          "data": {
            "text/html": [
              "<div>\n",
              "<style scoped>\n",
              "    .dataframe tbody tr th:only-of-type {\n",
              "        vertical-align: middle;\n",
              "    }\n",
              "\n",
              "    .dataframe tbody tr th {\n",
              "        vertical-align: top;\n",
              "    }\n",
              "\n",
              "    .dataframe thead th {\n",
              "        text-align: right;\n",
              "    }\n",
              "</style>\n",
              "<table border=\"1\" class=\"dataframe\">\n",
              "  <thead>\n",
              "    <tr style=\"text-align: right;\">\n",
              "      <th></th>\n",
              "      <th>Accessories</th>\n",
              "      <th>Stationery</th>\n",
              "      <th>Electronics</th>\n",
              "      <th>Candles</th>\n",
              "      <th>Kitchenware</th>\n",
              "      <th>Miscellaneous</th>\n",
              "      <th>Furniture</th>\n",
              "      <th>Decorations</th>\n",
              "      <th>Clothing</th>\n",
              "      <th>Toys</th>\n",
              "    </tr>\n",
              "    <tr>\n",
              "      <th>description</th>\n",
              "      <th></th>\n",
              "      <th></th>\n",
              "      <th></th>\n",
              "      <th></th>\n",
              "      <th></th>\n",
              "      <th></th>\n",
              "      <th></th>\n",
              "      <th></th>\n",
              "      <th></th>\n",
              "      <th></th>\n",
              "    </tr>\n",
              "  </thead>\n",
              "  <tbody>\n",
              "    <tr>\n",
              "      <th>10 colour spaceboy pen</th>\n",
              "      <td>0</td>\n",
              "      <td>1</td>\n",
              "      <td>0</td>\n",
              "      <td>0</td>\n",
              "      <td>0</td>\n",
              "      <td>0</td>\n",
              "      <td>0</td>\n",
              "      <td>0</td>\n",
              "      <td>0</td>\n",
              "      <td>0</td>\n",
              "    </tr>\n",
              "    <tr>\n",
              "      <th>12 coloured party balloons</th>\n",
              "      <td>0</td>\n",
              "      <td>0</td>\n",
              "      <td>0</td>\n",
              "      <td>0</td>\n",
              "      <td>0</td>\n",
              "      <td>1</td>\n",
              "      <td>0</td>\n",
              "      <td>0</td>\n",
              "      <td>0</td>\n",
              "      <td>0</td>\n",
              "    </tr>\n",
              "    <tr>\n",
              "      <th>12 daisy pegs in wood box</th>\n",
              "      <td>0</td>\n",
              "      <td>0</td>\n",
              "      <td>0</td>\n",
              "      <td>0</td>\n",
              "      <td>0</td>\n",
              "      <td>1</td>\n",
              "      <td>0</td>\n",
              "      <td>0</td>\n",
              "      <td>0</td>\n",
              "      <td>0</td>\n",
              "    </tr>\n",
              "    <tr>\n",
              "      <th>12 egg house painted wood</th>\n",
              "      <td>0</td>\n",
              "      <td>0</td>\n",
              "      <td>0</td>\n",
              "      <td>0</td>\n",
              "      <td>0</td>\n",
              "      <td>1</td>\n",
              "      <td>0</td>\n",
              "      <td>0</td>\n",
              "      <td>0</td>\n",
              "      <td>0</td>\n",
              "    </tr>\n",
              "    <tr>\n",
              "      <th>12 hanging eggs hand painted</th>\n",
              "      <td>0</td>\n",
              "      <td>0</td>\n",
              "      <td>0</td>\n",
              "      <td>0</td>\n",
              "      <td>0</td>\n",
              "      <td>1</td>\n",
              "      <td>0</td>\n",
              "      <td>0</td>\n",
              "      <td>0</td>\n",
              "      <td>0</td>\n",
              "    </tr>\n",
              "    <tr>\n",
              "      <th>...</th>\n",
              "      <td>...</td>\n",
              "      <td>...</td>\n",
              "      <td>...</td>\n",
              "      <td>...</td>\n",
              "      <td>...</td>\n",
              "      <td>...</td>\n",
              "      <td>...</td>\n",
              "      <td>...</td>\n",
              "      <td>...</td>\n",
              "      <td>...</td>\n",
              "    </tr>\n",
              "    <tr>\n",
              "      <th>zinc t-light holder stars small</th>\n",
              "      <td>0</td>\n",
              "      <td>0</td>\n",
              "      <td>1</td>\n",
              "      <td>0</td>\n",
              "      <td>0</td>\n",
              "      <td>0</td>\n",
              "      <td>0</td>\n",
              "      <td>1</td>\n",
              "      <td>0</td>\n",
              "      <td>0</td>\n",
              "    </tr>\n",
              "    <tr>\n",
              "      <th>zinc top  2 door wooden shelf</th>\n",
              "      <td>0</td>\n",
              "      <td>0</td>\n",
              "      <td>0</td>\n",
              "      <td>0</td>\n",
              "      <td>0</td>\n",
              "      <td>1</td>\n",
              "      <td>0</td>\n",
              "      <td>0</td>\n",
              "      <td>0</td>\n",
              "      <td>0</td>\n",
              "    </tr>\n",
              "    <tr>\n",
              "      <th>zinc willie winkie  candle stick</th>\n",
              "      <td>0</td>\n",
              "      <td>0</td>\n",
              "      <td>0</td>\n",
              "      <td>0</td>\n",
              "      <td>0</td>\n",
              "      <td>1</td>\n",
              "      <td>0</td>\n",
              "      <td>0</td>\n",
              "      <td>0</td>\n",
              "      <td>0</td>\n",
              "    </tr>\n",
              "    <tr>\n",
              "      <th>zinc wire kitchen organiser</th>\n",
              "      <td>0</td>\n",
              "      <td>0</td>\n",
              "      <td>0</td>\n",
              "      <td>0</td>\n",
              "      <td>0</td>\n",
              "      <td>1</td>\n",
              "      <td>0</td>\n",
              "      <td>0</td>\n",
              "      <td>0</td>\n",
              "      <td>0</td>\n",
              "    </tr>\n",
              "    <tr>\n",
              "      <th>zinc wire sweetheart letter tray</th>\n",
              "      <td>0</td>\n",
              "      <td>0</td>\n",
              "      <td>0</td>\n",
              "      <td>0</td>\n",
              "      <td>0</td>\n",
              "      <td>1</td>\n",
              "      <td>0</td>\n",
              "      <td>0</td>\n",
              "      <td>0</td>\n",
              "      <td>0</td>\n",
              "    </tr>\n",
              "  </tbody>\n",
              "</table>\n",
              "<p>4031 rows × 10 columns</p>\n",
              "</div>"
            ],
            "text/plain": [
              "                                  Accessories  Stationery  Electronics  \\\n",
              "description                                                              \n",
              "10 colour spaceboy pen                      0           1            0   \n",
              "12 coloured party balloons                  0           0            0   \n",
              "12 daisy pegs in wood box                   0           0            0   \n",
              "12 egg house painted wood                   0           0            0   \n",
              "12 hanging eggs hand painted                0           0            0   \n",
              "...                                       ...         ...          ...   \n",
              "zinc t-light holder stars small             0           0            1   \n",
              "zinc top  2 door wooden shelf               0           0            0   \n",
              "zinc willie winkie  candle stick            0           0            0   \n",
              "zinc wire kitchen organiser                 0           0            0   \n",
              "zinc wire sweetheart letter tray            0           0            0   \n",
              "\n",
              "                                  Candles  Kitchenware  Miscellaneous  \\\n",
              "description                                                             \n",
              "10 colour spaceboy pen                  0            0              0   \n",
              "12 coloured party balloons              0            0              1   \n",
              "12 daisy pegs in wood box               0            0              1   \n",
              "12 egg house painted wood               0            0              1   \n",
              "12 hanging eggs hand painted            0            0              1   \n",
              "...                                   ...          ...            ...   \n",
              "zinc t-light holder stars small         0            0              0   \n",
              "zinc top  2 door wooden shelf           0            0              1   \n",
              "zinc willie winkie  candle stick        0            0              1   \n",
              "zinc wire kitchen organiser             0            0              1   \n",
              "zinc wire sweetheart letter tray        0            0              1   \n",
              "\n",
              "                                  Furniture  Decorations  Clothing  Toys  \n",
              "description                                                               \n",
              "10 colour spaceboy pen                    0            0         0     0  \n",
              "12 coloured party balloons                0            0         0     0  \n",
              "12 daisy pegs in wood box                 0            0         0     0  \n",
              "12 egg house painted wood                 0            0         0     0  \n",
              "12 hanging eggs hand painted              0            0         0     0  \n",
              "...                                     ...          ...       ...   ...  \n",
              "zinc t-light holder stars small           0            1         0     0  \n",
              "zinc top  2 door wooden shelf             0            0         0     0  \n",
              "zinc willie winkie  candle stick          0            0         0     0  \n",
              "zinc wire kitchen organiser               0            0         0     0  \n",
              "zinc wire sweetheart letter tray          0            0         0     0  \n",
              "\n",
              "[4031 rows x 10 columns]"
            ]
          },
          "execution_count": 29,
          "metadata": {},
          "output_type": "execute_result"
        }
      ],
      "source": [
        "title_df_grouped = df_grouped[['description']].reset_index(drop=True)\n",
        "df_grouped_vector = pd.concat([title_df_grouped,gen_mv_dat],axis=1)\n",
        "df_grouped_vector.set_index('description',inplace=True)\n",
        "df_grouped_vector\n"
      ]
    },
    {
      "cell_type": "code",
      "execution_count": 30,
      "metadata": {},
      "outputs": [],
      "source": [
        "def cosine_sim(vect1,vect2):\n",
        "  norm_1 = np.linalg.norm(vect1)\n",
        "  norm_2 = np.linalg.norm(vect2)\n",
        "\n",
        "  cos_sim = (vect1 @ vect2) / (norm_1 * norm_2)\n",
        "  return cos_sim"
      ]
    },
    {
      "cell_type": "code",
      "execution_count": 31,
      "metadata": {},
      "outputs": [
        {
          "data": {
            "text/html": [
              "<div>\n",
              "<style scoped>\n",
              "    .dataframe tbody tr th:only-of-type {\n",
              "        vertical-align: middle;\n",
              "    }\n",
              "\n",
              "    .dataframe tbody tr th {\n",
              "        vertical-align: top;\n",
              "    }\n",
              "\n",
              "    .dataframe thead th {\n",
              "        text-align: right;\n",
              "    }\n",
              "</style>\n",
              "<table border=\"1\" class=\"dataframe\">\n",
              "  <thead>\n",
              "    <tr style=\"text-align: right;\">\n",
              "      <th></th>\n",
              "      <th>description</th>\n",
              "      <th>category</th>\n",
              "    </tr>\n",
              "  </thead>\n",
              "  <tbody>\n",
              "    <tr>\n",
              "      <th>3980</th>\n",
              "      <td>white hanging heart t-light holder</td>\n",
              "      <td>Decorations Electronics</td>\n",
              "    </tr>\n",
              "  </tbody>\n",
              "</table>\n",
              "</div>"
            ],
            "text/plain": [
              "                             description                 category\n",
              "3980  white hanging heart t-light holder  Decorations Electronics"
            ]
          },
          "execution_count": 31,
          "metadata": {},
          "output_type": "execute_result"
        }
      ],
      "source": [
        "df_grouped[df_grouped['description']=='white hanging heart t-light holder'][['description','category']]"
      ]
    },
    {
      "cell_type": "code",
      "execution_count": 32,
      "metadata": {},
      "outputs": [
        {
          "data": {
            "text/html": [
              "<div>\n",
              "<style scoped>\n",
              "    .dataframe tbody tr th:only-of-type {\n",
              "        vertical-align: middle;\n",
              "    }\n",
              "\n",
              "    .dataframe tbody tr th {\n",
              "        vertical-align: top;\n",
              "    }\n",
              "\n",
              "    .dataframe thead th {\n",
              "        text-align: right;\n",
              "    }\n",
              "</style>\n",
              "<table border=\"1\" class=\"dataframe\">\n",
              "  <thead>\n",
              "    <tr style=\"text-align: right;\">\n",
              "      <th></th>\n",
              "      <th>description</th>\n",
              "      <th>category</th>\n",
              "    </tr>\n",
              "  </thead>\n",
              "  <tbody>\n",
              "    <tr>\n",
              "      <th>3988</th>\n",
              "      <td>white metal lantern</td>\n",
              "      <td>Miscellaneous</td>\n",
              "    </tr>\n",
              "  </tbody>\n",
              "</table>\n",
              "</div>"
            ],
            "text/plain": [
              "              description       category\n",
              "3988  white metal lantern  Miscellaneous"
            ]
          },
          "execution_count": 32,
          "metadata": {},
          "output_type": "execute_result"
        }
      ],
      "source": [
        "df_grouped[df_grouped['description']=='white metal lantern'][['description','category']]"
      ]
    },
    {
      "cell_type": "code",
      "execution_count": 33,
      "metadata": {},
      "outputs": [
        {
          "data": {
            "text/plain": [
              "0.0"
            ]
          },
          "execution_count": 33,
          "metadata": {},
          "output_type": "execute_result"
        }
      ],
      "source": [
        "cosine_sim(df_grouped_vector.loc['white hanging heart t-light holder'], df_grouped_vector.loc['white metal lantern'])"
      ]
    },
    {
      "cell_type": "code",
      "execution_count": 34,
      "metadata": {},
      "outputs": [],
      "source": [
        "def recsys(df_grouped, top_N):\n",
        "  cossim = pd.Series([cosine_sim(df_grouped_vector.loc[df_grouped],x) for x in df_grouped_vector.values],index=df_grouped_vector.index).drop(index=df_grouped)\n",
        "  print(f'You like {df_grouped}, so based on our recommender system, We recommend you to see:')\n",
        "  for i,mv in enumerate(cossim.sort_values(ascending=False)[:top_N].index):\n",
        "    print(f'{i+1}. {mv}')"
      ]
    },
    {
      "cell_type": "code",
      "execution_count": 35,
      "metadata": {},
      "outputs": [
        {
          "name": "stdout",
          "output_type": "stream",
          "text": [
            "You like white hanging heart t-light holder, so based on our recommender system, We recommend you to see:\n",
            "1. mirror love bird t-light holder\n",
            "2. heart trellistriple t-light holder\n",
            "3. heart t-light holder willie winkie\n"
          ]
        }
      ],
      "source": [
        "recsys('white hanging heart t-light holder',3)"
      ]
    }
  ],
  "metadata": {
    "colab": {
      "provenance": []
    },
    "kernelspec": {
      "display_name": "Python 3",
      "name": "python3"
    },
    "language_info": {
      "codemirror_mode": {
        "name": "ipython",
        "version": 3
      },
      "file_extension": ".py",
      "mimetype": "text/x-python",
      "name": "python",
      "nbconvert_exporter": "python",
      "pygments_lexer": "ipython3",
      "version": "3.11.7"
    }
  },
  "nbformat": 4,
  "nbformat_minor": 0
}
