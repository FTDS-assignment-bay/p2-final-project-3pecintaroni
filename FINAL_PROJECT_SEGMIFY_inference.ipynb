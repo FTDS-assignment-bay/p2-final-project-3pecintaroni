{
 "cells": [
  {
   "cell_type": "markdown",
   "metadata": {},
   "source": [
    "# Model Inference"
   ]
  },
  {
   "cell_type": "code",
   "execution_count": 2,
   "metadata": {},
   "outputs": [],
   "source": [
    "# import library \n",
    "import pandas as pd\n",
    "import pickle\n",
    "from datetime import datetime"
   ]
  },
  {
   "cell_type": "code",
   "execution_count": 3,
   "metadata": {},
   "outputs": [],
   "source": [
    "# load the files ! \n",
    "with open('model_scaler.pkl', 'rb') as file_1 : # rb = read binary\n",
    "    model_scaler = pickle.load(file_1)\n",
    "    \n",
    "with open('model_pca.pkl', 'rb') as file_2 : # rb = read binary\n",
    "    model_pca = pickle.load(file_2)\n",
    "    \n",
    "with open('model_km.pkl', 'rb') as file_3 : # rb = read binary\n",
    "    model_km = pickle.load(file_3)"
   ]
  },
  {
   "cell_type": "code",
   "execution_count": 4,
   "metadata": {},
   "outputs": [
    {
     "data": {
      "text/html": [
       "<div>\n",
       "<style scoped>\n",
       "    .dataframe tbody tr th:only-of-type {\n",
       "        vertical-align: middle;\n",
       "    }\n",
       "\n",
       "    .dataframe tbody tr th {\n",
       "        vertical-align: top;\n",
       "    }\n",
       "\n",
       "    .dataframe thead th {\n",
       "        text-align: right;\n",
       "    }\n",
       "</style>\n",
       "<table border=\"1\" class=\"dataframe\">\n",
       "  <thead>\n",
       "    <tr style=\"text-align: right;\">\n",
       "      <th></th>\n",
       "      <th>InvoiceNo</th>\n",
       "      <th>StockCode</th>\n",
       "      <th>Description</th>\n",
       "      <th>Quantity</th>\n",
       "      <th>InvoiceDate</th>\n",
       "      <th>UnitPrice</th>\n",
       "      <th>CustomerID</th>\n",
       "      <th>Country</th>\n",
       "    </tr>\n",
       "  </thead>\n",
       "  <tbody>\n",
       "    <tr>\n",
       "      <th>0</th>\n",
       "      <td>50000</td>\n",
       "      <td>20000A</td>\n",
       "      <td>WHITE HANGING HEART T-LIGHT HOLDER</td>\n",
       "      <td>6</td>\n",
       "      <td>12/1/2010 14:45</td>\n",
       "      <td>2.5</td>\n",
       "      <td>18000</td>\n",
       "      <td>France</td>\n",
       "    </tr>\n",
       "  </tbody>\n",
       "</table>\n",
       "</div>"
      ],
      "text/plain": [
       "  InvoiceNo StockCode                         Description  Quantity  \\\n",
       "0     50000    20000A  WHITE HANGING HEART T-LIGHT HOLDER         6   \n",
       "\n",
       "       InvoiceDate  UnitPrice  CustomerID Country  \n",
       "0  12/1/2010 14:45        2.5       18000  France  "
      ]
     },
     "execution_count": 4,
     "metadata": {},
     "output_type": "execute_result"
    }
   ],
   "source": [
    "#Create new data\n",
    "df_inf = {\n",
    "    \"InvoiceNo\" : '50000',\n",
    "    \"StockCode\" : '20000A',\n",
    "    \"Description\" : 'WHITE HANGING HEART T-LIGHT HOLDER',\n",
    "    \"Quantity\" :6,\n",
    "    \"InvoiceDate\" :'12/1/2010 14:45',\n",
    "    \"UnitPrice\" :2.5,\n",
    "    \"CustomerID\" :18000,\n",
    "    \"Country\" : 'France'}\n",
    "\n",
    "# save to dataframe\n",
    "df_inf = pd.DataFrame([df_inf])\n",
    "df_inf"
   ]
  },
  {
   "cell_type": "code",
   "execution_count": 5,
   "metadata": {},
   "outputs": [
    {
     "data": {
      "text/html": [
       "<div>\n",
       "<style scoped>\n",
       "    .dataframe tbody tr th:only-of-type {\n",
       "        vertical-align: middle;\n",
       "    }\n",
       "\n",
       "    .dataframe tbody tr th {\n",
       "        vertical-align: top;\n",
       "    }\n",
       "\n",
       "    .dataframe thead th {\n",
       "        text-align: right;\n",
       "    }\n",
       "</style>\n",
       "<table border=\"1\" class=\"dataframe\">\n",
       "  <thead>\n",
       "    <tr style=\"text-align: right;\">\n",
       "      <th></th>\n",
       "      <th>InvoiceNo</th>\n",
       "      <th>StockCode</th>\n",
       "      <th>Description</th>\n",
       "      <th>Quantity</th>\n",
       "      <th>InvoiceDate</th>\n",
       "      <th>UnitPrice</th>\n",
       "      <th>CustomerID</th>\n",
       "      <th>Country</th>\n",
       "      <th>InvoiceDates</th>\n",
       "      <th>InvoiceTime</th>\n",
       "      <th>TotalPrice</th>\n",
       "    </tr>\n",
       "  </thead>\n",
       "  <tbody>\n",
       "    <tr>\n",
       "      <th>0</th>\n",
       "      <td>50000</td>\n",
       "      <td>20000A</td>\n",
       "      <td>WHITE HANGING HEART T-LIGHT HOLDER</td>\n",
       "      <td>6</td>\n",
       "      <td>2010-12-01 14:45:00</td>\n",
       "      <td>2.5</td>\n",
       "      <td>18000</td>\n",
       "      <td>France</td>\n",
       "      <td>2010-12-01</td>\n",
       "      <td>14:45</td>\n",
       "      <td>15.0</td>\n",
       "    </tr>\n",
       "  </tbody>\n",
       "</table>\n",
       "</div>"
      ],
      "text/plain": [
       "  InvoiceNo StockCode                         Description  Quantity  \\\n",
       "0     50000    20000A  WHITE HANGING HEART T-LIGHT HOLDER         6   \n",
       "\n",
       "          InvoiceDate  UnitPrice  CustomerID Country InvoiceDates InvoiceTime  \\\n",
       "0 2010-12-01 14:45:00        2.5       18000  France   2010-12-01       14:45   \n",
       "\n",
       "   TotalPrice  \n",
       "0        15.0  "
      ]
     },
     "execution_count": 5,
     "metadata": {},
     "output_type": "execute_result"
    }
   ],
   "source": [
    "dateLengths = df_inf.InvoiceDate.str.len()\n",
    "dateLengths.value_counts()\n",
    "\n",
    "df_inf[\"InvoiceDate\"] = pd.to_datetime(df_inf[\"InvoiceDate\"], format=\"%m/%d/%Y %H:%M\")\n",
    "df_inf[\"InvoiceDates\"] = df_inf[\"InvoiceDate\"].dt.strftime(\"%m/%d/%Y\")\n",
    "df_inf[\"InvoiceDates\"] = pd.to_datetime(df_inf[\"InvoiceDates\"], format=\"%m/%d/%Y\")\n",
    "df_inf[\"InvoiceTime\"] = df_inf[\"InvoiceDate\"].dt.strftime(\"%H:%M\")\n",
    "\n",
    "\n",
    "#Calculating the TotalPrice per order (UnitPrice and Quantity)\n",
    "df_inf[\"TotalPrice\"] = df_inf[\"Quantity\"]*df_inf[\"UnitPrice\"]\n",
    "\n",
    "\n",
    "df_inf"
   ]
  },
  {
   "cell_type": "code",
   "execution_count": 6,
   "metadata": {},
   "outputs": [],
   "source": [
    "current = pd.Timestamp(datetime(2011, 11, 28))"
   ]
  },
  {
   "cell_type": "code",
   "execution_count": 7,
   "metadata": {},
   "outputs": [
    {
     "name": "stdout",
     "output_type": "stream",
     "text": [
      "<class 'pandas.core.frame.DataFrame'>\n",
      "RangeIndex: 1 entries, 0 to 0\n",
      "Data columns (total 11 columns):\n",
      " #   Column        Non-Null Count  Dtype         \n",
      "---  ------        --------------  -----         \n",
      " 0   InvoiceNo     1 non-null      object        \n",
      " 1   StockCode     1 non-null      object        \n",
      " 2   Description   1 non-null      object        \n",
      " 3   Quantity      1 non-null      int64         \n",
      " 4   InvoiceDate   1 non-null      datetime64[ns]\n",
      " 5   UnitPrice     1 non-null      float64       \n",
      " 6   CustomerID    1 non-null      int64         \n",
      " 7   Country       1 non-null      object        \n",
      " 8   InvoiceDates  1 non-null      datetime64[ns]\n",
      " 9   InvoiceTime   1 non-null      object        \n",
      " 10  TotalPrice    1 non-null      float64       \n",
      "dtypes: datetime64[ns](2), float64(2), int64(2), object(5)\n",
      "memory usage: 220.0+ bytes\n"
     ]
    }
   ],
   "source": [
    "df_inf.info()"
   ]
  },
  {
   "cell_type": "code",
   "execution_count": 8,
   "metadata": {},
   "outputs": [
    {
     "data": {
      "text/html": [
       "<div>\n",
       "<style scoped>\n",
       "    .dataframe tbody tr th:only-of-type {\n",
       "        vertical-align: middle;\n",
       "    }\n",
       "\n",
       "    .dataframe tbody tr th {\n",
       "        vertical-align: top;\n",
       "    }\n",
       "\n",
       "    .dataframe thead th {\n",
       "        text-align: right;\n",
       "    }\n",
       "</style>\n",
       "<table border=\"1\" class=\"dataframe\">\n",
       "  <thead>\n",
       "    <tr style=\"text-align: right;\">\n",
       "      <th></th>\n",
       "      <th>InvoiceDates</th>\n",
       "      <th>InvoiceNo</th>\n",
       "      <th>TotalPrice</th>\n",
       "    </tr>\n",
       "    <tr>\n",
       "      <th>CustomerID</th>\n",
       "      <th></th>\n",
       "      <th></th>\n",
       "      <th></th>\n",
       "    </tr>\n",
       "  </thead>\n",
       "  <tbody>\n",
       "    <tr>\n",
       "      <th>18000</th>\n",
       "      <td>362</td>\n",
       "      <td>1</td>\n",
       "      <td>15.0</td>\n",
       "    </tr>\n",
       "  </tbody>\n",
       "</table>\n",
       "</div>"
      ],
      "text/plain": [
       "            InvoiceDates  InvoiceNo  TotalPrice\n",
       "CustomerID                                     \n",
       "18000                362          1        15.0"
      ]
     },
     "execution_count": 8,
     "metadata": {},
     "output_type": "execute_result"
    }
   ],
   "source": [
    "RFMScore = df_inf.groupby('CustomerID').agg({'InvoiceDates': lambda x: (current - x.max()).days,\n",
    "                                            'InvoiceNo': lambda x: x.count(),\n",
    "                                            'TotalPrice': lambda x: x.sum()\n",
    "                                            })\n",
    "\n",
    "RFMScore"
   ]
  },
  {
   "cell_type": "code",
   "execution_count": 9,
   "metadata": {},
   "outputs": [
    {
     "data": {
      "text/html": [
       "<div>\n",
       "<style scoped>\n",
       "    .dataframe tbody tr th:only-of-type {\n",
       "        vertical-align: middle;\n",
       "    }\n",
       "\n",
       "    .dataframe tbody tr th {\n",
       "        vertical-align: top;\n",
       "    }\n",
       "\n",
       "    .dataframe thead th {\n",
       "        text-align: right;\n",
       "    }\n",
       "</style>\n",
       "<table border=\"1\" class=\"dataframe\">\n",
       "  <thead>\n",
       "    <tr style=\"text-align: right;\">\n",
       "      <th></th>\n",
       "      <th>Recency</th>\n",
       "      <th>Frequency</th>\n",
       "      <th>Monetary</th>\n",
       "    </tr>\n",
       "    <tr>\n",
       "      <th>CustomerID</th>\n",
       "      <th></th>\n",
       "      <th></th>\n",
       "      <th></th>\n",
       "    </tr>\n",
       "  </thead>\n",
       "  <tbody>\n",
       "    <tr>\n",
       "      <th>18000</th>\n",
       "      <td>362</td>\n",
       "      <td>1</td>\n",
       "      <td>15.0</td>\n",
       "    </tr>\n",
       "  </tbody>\n",
       "</table>\n",
       "</div>"
      ],
      "text/plain": [
       "            Recency  Frequency  Monetary\n",
       "CustomerID                              \n",
       "18000           362          1      15.0"
      ]
     },
     "execution_count": 9,
     "metadata": {},
     "output_type": "execute_result"
    }
   ],
   "source": [
    "RFMScore.rename(columns={'InvoiceDates':'Recency','InvoiceNo':'Frequency','TotalPrice':'Monetary'},inplace = True)\n",
    "RFMScore"
   ]
  },
  {
   "cell_type": "code",
   "execution_count": 10,
   "metadata": {},
   "outputs": [],
   "source": [
    "# Function\n",
    "\n",
    "def RecencyScore(x):\n",
    "    if x <= (-357.0):\n",
    "        return 1\n",
    "    elif x <= (-323.0):\n",
    "        return 2\n",
    "    elif x <= (-230.0):\n",
    "        return 3\n",
    "    else:\n",
    "        return 4\n",
    "\n",
    "def FreqScore(x):\n",
    "    if x <= 17.00:\n",
    "        return 4\n",
    "    elif x <= 41.00:\n",
    "        return 3\n",
    "    elif x <= 99.25:\n",
    "        return 2\n",
    "    else:\n",
    "        return 1\n",
    "\n",
    "def MonetScore(x):\n",
    "    if x <= 291.795:\n",
    "        return 4\n",
    "    elif x <= 644.070:\n",
    "        return 3\n",
    "    elif x <= 1608.335:\n",
    "        return 2\n",
    "    else:\n",
    "        return 1"
   ]
  },
  {
   "cell_type": "code",
   "execution_count": 11,
   "metadata": {},
   "outputs": [
    {
     "data": {
      "text/html": [
       "<div>\n",
       "<style scoped>\n",
       "    .dataframe tbody tr th:only-of-type {\n",
       "        vertical-align: middle;\n",
       "    }\n",
       "\n",
       "    .dataframe tbody tr th {\n",
       "        vertical-align: top;\n",
       "    }\n",
       "\n",
       "    .dataframe thead th {\n",
       "        text-align: right;\n",
       "    }\n",
       "</style>\n",
       "<table border=\"1\" class=\"dataframe\">\n",
       "  <thead>\n",
       "    <tr style=\"text-align: right;\">\n",
       "      <th></th>\n",
       "      <th>Recency</th>\n",
       "      <th>Frequency</th>\n",
       "      <th>Monetary</th>\n",
       "      <th>R</th>\n",
       "      <th>F</th>\n",
       "      <th>M</th>\n",
       "    </tr>\n",
       "    <tr>\n",
       "      <th>CustomerID</th>\n",
       "      <th></th>\n",
       "      <th></th>\n",
       "      <th></th>\n",
       "      <th></th>\n",
       "      <th></th>\n",
       "      <th></th>\n",
       "    </tr>\n",
       "  </thead>\n",
       "  <tbody>\n",
       "    <tr>\n",
       "      <th>18000</th>\n",
       "      <td>362</td>\n",
       "      <td>1</td>\n",
       "      <td>15.0</td>\n",
       "      <td>4</td>\n",
       "      <td>4</td>\n",
       "      <td>4</td>\n",
       "    </tr>\n",
       "  </tbody>\n",
       "</table>\n",
       "</div>"
      ],
      "text/plain": [
       "            Recency  Frequency  Monetary  R  F  M\n",
       "CustomerID                                       \n",
       "18000           362          1      15.0  4  4  4"
      ]
     },
     "execution_count": 11,
     "metadata": {},
     "output_type": "execute_result"
    }
   ],
   "source": [
    "# Applying the created function on the respective columns\n",
    "'''\n",
    "Recency_Score(x,p,d):\n",
    "x = value\n",
    "p = recency, monetary_value, frequency\n",
    "d = quartiles dict\n",
    "'''\n",
    "RFMScore['R'] = RFMScore['Recency'].apply(RecencyScore )\n",
    "RFMScore['F'] = RFMScore['Frequency'].apply(FreqScore  )\n",
    "RFMScore['M'] = RFMScore['Monetary'].apply(MonetScore)\n",
    "\n",
    "# Display the DataFrame of RFM\n",
    "RFMScore"
   ]
  },
  {
   "cell_type": "code",
   "execution_count": 12,
   "metadata": {},
   "outputs": [
    {
     "data": {
      "text/html": [
       "<div>\n",
       "<style scoped>\n",
       "    .dataframe tbody tr th:only-of-type {\n",
       "        vertical-align: middle;\n",
       "    }\n",
       "\n",
       "    .dataframe tbody tr th {\n",
       "        vertical-align: top;\n",
       "    }\n",
       "\n",
       "    .dataframe thead th {\n",
       "        text-align: right;\n",
       "    }\n",
       "</style>\n",
       "<table border=\"1\" class=\"dataframe\">\n",
       "  <thead>\n",
       "    <tr style=\"text-align: right;\">\n",
       "      <th></th>\n",
       "      <th>CustomerID</th>\n",
       "      <th>Recency</th>\n",
       "      <th>Frequency</th>\n",
       "      <th>Monetary</th>\n",
       "      <th>R</th>\n",
       "      <th>F</th>\n",
       "      <th>M</th>\n",
       "      <th>RFMValue</th>\n",
       "      <th>RFMGroup</th>\n",
       "    </tr>\n",
       "  </thead>\n",
       "  <tbody>\n",
       "    <tr>\n",
       "      <th>0</th>\n",
       "      <td>18000</td>\n",
       "      <td>362</td>\n",
       "      <td>1</td>\n",
       "      <td>15.0</td>\n",
       "      <td>4</td>\n",
       "      <td>4</td>\n",
       "      <td>4</td>\n",
       "      <td>12</td>\n",
       "      <td>444</td>\n",
       "    </tr>\n",
       "  </tbody>\n",
       "</table>\n",
       "</div>"
      ],
      "text/plain": [
       "   CustomerID  Recency  Frequency  Monetary  R  F  M  RFMValue  RFMGroup\n",
       "0       18000      362          1      15.0  4  4  4        12       444"
      ]
     },
     "execution_count": 12,
     "metadata": {},
     "output_type": "execute_result"
    }
   ],
   "source": [
    "#Creating a new field 'RFMValue' to split the customers into 10 segments\n",
    "RFMScore['RFMValue'] = RFMScore[['R','F','M']].sum(axis = 1)\n",
    "RFMScore['RFMGroup'] = RFMScore.R.map(str) + RFMScore.F.map(str) + RFMScore.M.map(str)\n",
    "RFMScore['RFMGroup'] = RFMScore['RFMGroup'].astype(int)\n",
    "RFMScore.reset_index()"
   ]
  },
  {
   "cell_type": "code",
   "execution_count": 13,
   "metadata": {},
   "outputs": [
    {
     "data": {
      "text/html": [
       "<div>\n",
       "<style scoped>\n",
       "    .dataframe tbody tr th:only-of-type {\n",
       "        vertical-align: middle;\n",
       "    }\n",
       "\n",
       "    .dataframe tbody tr th {\n",
       "        vertical-align: top;\n",
       "    }\n",
       "\n",
       "    .dataframe thead th {\n",
       "        text-align: right;\n",
       "    }\n",
       "</style>\n",
       "<table border=\"1\" class=\"dataframe\">\n",
       "  <thead>\n",
       "    <tr style=\"text-align: right;\">\n",
       "      <th></th>\n",
       "      <th>Recency</th>\n",
       "      <th>Frequency</th>\n",
       "      <th>Monetary</th>\n",
       "      <th>R</th>\n",
       "      <th>F</th>\n",
       "      <th>M</th>\n",
       "    </tr>\n",
       "    <tr>\n",
       "      <th>CustomerID</th>\n",
       "      <th></th>\n",
       "      <th></th>\n",
       "      <th></th>\n",
       "      <th></th>\n",
       "      <th></th>\n",
       "      <th></th>\n",
       "    </tr>\n",
       "  </thead>\n",
       "  <tbody>\n",
       "    <tr>\n",
       "      <th>18000</th>\n",
       "      <td>362</td>\n",
       "      <td>1</td>\n",
       "      <td>15.0</td>\n",
       "      <td>4</td>\n",
       "      <td>4</td>\n",
       "      <td>4</td>\n",
       "    </tr>\n",
       "  </tbody>\n",
       "</table>\n",
       "</div>"
      ],
      "text/plain": [
       "            Recency  Frequency  Monetary  R  F  M\n",
       "CustomerID                                       \n",
       "18000           362          1      15.0  4  4  4"
      ]
     },
     "execution_count": 13,
     "metadata": {},
     "output_type": "execute_result"
    }
   ],
   "source": [
    "# melakukan scaling data\n",
    "RFMS_scaled = model_scaler.transform(RFMScore)\n",
    "RFMS_scaled = pd.DataFrame(RFMS_scaled, columns=RFMScore.columns)\n",
    "RFMS_scaled = RFMScore.drop(['RFMValue','RFMGroup'],axis=1)\n",
    "RFMS_scaled"
   ]
  },
  {
   "cell_type": "code",
   "execution_count": 14,
   "metadata": {},
   "outputs": [],
   "source": [
    "# menggunakan model PCA\n",
    "df_inf_pca = model_pca.transform(RFMS_scaled)"
   ]
  },
  {
   "cell_type": "code",
   "execution_count": 15,
   "metadata": {},
   "outputs": [
    {
     "name": "stdout",
     "output_type": "stream",
     "text": [
      "Customer class : Silver\n"
     ]
    }
   ],
   "source": [
    "# prediksi mengggunakan model Kmeans\n",
    "df_prediksi = model_km.predict(df_inf_pca)\n",
    "\n",
    "if df_prediksi == 0:\n",
    "    print(\"Customer class : Platinum\")\n",
    "elif df_prediksi == 1:\n",
    "    print(\"Customer class : Diamond\")\n",
    "elif df_prediksi == 2:\n",
    "    print(\"Customer class : Gold\")\n",
    "elif df_prediksi == 3:\n",
    "    print(\"Customer class : Silver\")\n"
   ]
  }
 ],
 "metadata": {
  "kernelspec": {
   "display_name": "base",
   "language": "python",
   "name": "python3"
  },
  "language_info": {
   "codemirror_mode": {
    "name": "ipython",
    "version": 3
   },
   "file_extension": ".py",
   "mimetype": "text/x-python",
   "name": "python",
   "nbconvert_exporter": "python",
   "pygments_lexer": "ipython3",
   "version": "3.11.7"
  }
 },
 "nbformat": 4,
 "nbformat_minor": 2
}
