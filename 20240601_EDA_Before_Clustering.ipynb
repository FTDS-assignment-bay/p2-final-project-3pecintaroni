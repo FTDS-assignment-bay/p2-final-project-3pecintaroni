{
  "cells": [
    {
      "cell_type": "code",
      "execution_count": 1,
      "metadata": {
        "id": "Db1LScSb0PSs"
      },
      "outputs": [],
      "source": [
        "# Import Libraries and Load Data\n",
        "\n",
        "import zipfile\n",
        "import os\n",
        "import pandas as pd\n",
        "import numpy as np\n",
        "import seaborn as sns\n",
        "import pickle\n",
        "\n",
        "from datetime import datetime\n",
        "from sklearn.preprocessing import MinMaxScaler, StandardScaler, OneHotEncoder\n",
        "import matplotlib.pyplot as plt\n",
        "from sklearn.decomposition import PCA\n",
        "from sklearn.cluster import KMeans\n",
        "from sklearn.metrics import silhouette_score, silhouette_samples\n",
        "from feature_engine.outliers import Winsorizer\n",
        "from sklearn.compose import ColumnTransformer\n",
        "from sklearn.pipeline import Pipeline"
      ]
    },
    {
      "cell_type": "markdown",
      "metadata": {
        "id": "N_LYQmlM3Hio"
      },
      "source": [
        "# ***Data Loading***"
      ]
    },
    {
      "cell_type": "code",
      "execution_count": 2,
      "metadata": {
        "colab": {
          "base_uri": "https://localhost:8080/"
        },
        "id": "oZ5U5p-h3J_n",
        "outputId": "46147f23-74f9-4b21-9bcd-81b85122409c"
      },
      "outputs": [],
      "source": [
        "# download dataset\n",
        "# !kaggle datasets download -d carrie1/ecommerce-data"
      ]
    },
    {
      "cell_type": "code",
      "execution_count": 3,
      "metadata": {
        "colab": {
          "base_uri": "https://localhost:8080/",
          "height": 53
        },
        "id": "bNBMlJcO3LTg",
        "outputId": "9678334a-269a-426c-8793-dbc0e2bd5425"
      },
      "outputs": [
        {
          "data": {
            "text/plain": [
              "'\\nThis code efficiently extracts all files from `ecommerce-data.zip` into\\na directory named `ecommerce-data`,\\nensuring proper handling of the file through the `with` statement.\\nThis is a common approach when dealing with compressed files in Python.\\n'"
            ]
          },
          "execution_count": 3,
          "metadata": {},
          "output_type": "execute_result"
        }
      ],
      "source": [
        "# with zipfile.ZipFile('ecommerce-data.zip', 'r') as zip_ref:\n",
        "#     zip_ref.extractall('ecommerce-data')\n",
        "'''\n",
        "This code efficiently extracts all files from `ecommerce-data.zip` into\n",
        "a directory named `ecommerce-data`,\n",
        "ensuring proper handling of the file through the `with` statement.\n",
        "This is a common approach when dealing with compressed files in Python.\n",
        "'''"
      ]
    },
    {
      "cell_type": "code",
      "execution_count": 4,
      "metadata": {
        "colab": {
          "base_uri": "https://localhost:8080/"
        },
        "id": "MQmeJdI93OOi",
        "outputId": "65e676f0-8f18-40cc-a450-3fc4559bf91d"
      },
      "outputs": [],
      "source": [
        "# List all files in the extracted directory\n",
        "# os.listdir('ecommerce-data')"
      ]
    },
    {
      "cell_type": "code",
      "execution_count": 5,
      "metadata": {
        "colab": {
          "base_uri": "https://localhost:8080/",
          "height": 363
        },
        "id": "E21yK-m_3Qmz",
        "outputId": "3bf7e100-5ea5-4974-9925-7645fb0f90f1"
      },
      "outputs": [
        {
          "data": {
            "text/html": [
              "<div>\n",
              "<style scoped>\n",
              "    .dataframe tbody tr th:only-of-type {\n",
              "        vertical-align: middle;\n",
              "    }\n",
              "\n",
              "    .dataframe tbody tr th {\n",
              "        vertical-align: top;\n",
              "    }\n",
              "\n",
              "    .dataframe thead th {\n",
              "        text-align: right;\n",
              "    }\n",
              "</style>\n",
              "<table border=\"1\" class=\"dataframe\">\n",
              "  <thead>\n",
              "    <tr style=\"text-align: right;\">\n",
              "      <th></th>\n",
              "      <th>InvoiceNo</th>\n",
              "      <th>StockCode</th>\n",
              "      <th>Description</th>\n",
              "      <th>Quantity</th>\n",
              "      <th>InvoiceDate</th>\n",
              "      <th>UnitPrice</th>\n",
              "      <th>CustomerID</th>\n",
              "      <th>Country</th>\n",
              "    </tr>\n",
              "  </thead>\n",
              "  <tbody>\n",
              "    <tr>\n",
              "      <th>0</th>\n",
              "      <td>536365</td>\n",
              "      <td>85123A</td>\n",
              "      <td>WHITE HANGING HEART T-LIGHT HOLDER</td>\n",
              "      <td>6</td>\n",
              "      <td>12/1/2010 8:26</td>\n",
              "      <td>2.55</td>\n",
              "      <td>17850.0</td>\n",
              "      <td>United Kingdom</td>\n",
              "    </tr>\n",
              "    <tr>\n",
              "      <th>1</th>\n",
              "      <td>536365</td>\n",
              "      <td>71053</td>\n",
              "      <td>WHITE METAL LANTERN</td>\n",
              "      <td>6</td>\n",
              "      <td>12/1/2010 8:26</td>\n",
              "      <td>3.39</td>\n",
              "      <td>17850.0</td>\n",
              "      <td>United Kingdom</td>\n",
              "    </tr>\n",
              "    <tr>\n",
              "      <th>2</th>\n",
              "      <td>536365</td>\n",
              "      <td>84406B</td>\n",
              "      <td>CREAM CUPID HEARTS COAT HANGER</td>\n",
              "      <td>8</td>\n",
              "      <td>12/1/2010 8:26</td>\n",
              "      <td>2.75</td>\n",
              "      <td>17850.0</td>\n",
              "      <td>United Kingdom</td>\n",
              "    </tr>\n",
              "    <tr>\n",
              "      <th>3</th>\n",
              "      <td>536365</td>\n",
              "      <td>84029G</td>\n",
              "      <td>KNITTED UNION FLAG HOT WATER BOTTLE</td>\n",
              "      <td>6</td>\n",
              "      <td>12/1/2010 8:26</td>\n",
              "      <td>3.39</td>\n",
              "      <td>17850.0</td>\n",
              "      <td>United Kingdom</td>\n",
              "    </tr>\n",
              "    <tr>\n",
              "      <th>4</th>\n",
              "      <td>536365</td>\n",
              "      <td>84029E</td>\n",
              "      <td>RED WOOLLY HOTTIE WHITE HEART.</td>\n",
              "      <td>6</td>\n",
              "      <td>12/1/2010 8:26</td>\n",
              "      <td>3.39</td>\n",
              "      <td>17850.0</td>\n",
              "      <td>United Kingdom</td>\n",
              "    </tr>\n",
              "  </tbody>\n",
              "</table>\n",
              "</div>"
            ],
            "text/plain": [
              "  InvoiceNo StockCode                          Description  Quantity  \\\n",
              "0    536365    85123A   WHITE HANGING HEART T-LIGHT HOLDER         6   \n",
              "1    536365     71053                  WHITE METAL LANTERN         6   \n",
              "2    536365    84406B       CREAM CUPID HEARTS COAT HANGER         8   \n",
              "3    536365    84029G  KNITTED UNION FLAG HOT WATER BOTTLE         6   \n",
              "4    536365    84029E       RED WOOLLY HOTTIE WHITE HEART.         6   \n",
              "\n",
              "      InvoiceDate  UnitPrice  CustomerID         Country  \n",
              "0  12/1/2010 8:26       2.55     17850.0  United Kingdom  \n",
              "1  12/1/2010 8:26       3.39     17850.0  United Kingdom  \n",
              "2  12/1/2010 8:26       2.75     17850.0  United Kingdom  \n",
              "3  12/1/2010 8:26       3.39     17850.0  United Kingdom  \n",
              "4  12/1/2010 8:26       3.39     17850.0  United Kingdom  "
            ]
          },
          "execution_count": 5,
          "metadata": {},
          "output_type": "execute_result"
        }
      ],
      "source": [
        "# Read the data\n",
        "df_ori = pd.read_csv('data.csv', encoding='ISO-8859-1')\n",
        "\n",
        "# duplicate dataset\n",
        "df = df_ori.copy()\n",
        "\n",
        "# Display the top 3 rows of the data\n",
        "df.head(5)"
      ]
    },
    {
      "cell_type": "code",
      "execution_count": 6,
      "metadata": {},
      "outputs": [
        {
          "name": "stdout",
          "output_type": "stream",
          "text": [
            "(541909, 8)\n"
          ]
        }
      ],
      "source": [
        "print(df.shape)"
      ]
    },
    {
      "cell_type": "code",
      "execution_count": 7,
      "metadata": {
        "colab": {
          "base_uri": "https://localhost:8080/"
        },
        "id": "f_-dT_ia3Rzy",
        "outputId": "cf434cb0-ce49-4140-ba2a-2b9a1bc2abfd"
      },
      "outputs": [
        {
          "name": "stdout",
          "output_type": "stream",
          "text": [
            "<class 'pandas.core.frame.DataFrame'>\n",
            "RangeIndex: 541909 entries, 0 to 541908\n",
            "Data columns (total 8 columns):\n",
            " #   Column       Non-Null Count   Dtype  \n",
            "---  ------       --------------   -----  \n",
            " 0   InvoiceNo    541909 non-null  object \n",
            " 1   StockCode    541909 non-null  object \n",
            " 2   Description  540455 non-null  object \n",
            " 3   Quantity     541909 non-null  int64  \n",
            " 4   InvoiceDate  541909 non-null  object \n",
            " 5   UnitPrice    541909 non-null  float64\n",
            " 6   CustomerID   406829 non-null  float64\n",
            " 7   Country      541909 non-null  object \n",
            "dtypes: float64(2), int64(1), object(5)\n",
            "memory usage: 33.1+ MB\n"
          ]
        }
      ],
      "source": [
        "# Check the detail information\n",
        "df.info()"
      ]
    },
    {
      "cell_type": "code",
      "execution_count": 8,
      "metadata": {
        "colab": {
          "base_uri": "https://localhost:8080/"
        },
        "id": "8Wb5xLwd3Wsf",
        "outputId": "9c8bea30-a4e7-4e8e-82cd-493d9b51f994"
      },
      "outputs": [
        {
          "data": {
            "text/plain": [
              "InvoiceNo      25900\n",
              "StockCode       4070\n",
              "Description     4223\n",
              "Quantity         722\n",
              "InvoiceDate    23260\n",
              "UnitPrice       1630\n",
              "CustomerID      4372\n",
              "Country           38\n",
              "dtype: int64"
            ]
          },
          "execution_count": 8,
          "metadata": {},
          "output_type": "execute_result"
        }
      ],
      "source": [
        "df.nunique()"
      ]
    },
    {
      "cell_type": "markdown",
      "metadata": {
        "id": "KRp7bAH_m4XS"
      },
      "source": [
        "# ***Data Cleaning***"
      ]
    },
    {
      "cell_type": "code",
      "execution_count": 9,
      "metadata": {
        "colab": {
          "base_uri": "https://localhost:8080/"
        },
        "id": "U1ZcZGM83ZAZ",
        "outputId": "9eaf4119-7c6b-4987-f234-21886ea44b22"
      },
      "outputs": [
        {
          "data": {
            "text/plain": [
              "InvoiceNo           0\n",
              "StockCode           0\n",
              "Description      1454\n",
              "Quantity            0\n",
              "InvoiceDate         0\n",
              "UnitPrice           0\n",
              "CustomerID     135080\n",
              "Country             0\n",
              "dtype: int64"
            ]
          },
          "execution_count": 9,
          "metadata": {},
          "output_type": "execute_result"
        }
      ],
      "source": [
        "# IMV Check\n",
        "df.isnull().sum()"
      ]
    },
    {
      "cell_type": "code",
      "execution_count": 10,
      "metadata": {
        "colab": {
          "base_uri": "https://localhost:8080/"
        },
        "id": "gucCVPjp3dxh",
        "outputId": "bca6db73-ea83-446b-a9bd-0c11875f9b96"
      },
      "outputs": [
        {
          "data": {
            "text/plain": [
              "InvoiceNo      0\n",
              "StockCode      0\n",
              "Description    0\n",
              "Quantity       0\n",
              "InvoiceDate    0\n",
              "UnitPrice      0\n",
              "CustomerID     0\n",
              "Country        0\n",
              "dtype: int64"
            ]
          },
          "execution_count": 10,
          "metadata": {},
          "output_type": "execute_result"
        }
      ],
      "source": [
        "df = df.dropna()\n",
        "\n",
        "df.isnull().sum()"
      ]
    },
    {
      "cell_type": "code",
      "execution_count": 11,
      "metadata": {
        "colab": {
          "base_uri": "https://localhost:8080/"
        },
        "id": "GWJHzLXy3mjs",
        "outputId": "e12ee9bc-56da-4258-816c-562b712ce50a"
      },
      "outputs": [
        {
          "data": {
            "text/plain": [
              "InvoiceNo      22190\n",
              "StockCode       3684\n",
              "Description     3896\n",
              "Quantity         436\n",
              "InvoiceDate    20460\n",
              "UnitPrice        620\n",
              "CustomerID      4372\n",
              "Country           37\n",
              "dtype: int64"
            ]
          },
          "execution_count": 11,
          "metadata": {},
          "output_type": "execute_result"
        }
      ],
      "source": [
        "# Check again after drop the IMV\n",
        "\n",
        "df.nunique()"
      ]
    },
    {
      "cell_type": "code",
      "execution_count": 12,
      "metadata": {
        "colab": {
          "base_uri": "https://localhost:8080/"
        },
        "id": "3In9sCrERMa_",
        "outputId": "10049af6-75ed-4918-9e64-a8edd42e10a1"
      },
      "outputs": [
        {
          "data": {
            "text/plain": [
              "5225"
            ]
          },
          "execution_count": 12,
          "metadata": {},
          "output_type": "execute_result"
        }
      ],
      "source": [
        "# Check the duplicated rows in the dataset\n",
        "\n",
        "df.duplicated().sum()"
      ]
    },
    {
      "cell_type": "code",
      "execution_count": 13,
      "metadata": {
        "colab": {
          "base_uri": "https://localhost:8080/"
        },
        "id": "AWrdShm8f7l3",
        "outputId": "2ce39c77-b91f-44b7-825b-0ac70f68159f"
      },
      "outputs": [
        {
          "data": {
            "text/plain": [
              "0"
            ]
          },
          "execution_count": 13,
          "metadata": {},
          "output_type": "execute_result"
        }
      ],
      "source": [
        "# Remove the duplicated rows\n",
        "df = df.drop_duplicates()\n",
        "\n",
        "# Call the set variable after removal\n",
        "df.duplicated().sum()"
      ]
    },
    {
      "cell_type": "code",
      "execution_count": 14,
      "metadata": {
        "colab": {
          "base_uri": "https://localhost:8080/",
          "height": 206
        },
        "id": "2U4DUTLcluPV",
        "outputId": "626495e9-240e-438f-c0e1-258abb8013aa"
      },
      "outputs": [
        {
          "data": {
            "text/html": [
              "<div>\n",
              "<style scoped>\n",
              "    .dataframe tbody tr th:only-of-type {\n",
              "        vertical-align: middle;\n",
              "    }\n",
              "\n",
              "    .dataframe tbody tr th {\n",
              "        vertical-align: top;\n",
              "    }\n",
              "\n",
              "    .dataframe thead th {\n",
              "        text-align: right;\n",
              "    }\n",
              "</style>\n",
              "<table border=\"1\" class=\"dataframe\">\n",
              "  <thead>\n",
              "    <tr style=\"text-align: right;\">\n",
              "      <th></th>\n",
              "      <th>InvoiceNo</th>\n",
              "      <th>StockCode</th>\n",
              "      <th>Description</th>\n",
              "      <th>Quantity</th>\n",
              "      <th>InvoiceDate</th>\n",
              "      <th>UnitPrice</th>\n",
              "      <th>CustomerID</th>\n",
              "      <th>Country</th>\n",
              "      <th>Invoice_Date</th>\n",
              "      <th>Invoice_Time</th>\n",
              "    </tr>\n",
              "  </thead>\n",
              "  <tbody>\n",
              "    <tr>\n",
              "      <th>0</th>\n",
              "      <td>536365</td>\n",
              "      <td>85123A</td>\n",
              "      <td>WHITE HANGING HEART T-LIGHT HOLDER</td>\n",
              "      <td>6</td>\n",
              "      <td>2010-12-01 08:26:00</td>\n",
              "      <td>2.55</td>\n",
              "      <td>17850.0</td>\n",
              "      <td>United Kingdom</td>\n",
              "      <td>12/01/2010</td>\n",
              "      <td>08:26</td>\n",
              "    </tr>\n",
              "    <tr>\n",
              "      <th>1</th>\n",
              "      <td>536365</td>\n",
              "      <td>71053</td>\n",
              "      <td>WHITE METAL LANTERN</td>\n",
              "      <td>6</td>\n",
              "      <td>2010-12-01 08:26:00</td>\n",
              "      <td>3.39</td>\n",
              "      <td>17850.0</td>\n",
              "      <td>United Kingdom</td>\n",
              "      <td>12/01/2010</td>\n",
              "      <td>08:26</td>\n",
              "    </tr>\n",
              "    <tr>\n",
              "      <th>2</th>\n",
              "      <td>536365</td>\n",
              "      <td>84406B</td>\n",
              "      <td>CREAM CUPID HEARTS COAT HANGER</td>\n",
              "      <td>8</td>\n",
              "      <td>2010-12-01 08:26:00</td>\n",
              "      <td>2.75</td>\n",
              "      <td>17850.0</td>\n",
              "      <td>United Kingdom</td>\n",
              "      <td>12/01/2010</td>\n",
              "      <td>08:26</td>\n",
              "    </tr>\n",
              "    <tr>\n",
              "      <th>3</th>\n",
              "      <td>536365</td>\n",
              "      <td>84029G</td>\n",
              "      <td>KNITTED UNION FLAG HOT WATER BOTTLE</td>\n",
              "      <td>6</td>\n",
              "      <td>2010-12-01 08:26:00</td>\n",
              "      <td>3.39</td>\n",
              "      <td>17850.0</td>\n",
              "      <td>United Kingdom</td>\n",
              "      <td>12/01/2010</td>\n",
              "      <td>08:26</td>\n",
              "    </tr>\n",
              "    <tr>\n",
              "      <th>4</th>\n",
              "      <td>536365</td>\n",
              "      <td>84029E</td>\n",
              "      <td>RED WOOLLY HOTTIE WHITE HEART.</td>\n",
              "      <td>6</td>\n",
              "      <td>2010-12-01 08:26:00</td>\n",
              "      <td>3.39</td>\n",
              "      <td>17850.0</td>\n",
              "      <td>United Kingdom</td>\n",
              "      <td>12/01/2010</td>\n",
              "      <td>08:26</td>\n",
              "    </tr>\n",
              "  </tbody>\n",
              "</table>\n",
              "</div>"
            ],
            "text/plain": [
              "  InvoiceNo StockCode                          Description  Quantity  \\\n",
              "0    536365    85123A   WHITE HANGING HEART T-LIGHT HOLDER         6   \n",
              "1    536365     71053                  WHITE METAL LANTERN         6   \n",
              "2    536365    84406B       CREAM CUPID HEARTS COAT HANGER         8   \n",
              "3    536365    84029G  KNITTED UNION FLAG HOT WATER BOTTLE         6   \n",
              "4    536365    84029E       RED WOOLLY HOTTIE WHITE HEART.         6   \n",
              "\n",
              "          InvoiceDate  UnitPrice  CustomerID         Country Invoice_Date  \\\n",
              "0 2010-12-01 08:26:00       2.55     17850.0  United Kingdom   12/01/2010   \n",
              "1 2010-12-01 08:26:00       3.39     17850.0  United Kingdom   12/01/2010   \n",
              "2 2010-12-01 08:26:00       2.75     17850.0  United Kingdom   12/01/2010   \n",
              "3 2010-12-01 08:26:00       3.39     17850.0  United Kingdom   12/01/2010   \n",
              "4 2010-12-01 08:26:00       3.39     17850.0  United Kingdom   12/01/2010   \n",
              "\n",
              "  Invoice_Time  \n",
              "0        08:26  \n",
              "1        08:26  \n",
              "2        08:26  \n",
              "3        08:26  \n",
              "4        08:26  "
            ]
          },
          "execution_count": 14,
          "metadata": {},
          "output_type": "execute_result"
        }
      ],
      "source": [
        "dateLengths = df.InvoiceDate.str.len()\n",
        "dateLengths.value_counts()\n",
        "\n",
        "df[\"InvoiceDate\"] = pd.to_datetime(df[\"InvoiceDate\"], format=\"%m/%d/%Y %H:%M\")\n",
        "df[\"Invoice_Date\"] = df[\"InvoiceDate\"].dt.strftime(\"%m/%d/%Y\")\n",
        "df[\"Invoice_Time\"] = df[\"InvoiceDate\"].dt.strftime(\"%H:%M\")\n",
        "\n",
        "df.head()"
      ]
    },
    {
      "cell_type": "code",
      "execution_count": 15,
      "metadata": {
        "colab": {
          "base_uri": "https://localhost:8080/",
          "height": 206
        },
        "id": "A5bwnOuBgdCc",
        "outputId": "97350748-9f83-4df2-98d6-f92e16f8feb0"
      },
      "outputs": [
        {
          "data": {
            "text/html": [
              "<div>\n",
              "<style scoped>\n",
              "    .dataframe tbody tr th:only-of-type {\n",
              "        vertical-align: middle;\n",
              "    }\n",
              "\n",
              "    .dataframe tbody tr th {\n",
              "        vertical-align: top;\n",
              "    }\n",
              "\n",
              "    .dataframe thead th {\n",
              "        text-align: right;\n",
              "    }\n",
              "</style>\n",
              "<table border=\"1\" class=\"dataframe\">\n",
              "  <thead>\n",
              "    <tr style=\"text-align: right;\">\n",
              "      <th></th>\n",
              "      <th>InvoiceNo</th>\n",
              "      <th>StockCode</th>\n",
              "      <th>Description</th>\n",
              "      <th>Quantity</th>\n",
              "      <th>InvoiceDate</th>\n",
              "      <th>UnitPrice</th>\n",
              "      <th>CustomerID</th>\n",
              "      <th>Country</th>\n",
              "      <th>Invoice_Date</th>\n",
              "      <th>Invoice_Time</th>\n",
              "      <th>TotalPrice</th>\n",
              "    </tr>\n",
              "  </thead>\n",
              "  <tbody>\n",
              "    <tr>\n",
              "      <th>0</th>\n",
              "      <td>536365</td>\n",
              "      <td>85123A</td>\n",
              "      <td>WHITE HANGING HEART T-LIGHT HOLDER</td>\n",
              "      <td>6</td>\n",
              "      <td>2010-12-01 08:26:00</td>\n",
              "      <td>2.55</td>\n",
              "      <td>17850.0</td>\n",
              "      <td>United Kingdom</td>\n",
              "      <td>12/01/2010</td>\n",
              "      <td>08:26</td>\n",
              "      <td>15.30</td>\n",
              "    </tr>\n",
              "    <tr>\n",
              "      <th>1</th>\n",
              "      <td>536365</td>\n",
              "      <td>71053</td>\n",
              "      <td>WHITE METAL LANTERN</td>\n",
              "      <td>6</td>\n",
              "      <td>2010-12-01 08:26:00</td>\n",
              "      <td>3.39</td>\n",
              "      <td>17850.0</td>\n",
              "      <td>United Kingdom</td>\n",
              "      <td>12/01/2010</td>\n",
              "      <td>08:26</td>\n",
              "      <td>20.34</td>\n",
              "    </tr>\n",
              "    <tr>\n",
              "      <th>2</th>\n",
              "      <td>536365</td>\n",
              "      <td>84406B</td>\n",
              "      <td>CREAM CUPID HEARTS COAT HANGER</td>\n",
              "      <td>8</td>\n",
              "      <td>2010-12-01 08:26:00</td>\n",
              "      <td>2.75</td>\n",
              "      <td>17850.0</td>\n",
              "      <td>United Kingdom</td>\n",
              "      <td>12/01/2010</td>\n",
              "      <td>08:26</td>\n",
              "      <td>22.00</td>\n",
              "    </tr>\n",
              "    <tr>\n",
              "      <th>3</th>\n",
              "      <td>536365</td>\n",
              "      <td>84029G</td>\n",
              "      <td>KNITTED UNION FLAG HOT WATER BOTTLE</td>\n",
              "      <td>6</td>\n",
              "      <td>2010-12-01 08:26:00</td>\n",
              "      <td>3.39</td>\n",
              "      <td>17850.0</td>\n",
              "      <td>United Kingdom</td>\n",
              "      <td>12/01/2010</td>\n",
              "      <td>08:26</td>\n",
              "      <td>20.34</td>\n",
              "    </tr>\n",
              "    <tr>\n",
              "      <th>4</th>\n",
              "      <td>536365</td>\n",
              "      <td>84029E</td>\n",
              "      <td>RED WOOLLY HOTTIE WHITE HEART.</td>\n",
              "      <td>6</td>\n",
              "      <td>2010-12-01 08:26:00</td>\n",
              "      <td>3.39</td>\n",
              "      <td>17850.0</td>\n",
              "      <td>United Kingdom</td>\n",
              "      <td>12/01/2010</td>\n",
              "      <td>08:26</td>\n",
              "      <td>20.34</td>\n",
              "    </tr>\n",
              "  </tbody>\n",
              "</table>\n",
              "</div>"
            ],
            "text/plain": [
              "  InvoiceNo StockCode                          Description  Quantity  \\\n",
              "0    536365    85123A   WHITE HANGING HEART T-LIGHT HOLDER         6   \n",
              "1    536365     71053                  WHITE METAL LANTERN         6   \n",
              "2    536365    84406B       CREAM CUPID HEARTS COAT HANGER         8   \n",
              "3    536365    84029G  KNITTED UNION FLAG HOT WATER BOTTLE         6   \n",
              "4    536365    84029E       RED WOOLLY HOTTIE WHITE HEART.         6   \n",
              "\n",
              "          InvoiceDate  UnitPrice  CustomerID         Country Invoice_Date  \\\n",
              "0 2010-12-01 08:26:00       2.55     17850.0  United Kingdom   12/01/2010   \n",
              "1 2010-12-01 08:26:00       3.39     17850.0  United Kingdom   12/01/2010   \n",
              "2 2010-12-01 08:26:00       2.75     17850.0  United Kingdom   12/01/2010   \n",
              "3 2010-12-01 08:26:00       3.39     17850.0  United Kingdom   12/01/2010   \n",
              "4 2010-12-01 08:26:00       3.39     17850.0  United Kingdom   12/01/2010   \n",
              "\n",
              "  Invoice_Time  TotalPrice  \n",
              "0        08:26       15.30  \n",
              "1        08:26       20.34  \n",
              "2        08:26       22.00  \n",
              "3        08:26       20.34  \n",
              "4        08:26       20.34  "
            ]
          },
          "execution_count": 15,
          "metadata": {},
          "output_type": "execute_result"
        }
      ],
      "source": [
        "#Calculating the TotalPrice per order (UnitPrice and Quantity)\n",
        "df[\"TotalPrice\"] = df[\"Quantity\"]*df[\"UnitPrice\"]\n",
        "df.head()"
      ]
    },
    {
      "cell_type": "markdown",
      "metadata": {
        "id": "IiSCg4eQDD6l"
      },
      "source": [
        "# ***Exploratory Data Analysis***\n",
        "### *Before Clustering*\n",
        "\n",
        "DRAFTtext"
      ]
    },
    {
      "cell_type": "code",
      "execution_count": 16,
      "metadata": {
        "colab": {
          "base_uri": "https://localhost:8080/",
          "height": 237
        },
        "id": "elIDM9bBDg3N",
        "outputId": "2d90c5f4-2ddc-489e-a659-403c6ac79952"
      },
      "outputs": [
        {
          "data": {
            "text/html": [
              "<div>\n",
              "<style scoped>\n",
              "    .dataframe tbody tr th:only-of-type {\n",
              "        vertical-align: middle;\n",
              "    }\n",
              "\n",
              "    .dataframe tbody tr th {\n",
              "        vertical-align: top;\n",
              "    }\n",
              "\n",
              "    .dataframe thead th {\n",
              "        text-align: right;\n",
              "    }\n",
              "</style>\n",
              "<table border=\"1\" class=\"dataframe\">\n",
              "  <thead>\n",
              "    <tr style=\"text-align: right;\">\n",
              "      <th></th>\n",
              "      <th>count</th>\n",
              "      <th>unique</th>\n",
              "      <th>top</th>\n",
              "      <th>freq</th>\n",
              "    </tr>\n",
              "  </thead>\n",
              "  <tbody>\n",
              "    <tr>\n",
              "      <th>InvoiceNo</th>\n",
              "      <td>401604</td>\n",
              "      <td>22190</td>\n",
              "      <td>576339</td>\n",
              "      <td>542</td>\n",
              "    </tr>\n",
              "    <tr>\n",
              "      <th>StockCode</th>\n",
              "      <td>401604</td>\n",
              "      <td>3684</td>\n",
              "      <td>85123A</td>\n",
              "      <td>2065</td>\n",
              "    </tr>\n",
              "    <tr>\n",
              "      <th>Description</th>\n",
              "      <td>401604</td>\n",
              "      <td>3896</td>\n",
              "      <td>WHITE HANGING HEART T-LIGHT HOLDER</td>\n",
              "      <td>2058</td>\n",
              "    </tr>\n",
              "    <tr>\n",
              "      <th>Country</th>\n",
              "      <td>401604</td>\n",
              "      <td>37</td>\n",
              "      <td>United Kingdom</td>\n",
              "      <td>356728</td>\n",
              "    </tr>\n",
              "    <tr>\n",
              "      <th>Invoice_Date</th>\n",
              "      <td>401604</td>\n",
              "      <td>305</td>\n",
              "      <td>12/05/2011</td>\n",
              "      <td>3359</td>\n",
              "    </tr>\n",
              "    <tr>\n",
              "      <th>Invoice_Time</th>\n",
              "      <td>401604</td>\n",
              "      <td>773</td>\n",
              "      <td>13:35</td>\n",
              "      <td>1810</td>\n",
              "    </tr>\n",
              "  </tbody>\n",
              "</table>\n",
              "</div>"
            ],
            "text/plain": [
              "               count unique                                 top    freq\n",
              "InvoiceNo     401604  22190                              576339     542\n",
              "StockCode     401604   3684                              85123A    2065\n",
              "Description   401604   3896  WHITE HANGING HEART T-LIGHT HOLDER    2058\n",
              "Country       401604     37                      United Kingdom  356728\n",
              "Invoice_Date  401604    305                          12/05/2011    3359\n",
              "Invoice_Time  401604    773                               13:35    1810"
            ]
          },
          "execution_count": 16,
          "metadata": {},
          "output_type": "execute_result"
        }
      ],
      "source": [
        "df.describe(include = 'O').T"
      ]
    },
    {
      "cell_type": "code",
      "execution_count": 17,
      "metadata": {
        "colab": {
          "base_uri": "https://localhost:8080/"
        },
        "id": "bV0zg9WWHpKp",
        "outputId": "b0236d9f-a23e-46d0-8728-ddf7464715ea"
      },
      "outputs": [
        {
          "name": "stdout",
          "output_type": "stream",
          "text": [
            "                      order_count\n",
            "Country                          \n",
            "United Kingdom              19857\n",
            "Germany                       603\n",
            "France                        458\n",
            "EIRE                          319\n",
            "Belgium                       119\n",
            "Spain                         105\n",
            "Netherlands                   101\n",
            "Switzerland                    71\n",
            "Portugal                       70\n",
            "Australia                      69\n",
            "Italy                          55\n",
            "Finland                        48\n",
            "Sweden                         46\n",
            "Norway                         40\n",
            "Channel Islands                33\n",
            "Japan                          28\n",
            "Poland                         24\n",
            "Denmark                        21\n",
            "Cyprus                         20\n",
            "Austria                        19\n",
            "Malta                          10\n",
            "Singapore                      10\n",
            "Unspecified                     8\n",
            "Iceland                         7\n",
            "USA                             7\n",
            "Israel                          6\n",
            "Greece                          6\n",
            "Canada                          6\n",
            "Czech Republic                  5\n",
            "European Community              5\n",
            "Lithuania                       4\n",
            "United Arab Emirates            3\n",
            "Saudi Arabia                    2\n",
            "Bahrain                         2\n",
            "Lebanon                         1\n",
            "RSA                             1\n",
            "Brazil                          1\n"
          ]
        }
      ],
      "source": [
        "#Find out the number of orders for each country separately.\n",
        "countryMask = df.groupby(['Country', 'InvoiceNo']).size().reset_index(name='order_count')\n",
        "countryOrder = countryMask.groupby('Country').agg(order_count=('order_count', 'count')).sort_values(by='order_count', ascending=False)\n",
        "print(countryOrder)"
      ]
    },
    {
      "cell_type": "code",
      "execution_count": 18,
      "metadata": {
        "colab": {
          "base_uri": "https://localhost:8080/",
          "height": 607
        },
        "id": "mLhBTQgEHu4A",
        "outputId": "1c5332f9-e638-4599-8ea9-fa10a7520910"
      },
      "outputs": [
        {
          "data": {
            "image/png": "[encoded data removed]",
            "text/plain": [
              "<Figure size 1000x600 with 1 Axes>"
            ]
          },
          "metadata": {},
          "output_type": "display_data"
        }
      ],
      "source": [
        "# Sort the DataFrame by 'order_count'in descending order and select the top 10\n",
        "top10Countries = countryOrder.sort_values(by='order_count', ascending=False).head(10)\n",
        "\n",
        "# Plot\n",
        "plt.figure(figsize=(10,6))\n",
        "barWidth = 0.5\n",
        "\n",
        "# Depict the plot\n",
        "plt.bar(np.arange(len(top10Countries.index)), top10Countries['order_count'], width=barWidth)\n",
        "\n",
        "for i, value in enumerate(top10Countries['order_count']):\n",
        "  plt.text(i, value+1, str(value), ha='center', va='bottom')\n",
        "\n",
        "# Title & Label\n",
        "plt.title('Number of Orders for Each Country')\n",
        "plt.xlabel('Country')\n",
        "plt.ylabel('Orders Number')\n",
        "\n",
        "plt.xticks(np.arange(len(top10Countries.index)), top10Countries.index, rotation=90)\n",
        "\n",
        "plt.tight_layout()\n",
        "plt.show()"
      ]
    },
    {
      "cell_type": "code",
      "execution_count": 19,
      "metadata": {
        "colab": {
          "base_uri": "https://localhost:8080/",
          "height": 607
        },
        "id": "CLCSxjzZnA7Q",
        "outputId": "99214d05-4799-4692-d5ae-a94953a945da"
      },
      "outputs": [
        {
          "data": {
            "image/png": "[encoded data removed]",
            "text/plain": [
              "<Figure size 1200x600 with 1 Axes>"
            ]
          },
          "metadata": {},
          "output_type": "display_data"
        }
      ],
      "source": [
        "#Find out the total sales per month\n",
        "df['Invoice_Date'] = pd.to_datetime(df['Invoice_Date'])\n",
        "df['Month'] = df['Invoice_Date'].dt.to_period('M')\n",
        "monthlySales = df.groupby('Month')['TotalPrice'].sum()\n",
        "xLabels = monthlySales.index.strftime('%Y-%m')\n",
        "\n",
        "\n",
        "\n",
        "\n",
        "plt.figure(figsize=(12, 6))\n",
        "bars = plt.bar(xLabels, monthlySales, color='skyblue')\n",
        "for bar in bars:\n",
        "    height = bar.get_height()\n",
        "    plt.text(bar.get_x() + bar.get_width() / 2, height, f'{int(height)}', ha='center', va='bottom')\n",
        "plt.title('Monthly Sales from Dec 2010 to Dec 2011')\n",
        "plt.xlabel('Month')\n",
        "plt.ylabel('Revenue')\n",
        "plt.xticks(rotation=0)\n",
        "plt.tight_layout()\n",
        "plt.show()"
      ]
    },
    {
      "cell_type": "code",
      "execution_count": 20,
      "metadata": {
        "colab": {
          "base_uri": "https://localhost:8080/"
        },
        "id": "4w5gO5mchN9o",
        "outputId": "47f58f69-1f64-4a15-c023-5b056b4f4476"
      },
      "outputs": [
        {
          "name": "stdout",
          "output_type": "stream",
          "text": [
            "                                    Quantity\n",
            "Description                                 \n",
            "WORLD WAR 2 GLIDERS ASSTD DESIGNS      53119\n",
            "JUMBO BAG RED RETROSPOT                44963\n",
            "ASSORTED COLOUR BIRD ORNAMENT          35215\n",
            "WHITE HANGING HEART T-LIGHT HOLDER     34128\n",
            "PACK OF 72 RETROSPOT CAKE CASES        33386\n",
            "POPCORN HOLDER                         30492\n",
            "RABBIT NIGHT LIGHT                     27045\n",
            "MINI PAINT SET VINTAGE                 25880\n",
            "PACK OF 12 LONDON TISSUES              25305\n",
            "PACK OF 60 PINK PAISLEY CAKE CASES     24129\n"
          ]
        }
      ],
      "source": [
        "# Define the Top 10 products\n",
        "productGrouped = df.groupby('Description')\n",
        "quantityProduct = productGrouped.agg({'Quantity':'sum'})\n",
        "quantityProductTop10 = quantityProduct.nlargest(10, 'Quantity')\n",
        "print(quantityProductTop10)"
      ]
    },
    {
      "cell_type": "code",
      "execution_count": 21,
      "metadata": {
        "colab": {
          "base_uri": "https://localhost:8080/"
        },
        "id": "gC20Ip32heGZ",
        "outputId": "2c61bb4f-b35c-4d27-90b1-0432c254831e"
      },
      "outputs": [
        {
          "name": "stdout",
          "output_type": "stream",
          "text": [
            "                                    Quantity  TotalPrice\n",
            "Description                                             \n",
            "REGENCY CAKESTAND 3 TIER               11529   132567.70\n",
            "WHITE HANGING HEART T-LIGHT HOLDER     34128    93767.80\n",
            "JUMBO BAG RED RETROSPOT                44963    83056.52\n",
            "PARTY BUNTING                          15015    67628.43\n",
            "POSTAGE                                 3002    66710.24\n",
            "ASSORTED COLOUR BIRD ORNAMENT          35215    56331.91\n",
            "RABBIT NIGHT LIGHT                     27045    51042.84\n",
            "CHILLI LIGHTS                           9566    45915.41\n",
            "PAPER CHAIN KIT 50'S CHRISTMAS         15138    41423.78\n",
            "PICNIC BASKET WICKER 60 PIECES            61    39619.50\n"
          ]
        }
      ],
      "source": [
        "# Define the Top 10 Top Sale Revenue\n",
        "topSaleRevenue = productGrouped.agg({'Quantity':'sum', 'TotalPrice':'sum'})\n",
        "topSaleRevenue_top10 = topSaleRevenue.nlargest(10, 'TotalPrice')\n",
        "\n",
        "print(topSaleRevenue_top10)"
      ]
    },
    {
      "cell_type": "code",
      "execution_count": 22,
      "metadata": {
        "colab": {
          "base_uri": "https://localhost:8080/",
          "height": 807
        },
        "id": "qqpBUZdSjmRX",
        "outputId": "8b445e16-bac0-400d-e687-ae0c7d847f31"
      },
      "outputs": [
        {
          "data": {
            "image/png": "[encoded data removed]",
            "text/plain": [
              "<Figure size 1400x800 with 1 Axes>"
            ]
          },
          "metadata": {},
          "output_type": "display_data"
        }
      ],
      "source": [
        "plt.figure(figsize=(14, 8))\n",
        "plt.barh(quantityProductTop10.index, quantityProductTop10['Quantity'])\n",
        "\n",
        "plt.title('Top 10 Products by Quantity')\n",
        "plt.xlabel('Quantity')\n",
        "plt.ylabel('Product Description')\n",
        "\n",
        "for i, value in enumerate(quantityProductTop10['Quantity']):\n",
        "    plt.text(value, i, str(value), ha='left', va='center')\n",
        "\n",
        "plt.tight_layout()\n",
        "plt.show()"
      ]
    },
    {
      "cell_type": "markdown",
      "metadata": {},
      "source": [
        "# RFM "
      ]
    },
    {
      "cell_type": "code",
      "execution_count": 23,
      "metadata": {
        "colab": {
          "base_uri": "https://localhost:8080/"
        },
        "id": "Yes_QmYwo0zH",
        "outputId": "44acb456-02f8-4157-d4c6-8b19cf4413e8"
      },
      "outputs": [
        {
          "name": "stdout",
          "output_type": "stream",
          "text": [
            "<class 'pandas.core.frame.DataFrame'>\n",
            "Index: 401604 entries, 0 to 541908\n",
            "Data columns (total 12 columns):\n",
            " #   Column        Non-Null Count   Dtype         \n",
            "---  ------        --------------   -----         \n",
            " 0   InvoiceNo     401604 non-null  object        \n",
            " 1   StockCode     401604 non-null  object        \n",
            " 2   Description   401604 non-null  object        \n",
            " 3   Quantity      401604 non-null  int64         \n",
            " 4   InvoiceDate   401604 non-null  datetime64[ns]\n",
            " 5   UnitPrice     401604 non-null  float64       \n",
            " 6   CustomerID    401604 non-null  float64       \n",
            " 7   Country       401604 non-null  object        \n",
            " 8   Invoice_Date  401604 non-null  datetime64[ns]\n",
            " 9   Invoice_Time  401604 non-null  object        \n",
            " 10  TotalPrice    401604 non-null  float64       \n",
            " 11  Month         401604 non-null  period[M]     \n",
            "dtypes: datetime64[ns](2), float64(3), int64(1), object(5), period[M](1)\n",
            "memory usage: 39.8+ MB\n"
          ]
        }
      ],
      "source": [
        "# Initiate the RFM Analysis\n",
        "\n",
        "# RFM Analysis, Recency(R):Days since last purchase\n",
        "# Frequency(F):Total number of purchases\n",
        "# Monetary Value(M):Total money of customer spent.\n",
        "\n",
        "df.info()"
      ]
    },
    {
      "cell_type": "code",
      "execution_count": 24,
      "metadata": {},
      "outputs": [
        {
          "data": {
            "text/html": [
              "<div>\n",
              "<style scoped>\n",
              "    .dataframe tbody tr th:only-of-type {\n",
              "        vertical-align: middle;\n",
              "    }\n",
              "\n",
              "    .dataframe tbody tr th {\n",
              "        vertical-align: top;\n",
              "    }\n",
              "\n",
              "    .dataframe thead th {\n",
              "        text-align: right;\n",
              "    }\n",
              "</style>\n",
              "<table border=\"1\" class=\"dataframe\">\n",
              "  <thead>\n",
              "    <tr style=\"text-align: right;\">\n",
              "      <th></th>\n",
              "      <th>Quantity</th>\n",
              "      <th>InvoiceDate</th>\n",
              "      <th>UnitPrice</th>\n",
              "      <th>CustomerID</th>\n",
              "      <th>Invoice_Date</th>\n",
              "      <th>TotalPrice</th>\n",
              "    </tr>\n",
              "  </thead>\n",
              "  <tbody>\n",
              "    <tr>\n",
              "      <th>count</th>\n",
              "      <td>401604.000000</td>\n",
              "      <td>401604</td>\n",
              "      <td>401604.000000</td>\n",
              "      <td>401604.000000</td>\n",
              "      <td>401604</td>\n",
              "      <td>401604.000000</td>\n",
              "    </tr>\n",
              "    <tr>\n",
              "      <th>mean</th>\n",
              "      <td>12.183273</td>\n",
              "      <td>2011-07-10 12:08:23.848567552</td>\n",
              "      <td>3.474064</td>\n",
              "      <td>15281.160818</td>\n",
              "      <td>2011-07-09 22:54:08.358084096</td>\n",
              "      <td>20.613638</td>\n",
              "    </tr>\n",
              "    <tr>\n",
              "      <th>min</th>\n",
              "      <td>-80995.000000</td>\n",
              "      <td>2010-12-01 08:26:00</td>\n",
              "      <td>0.000000</td>\n",
              "      <td>12346.000000</td>\n",
              "      <td>2010-12-01 00:00:00</td>\n",
              "      <td>-168469.600000</td>\n",
              "    </tr>\n",
              "    <tr>\n",
              "      <th>25%</th>\n",
              "      <td>2.000000</td>\n",
              "      <td>2011-04-06 15:02:00</td>\n",
              "      <td>1.250000</td>\n",
              "      <td>13939.000000</td>\n",
              "      <td>2011-04-06 00:00:00</td>\n",
              "      <td>4.250000</td>\n",
              "    </tr>\n",
              "    <tr>\n",
              "      <th>50%</th>\n",
              "      <td>5.000000</td>\n",
              "      <td>2011-07-29 15:40:00</td>\n",
              "      <td>1.950000</td>\n",
              "      <td>15145.000000</td>\n",
              "      <td>2011-07-29 00:00:00</td>\n",
              "      <td>11.700000</td>\n",
              "    </tr>\n",
              "    <tr>\n",
              "      <th>75%</th>\n",
              "      <td>12.000000</td>\n",
              "      <td>2011-10-20 11:58:30</td>\n",
              "      <td>3.750000</td>\n",
              "      <td>16784.000000</td>\n",
              "      <td>2011-10-20 00:00:00</td>\n",
              "      <td>19.800000</td>\n",
              "    </tr>\n",
              "    <tr>\n",
              "      <th>max</th>\n",
              "      <td>80995.000000</td>\n",
              "      <td>2011-12-09 12:50:00</td>\n",
              "      <td>38970.000000</td>\n",
              "      <td>18287.000000</td>\n",
              "      <td>2011-12-09 00:00:00</td>\n",
              "      <td>168469.600000</td>\n",
              "    </tr>\n",
              "    <tr>\n",
              "      <th>std</th>\n",
              "      <td>250.283037</td>\n",
              "      <td>NaN</td>\n",
              "      <td>69.764035</td>\n",
              "      <td>1714.006089</td>\n",
              "      <td>NaN</td>\n",
              "      <td>430.352218</td>\n",
              "    </tr>\n",
              "  </tbody>\n",
              "</table>\n",
              "</div>"
            ],
            "text/plain": [
              "            Quantity                    InvoiceDate      UnitPrice  \\\n",
              "count  401604.000000                         401604  401604.000000   \n",
              "mean       12.183273  2011-07-10 12:08:23.848567552       3.474064   \n",
              "min    -80995.000000            2010-12-01 08:26:00       0.000000   \n",
              "25%         2.000000            2011-04-06 15:02:00       1.250000   \n",
              "50%         5.000000            2011-07-29 15:40:00       1.950000   \n",
              "75%        12.000000            2011-10-20 11:58:30       3.750000   \n",
              "max     80995.000000            2011-12-09 12:50:00   38970.000000   \n",
              "std       250.283037                            NaN      69.764035   \n",
              "\n",
              "          CustomerID                   Invoice_Date     TotalPrice  \n",
              "count  401604.000000                         401604  401604.000000  \n",
              "mean    15281.160818  2011-07-09 22:54:08.358084096      20.613638  \n",
              "min     12346.000000            2010-12-01 00:00:00 -168469.600000  \n",
              "25%     13939.000000            2011-04-06 00:00:00       4.250000  \n",
              "50%     15145.000000            2011-07-29 00:00:00      11.700000  \n",
              "75%     16784.000000            2011-10-20 00:00:00      19.800000  \n",
              "max     18287.000000            2011-12-09 00:00:00  168469.600000  \n",
              "std      1714.006089                            NaN     430.352218  "
            ]
          },
          "execution_count": 24,
          "metadata": {},
          "output_type": "execute_result"
        }
      ],
      "source": [
        "df.describe()"
      ]
    },
    {
      "cell_type": "code",
      "execution_count": 25,
      "metadata": {
        "colab": {
          "base_uri": "https://localhost:8080/"
        },
        "id": "B30jKqQSpFM8",
        "outputId": "0464d95d-c668-4ca3-c4ec-664740d6a812"
      },
      "outputs": [
        {
          "name": "stdout",
          "output_type": "stream",
          "text": [
            "2010-12-01 00:00:00\n"
          ]
        }
      ],
      "source": [
        "#Last date available in the df\n",
        "df['InvoiceDate'].max()\n",
        "\n",
        "current = pd.Timestamp(datetime(2010, 12, 1))\n",
        "print(current)"
      ]
    },
    {
      "cell_type": "code",
      "execution_count": 26,
      "metadata": {
        "colab": {
          "base_uri": "https://localhost:8080/",
          "height": 237
        },
        "id": "5PAB8_tipddx",
        "outputId": "bd263138-b682-4b12-94af-7c8aae984840"
      },
      "outputs": [
        {
          "data": {
            "text/html": [
              "<div>\n",
              "<style scoped>\n",
              "    .dataframe tbody tr th:only-of-type {\n",
              "        vertical-align: middle;\n",
              "    }\n",
              "\n",
              "    .dataframe tbody tr th {\n",
              "        vertical-align: top;\n",
              "    }\n",
              "\n",
              "    .dataframe thead th {\n",
              "        text-align: right;\n",
              "    }\n",
              "</style>\n",
              "<table border=\"1\" class=\"dataframe\">\n",
              "  <thead>\n",
              "    <tr style=\"text-align: right;\">\n",
              "      <th></th>\n",
              "      <th>InvoiceDate</th>\n",
              "      <th>InvoiceNo</th>\n",
              "      <th>TotalPrice</th>\n",
              "    </tr>\n",
              "    <tr>\n",
              "      <th>CustomerID</th>\n",
              "      <th></th>\n",
              "      <th></th>\n",
              "      <th></th>\n",
              "    </tr>\n",
              "  </thead>\n",
              "  <tbody>\n",
              "    <tr>\n",
              "      <th>12346.0</th>\n",
              "      <td>-49</td>\n",
              "      <td>2</td>\n",
              "      <td>0.00</td>\n",
              "    </tr>\n",
              "    <tr>\n",
              "      <th>12347.0</th>\n",
              "      <td>-372</td>\n",
              "      <td>182</td>\n",
              "      <td>4310.00</td>\n",
              "    </tr>\n",
              "    <tr>\n",
              "      <th>12348.0</th>\n",
              "      <td>-299</td>\n",
              "      <td>31</td>\n",
              "      <td>1797.24</td>\n",
              "    </tr>\n",
              "    <tr>\n",
              "      <th>12349.0</th>\n",
              "      <td>-356</td>\n",
              "      <td>73</td>\n",
              "      <td>1757.55</td>\n",
              "    </tr>\n",
              "    <tr>\n",
              "      <th>12350.0</th>\n",
              "      <td>-64</td>\n",
              "      <td>17</td>\n",
              "      <td>334.40</td>\n",
              "    </tr>\n",
              "  </tbody>\n",
              "</table>\n",
              "</div>"
            ],
            "text/plain": [
              "            InvoiceDate  InvoiceNo  TotalPrice\n",
              "CustomerID                                    \n",
              "12346.0             -49          2        0.00\n",
              "12347.0            -372        182     4310.00\n",
              "12348.0            -299         31     1797.24\n",
              "12349.0            -356         73     1757.55\n",
              "12350.0             -64         17      334.40"
            ]
          },
          "execution_count": 26,
          "metadata": {},
          "output_type": "execute_result"
        }
      ],
      "source": [
        "RFMScore = df.groupby('CustomerID').agg({'InvoiceDate': lambda x: (current - x.max()).days,\n",
        "                                            'InvoiceNo': lambda x: x.count(),\n",
        "                                          'TotalPrice': lambda x: x.sum()})\n",
        "\n",
        "RFMScore.head()"
      ]
    },
    {
      "cell_type": "code",
      "execution_count": 27,
      "metadata": {
        "id": "Yvjmct1Iph2d"
      },
      "outputs": [],
      "source": [
        "# Renaming the columns for better understanding of RFM\n",
        "RFMScore.rename(columns={'InvoiceDate':'Recency','InvoiceNo':'Frequency','TotalPrice':'Monetary'},inplace = True)"
      ]
    },
    {
      "cell_type": "code",
      "execution_count": 28,
      "metadata": {
        "colab": {
          "base_uri": "https://localhost:8080/",
          "height": 423
        },
        "id": "IrNwUTF9p59M",
        "outputId": "79f77ee3-43b0-4a5b-b5da-db7b4ee15d06"
      },
      "outputs": [
        {
          "data": {
            "text/html": [
              "<div>\n",
              "<style scoped>\n",
              "    .dataframe tbody tr th:only-of-type {\n",
              "        vertical-align: middle;\n",
              "    }\n",
              "\n",
              "    .dataframe tbody tr th {\n",
              "        vertical-align: top;\n",
              "    }\n",
              "\n",
              "    .dataframe thead th {\n",
              "        text-align: right;\n",
              "    }\n",
              "</style>\n",
              "<table border=\"1\" class=\"dataframe\">\n",
              "  <thead>\n",
              "    <tr style=\"text-align: right;\">\n",
              "      <th></th>\n",
              "      <th>CustomerID</th>\n",
              "      <th>Recency</th>\n",
              "      <th>Frequency</th>\n",
              "      <th>Monetary</th>\n",
              "    </tr>\n",
              "  </thead>\n",
              "  <tbody>\n",
              "    <tr>\n",
              "      <th>0</th>\n",
              "      <td>12346.0</td>\n",
              "      <td>-49</td>\n",
              "      <td>2</td>\n",
              "      <td>0.00</td>\n",
              "    </tr>\n",
              "    <tr>\n",
              "      <th>1</th>\n",
              "      <td>12347.0</td>\n",
              "      <td>-372</td>\n",
              "      <td>182</td>\n",
              "      <td>4310.00</td>\n",
              "    </tr>\n",
              "    <tr>\n",
              "      <th>2</th>\n",
              "      <td>12348.0</td>\n",
              "      <td>-299</td>\n",
              "      <td>31</td>\n",
              "      <td>1797.24</td>\n",
              "    </tr>\n",
              "    <tr>\n",
              "      <th>3</th>\n",
              "      <td>12349.0</td>\n",
              "      <td>-356</td>\n",
              "      <td>73</td>\n",
              "      <td>1757.55</td>\n",
              "    </tr>\n",
              "    <tr>\n",
              "      <th>4</th>\n",
              "      <td>12350.0</td>\n",
              "      <td>-64</td>\n",
              "      <td>17</td>\n",
              "      <td>334.40</td>\n",
              "    </tr>\n",
              "    <tr>\n",
              "      <th>...</th>\n",
              "      <td>...</td>\n",
              "      <td>...</td>\n",
              "      <td>...</td>\n",
              "      <td>...</td>\n",
              "    </tr>\n",
              "    <tr>\n",
              "      <th>4367</th>\n",
              "      <td>18280.0</td>\n",
              "      <td>-97</td>\n",
              "      <td>10</td>\n",
              "      <td>180.60</td>\n",
              "    </tr>\n",
              "    <tr>\n",
              "      <th>4368</th>\n",
              "      <td>18281.0</td>\n",
              "      <td>-194</td>\n",
              "      <td>7</td>\n",
              "      <td>80.82</td>\n",
              "    </tr>\n",
              "    <tr>\n",
              "      <th>4369</th>\n",
              "      <td>18282.0</td>\n",
              "      <td>-367</td>\n",
              "      <td>13</td>\n",
              "      <td>176.60</td>\n",
              "    </tr>\n",
              "    <tr>\n",
              "      <th>4370</th>\n",
              "      <td>18283.0</td>\n",
              "      <td>-371</td>\n",
              "      <td>721</td>\n",
              "      <td>2045.53</td>\n",
              "    </tr>\n",
              "    <tr>\n",
              "      <th>4371</th>\n",
              "      <td>18287.0</td>\n",
              "      <td>-332</td>\n",
              "      <td>70</td>\n",
              "      <td>1837.28</td>\n",
              "    </tr>\n",
              "  </tbody>\n",
              "</table>\n",
              "<p>4372 rows × 4 columns</p>\n",
              "</div>"
            ],
            "text/plain": [
              "      CustomerID  Recency  Frequency  Monetary\n",
              "0        12346.0      -49          2      0.00\n",
              "1        12347.0     -372        182   4310.00\n",
              "2        12348.0     -299         31   1797.24\n",
              "3        12349.0     -356         73   1757.55\n",
              "4        12350.0      -64         17    334.40\n",
              "...          ...      ...        ...       ...\n",
              "4367     18280.0      -97         10    180.60\n",
              "4368     18281.0     -194          7     80.82\n",
              "4369     18282.0     -367         13    176.60\n",
              "4370     18283.0     -371        721   2045.53\n",
              "4371     18287.0     -332         70   1837.28\n",
              "\n",
              "[4372 rows x 4 columns]"
            ]
          },
          "execution_count": 28,
          "metadata": {},
          "output_type": "execute_result"
        }
      ],
      "source": [
        "RFMScore.reset_index()"
      ]
    },
    {
      "cell_type": "code",
      "execution_count": 29,
      "metadata": {
        "colab": {
          "base_uri": "https://localhost:8080/",
          "height": 300
        },
        "id": "AsZcF3u1p75E",
        "outputId": "34a1aa26-0440-40ef-cd1c-737444f6dd6e"
      },
      "outputs": [
        {
          "data": {
            "text/html": [
              "<div>\n",
              "<style scoped>\n",
              "    .dataframe tbody tr th:only-of-type {\n",
              "        vertical-align: middle;\n",
              "    }\n",
              "\n",
              "    .dataframe tbody tr th {\n",
              "        vertical-align: top;\n",
              "    }\n",
              "\n",
              "    .dataframe thead th {\n",
              "        text-align: right;\n",
              "    }\n",
              "</style>\n",
              "<table border=\"1\" class=\"dataframe\">\n",
              "  <thead>\n",
              "    <tr style=\"text-align: right;\">\n",
              "      <th></th>\n",
              "      <th>Recency</th>\n",
              "      <th>Frequency</th>\n",
              "      <th>Monetary</th>\n",
              "    </tr>\n",
              "  </thead>\n",
              "  <tbody>\n",
              "    <tr>\n",
              "      <th>count</th>\n",
              "      <td>4372.000000</td>\n",
              "      <td>4372.000000</td>\n",
              "      <td>4372.000000</td>\n",
              "    </tr>\n",
              "    <tr>\n",
              "      <th>mean</th>\n",
              "      <td>-282.418801</td>\n",
              "      <td>91.858188</td>\n",
              "      <td>1893.531433</td>\n",
              "    </tr>\n",
              "    <tr>\n",
              "      <th>std</th>\n",
              "      <td>100.772139</td>\n",
              "      <td>229.223566</td>\n",
              "      <td>8218.696204</td>\n",
              "    </tr>\n",
              "    <tr>\n",
              "      <th>min</th>\n",
              "      <td>-374.000000</td>\n",
              "      <td>1.000000</td>\n",
              "      <td>-4287.630000</td>\n",
              "    </tr>\n",
              "    <tr>\n",
              "      <th>25%</th>\n",
              "      <td>-358.000000</td>\n",
              "      <td>17.000000</td>\n",
              "      <td>291.795000</td>\n",
              "    </tr>\n",
              "    <tr>\n",
              "      <th>50%</th>\n",
              "      <td>-324.000000</td>\n",
              "      <td>41.000000</td>\n",
              "      <td>644.070000</td>\n",
              "    </tr>\n",
              "    <tr>\n",
              "      <th>75%</th>\n",
              "      <td>-231.000000</td>\n",
              "      <td>99.250000</td>\n",
              "      <td>1608.335000</td>\n",
              "    </tr>\n",
              "    <tr>\n",
              "      <th>max</th>\n",
              "      <td>-1.000000</td>\n",
              "      <td>7812.000000</td>\n",
              "      <td>279489.020000</td>\n",
              "    </tr>\n",
              "  </tbody>\n",
              "</table>\n",
              "</div>"
            ],
            "text/plain": [
              "           Recency    Frequency       Monetary\n",
              "count  4372.000000  4372.000000    4372.000000\n",
              "mean   -282.418801    91.858188    1893.531433\n",
              "std     100.772139   229.223566    8218.696204\n",
              "min    -374.000000     1.000000   -4287.630000\n",
              "25%    -358.000000    17.000000     291.795000\n",
              "50%    -324.000000    41.000000     644.070000\n",
              "75%    -231.000000    99.250000    1608.335000\n",
              "max      -1.000000  7812.000000  279489.020000"
            ]
          },
          "execution_count": 29,
          "metadata": {},
          "output_type": "execute_result"
        }
      ],
      "source": [
        "RFMScore.describe()"
      ]
    },
    {
      "cell_type": "code",
      "execution_count": 30,
      "metadata": {
        "colab": {
          "base_uri": "https://localhost:8080/"
        },
        "id": "mG8K9FZuqAUZ",
        "outputId": "9cb6d3c6-ec95-42ed-bdc2-fc56c346343c"
      },
      "outputs": [
        {
          "name": "stdout",
          "output_type": "stream",
          "text": [
            "      Recency  Frequency  Monetary\n",
            "0.25   -358.0      17.00   291.795\n",
            "0.50   -324.0      41.00   644.070\n",
            "0.75   -231.0      99.25  1608.335\n"
          ]
        }
      ],
      "source": [
        "# Extract the quantiles of R, F, and M\n",
        "quantiles = RFMScore.quantile(q=[0.25,0.50,0.75])\n",
        "\n",
        "# Display the quantile values\n",
        "print(quantiles)"
      ]
    },
    {
      "cell_type": "code",
      "execution_count": 31,
      "metadata": {
        "colab": {
          "base_uri": "https://localhost:8080/"
        },
        "id": "XxXO4fdEqTUQ",
        "outputId": "514409b4-3c5c-4574-e376-2e49d6117cf5"
      },
      "outputs": [
        {
          "data": {
            "text/plain": [
              "{'Recency': {0.25: -358.0, 0.5: -324.0, 0.75: -231.0},\n",
              " 'Frequency': {0.25: 17.0, 0.5: 41.0, 0.75: 99.25},\n",
              " 'Monetary': {0.25: 291.795, 0.5: 644.0699999999999, 0.75: 1608.335}}"
            ]
          },
          "execution_count": 31,
          "metadata": {},
          "output_type": "execute_result"
        }
      ],
      "source": [
        "# Converting to dictionary format\n",
        "quantiles = quantiles.to_dict()\n",
        "\n",
        "# Display after conversion\n",
        "quantiles"
      ]
    },
    {
      "cell_type": "code",
      "execution_count": 32,
      "metadata": {
        "id": "WfFhsvVvqduj"
      },
      "outputs": [],
      "source": [
        "# Creating a function to group the customers into 4 based on Recency value\n",
        "# x = value\n",
        "# p = recency, monetary, frequency\n",
        "# d = quartiles dict\n",
        "# d[p][0.25] retrieves the value of p from dict d using the indices [0.25], [0.5], and [0.75]\n",
        "# Recency: the closer the last transaction, the better\n",
        "\n",
        "def RecencyScore(x,p,d):\n",
        "    if x <= d[p][0.25]:\n",
        "        return 1\n",
        "    elif x <= d[p][0.5]:\n",
        "        return 2\n",
        "    elif x <= d[p][0.75]:\n",
        "        return 3\n",
        "    else:\n",
        "        return 4"
      ]
    },
    {
      "cell_type": "code",
      "execution_count": 33,
      "metadata": {
        "id": "Mr6G39mGrFxL"
      },
      "outputs": [],
      "source": [
        "# Creating a function to group the customers into 4 based on Frequency and Monetary values\n",
        "# Frequency and Monetary: The larger the number of transactions and the total transaction amount, the better it is\n",
        "\n",
        "def FreqMonetScore(x,p,d):\n",
        "    if x <= d[p][0.25]:\n",
        "        return 4\n",
        "    elif x <= d[p][0.5]:\n",
        "        return 3\n",
        "    elif x <= d[p][0.75]:\n",
        "        return 2\n",
        "    else:\n",
        "        return 1\n"
      ]
    },
    {
      "cell_type": "code",
      "execution_count": 34,
      "metadata": {
        "colab": {
          "base_uri": "https://localhost:8080/"
        },
        "id": "Ic0MnapfrVTY",
        "outputId": "3f321838-b3d9-493b-8a24-d37cb90b041c"
      },
      "outputs": [
        {
          "data": {
            "text/plain": [
              "Index(['Recency', 'Frequency', 'Monetary'], dtype='object')"
            ]
          },
          "execution_count": 34,
          "metadata": {},
          "output_type": "execute_result"
        }
      ],
      "source": [
        "RFMScore.columns"
      ]
    },
    {
      "cell_type": "code",
      "execution_count": 35,
      "metadata": {
        "id": "WyP0wfUBrWdI"
      },
      "outputs": [],
      "source": [
        "# Applying the created function on the respective columns\n",
        "# Recency_Score(x,p,d):\n",
        "# x = value\n",
        "# p = recency, monetary_value, frequency\n",
        "# d = quartiles dict\n",
        "RFMScore['R'] = RFMScore['Recency'].apply(RecencyScore, args = ('Recency',quantiles))\n",
        "RFMScore['F'] = RFMScore['Frequency'].apply(FreqMonetScore, args = ('Frequency',quantiles))\n",
        "RFMScore['M'] = RFMScore['Monetary'].apply(FreqMonetScore, args = ('Monetary',quantiles))"
      ]
    },
    {
      "cell_type": "code",
      "execution_count": 36,
      "metadata": {
        "colab": {
          "base_uri": "https://localhost:8080/",
          "height": 455
        },
        "id": "lu9DRtRTrj6G",
        "outputId": "101bd160-62dc-4673-f253-fd99a98f8db6"
      },
      "outputs": [
        {
          "data": {
            "text/html": [
              "<div>\n",
              "<style scoped>\n",
              "    .dataframe tbody tr th:only-of-type {\n",
              "        vertical-align: middle;\n",
              "    }\n",
              "\n",
              "    .dataframe tbody tr th {\n",
              "        vertical-align: top;\n",
              "    }\n",
              "\n",
              "    .dataframe thead th {\n",
              "        text-align: right;\n",
              "    }\n",
              "</style>\n",
              "<table border=\"1\" class=\"dataframe\">\n",
              "  <thead>\n",
              "    <tr style=\"text-align: right;\">\n",
              "      <th></th>\n",
              "      <th>Recency</th>\n",
              "      <th>Frequency</th>\n",
              "      <th>Monetary</th>\n",
              "      <th>R</th>\n",
              "      <th>F</th>\n",
              "      <th>M</th>\n",
              "    </tr>\n",
              "    <tr>\n",
              "      <th>CustomerID</th>\n",
              "      <th></th>\n",
              "      <th></th>\n",
              "      <th></th>\n",
              "      <th></th>\n",
              "      <th></th>\n",
              "      <th></th>\n",
              "    </tr>\n",
              "  </thead>\n",
              "  <tbody>\n",
              "    <tr>\n",
              "      <th>12346.0</th>\n",
              "      <td>-49</td>\n",
              "      <td>2</td>\n",
              "      <td>0.00</td>\n",
              "      <td>4</td>\n",
              "      <td>4</td>\n",
              "      <td>4</td>\n",
              "    </tr>\n",
              "    <tr>\n",
              "      <th>12347.0</th>\n",
              "      <td>-372</td>\n",
              "      <td>182</td>\n",
              "      <td>4310.00</td>\n",
              "      <td>1</td>\n",
              "      <td>1</td>\n",
              "      <td>1</td>\n",
              "    </tr>\n",
              "    <tr>\n",
              "      <th>12348.0</th>\n",
              "      <td>-299</td>\n",
              "      <td>31</td>\n",
              "      <td>1797.24</td>\n",
              "      <td>3</td>\n",
              "      <td>3</td>\n",
              "      <td>1</td>\n",
              "    </tr>\n",
              "    <tr>\n",
              "      <th>12349.0</th>\n",
              "      <td>-356</td>\n",
              "      <td>73</td>\n",
              "      <td>1757.55</td>\n",
              "      <td>2</td>\n",
              "      <td>2</td>\n",
              "      <td>1</td>\n",
              "    </tr>\n",
              "    <tr>\n",
              "      <th>12350.0</th>\n",
              "      <td>-64</td>\n",
              "      <td>17</td>\n",
              "      <td>334.40</td>\n",
              "      <td>4</td>\n",
              "      <td>4</td>\n",
              "      <td>3</td>\n",
              "    </tr>\n",
              "    <tr>\n",
              "      <th>...</th>\n",
              "      <td>...</td>\n",
              "      <td>...</td>\n",
              "      <td>...</td>\n",
              "      <td>...</td>\n",
              "      <td>...</td>\n",
              "      <td>...</td>\n",
              "    </tr>\n",
              "    <tr>\n",
              "      <th>18280.0</th>\n",
              "      <td>-97</td>\n",
              "      <td>10</td>\n",
              "      <td>180.60</td>\n",
              "      <td>4</td>\n",
              "      <td>4</td>\n",
              "      <td>4</td>\n",
              "    </tr>\n",
              "    <tr>\n",
              "      <th>18281.0</th>\n",
              "      <td>-194</td>\n",
              "      <td>7</td>\n",
              "      <td>80.82</td>\n",
              "      <td>4</td>\n",
              "      <td>4</td>\n",
              "      <td>4</td>\n",
              "    </tr>\n",
              "    <tr>\n",
              "      <th>18282.0</th>\n",
              "      <td>-367</td>\n",
              "      <td>13</td>\n",
              "      <td>176.60</td>\n",
              "      <td>1</td>\n",
              "      <td>4</td>\n",
              "      <td>4</td>\n",
              "    </tr>\n",
              "    <tr>\n",
              "      <th>18283.0</th>\n",
              "      <td>-371</td>\n",
              "      <td>721</td>\n",
              "      <td>2045.53</td>\n",
              "      <td>1</td>\n",
              "      <td>1</td>\n",
              "      <td>1</td>\n",
              "    </tr>\n",
              "    <tr>\n",
              "      <th>18287.0</th>\n",
              "      <td>-332</td>\n",
              "      <td>70</td>\n",
              "      <td>1837.28</td>\n",
              "      <td>2</td>\n",
              "      <td>2</td>\n",
              "      <td>1</td>\n",
              "    </tr>\n",
              "  </tbody>\n",
              "</table>\n",
              "<p>4372 rows × 6 columns</p>\n",
              "</div>"
            ],
            "text/plain": [
              "            Recency  Frequency  Monetary  R  F  M\n",
              "CustomerID                                       \n",
              "12346.0         -49          2      0.00  4  4  4\n",
              "12347.0        -372        182   4310.00  1  1  1\n",
              "12348.0        -299         31   1797.24  3  3  1\n",
              "12349.0        -356         73   1757.55  2  2  1\n",
              "12350.0         -64         17    334.40  4  4  3\n",
              "...             ...        ...       ... .. .. ..\n",
              "18280.0         -97         10    180.60  4  4  4\n",
              "18281.0        -194          7     80.82  4  4  4\n",
              "18282.0        -367         13    176.60  1  4  4\n",
              "18283.0        -371        721   2045.53  1  1  1\n",
              "18287.0        -332         70   1837.28  2  2  1\n",
              "\n",
              "[4372 rows x 6 columns]"
            ]
          },
          "execution_count": 36,
          "metadata": {},
          "output_type": "execute_result"
        }
      ],
      "source": [
        "# Display the DataFrame of RFM\n",
        "RFMScore"
      ]
    },
    {
      "cell_type": "code",
      "execution_count": 37,
      "metadata": {
        "id": "Lak-MqQ7rmXo"
      },
      "outputs": [],
      "source": [
        "#Creating a new field 'RFMValue' to split the customers into 10 segments\n",
        "RFMScore['RFMValue'] = RFMScore[['R','F','M']].sum(axis = 1)"
      ]
    },
    {
      "cell_type": "code",
      "execution_count": 38,
      "metadata": {
        "id": "BYAvbnPEry7b"
      },
      "outputs": [],
      "source": [
        "RFMScore['RFMGroup'] = RFMScore.R.map(str) + RFMScore.F.map(str) + RFMScore.M.map(str)"
      ]
    },
    {
      "cell_type": "code",
      "execution_count": 39,
      "metadata": {
        "colab": {
          "base_uri": "https://localhost:8080/",
          "height": 423
        },
        "id": "XXDHbDwUr3Ge",
        "outputId": "ea0c2596-9326-49c1-f254-5bff51597167"
      },
      "outputs": [
        {
          "data": {
            "text/html": [
              "<div>\n",
              "<style scoped>\n",
              "    .dataframe tbody tr th:only-of-type {\n",
              "        vertical-align: middle;\n",
              "    }\n",
              "\n",
              "    .dataframe tbody tr th {\n",
              "        vertical-align: top;\n",
              "    }\n",
              "\n",
              "    .dataframe thead th {\n",
              "        text-align: right;\n",
              "    }\n",
              "</style>\n",
              "<table border=\"1\" class=\"dataframe\">\n",
              "  <thead>\n",
              "    <tr style=\"text-align: right;\">\n",
              "      <th></th>\n",
              "      <th>CustomerID</th>\n",
              "      <th>Recency</th>\n",
              "      <th>Frequency</th>\n",
              "      <th>Monetary</th>\n",
              "      <th>R</th>\n",
              "      <th>F</th>\n",
              "      <th>M</th>\n",
              "      <th>RFMValue</th>\n",
              "      <th>RFMGroup</th>\n",
              "    </tr>\n",
              "  </thead>\n",
              "  <tbody>\n",
              "    <tr>\n",
              "      <th>0</th>\n",
              "      <td>12346.0</td>\n",
              "      <td>-49</td>\n",
              "      <td>2</td>\n",
              "      <td>0.00</td>\n",
              "      <td>4</td>\n",
              "      <td>4</td>\n",
              "      <td>4</td>\n",
              "      <td>12</td>\n",
              "      <td>444</td>\n",
              "    </tr>\n",
              "    <tr>\n",
              "      <th>1</th>\n",
              "      <td>12347.0</td>\n",
              "      <td>-372</td>\n",
              "      <td>182</td>\n",
              "      <td>4310.00</td>\n",
              "      <td>1</td>\n",
              "      <td>1</td>\n",
              "      <td>1</td>\n",
              "      <td>3</td>\n",
              "      <td>111</td>\n",
              "    </tr>\n",
              "    <tr>\n",
              "      <th>2</th>\n",
              "      <td>12348.0</td>\n",
              "      <td>-299</td>\n",
              "      <td>31</td>\n",
              "      <td>1797.24</td>\n",
              "      <td>3</td>\n",
              "      <td>3</td>\n",
              "      <td>1</td>\n",
              "      <td>7</td>\n",
              "      <td>331</td>\n",
              "    </tr>\n",
              "    <tr>\n",
              "      <th>3</th>\n",
              "      <td>12349.0</td>\n",
              "      <td>-356</td>\n",
              "      <td>73</td>\n",
              "      <td>1757.55</td>\n",
              "      <td>2</td>\n",
              "      <td>2</td>\n",
              "      <td>1</td>\n",
              "      <td>5</td>\n",
              "      <td>221</td>\n",
              "    </tr>\n",
              "    <tr>\n",
              "      <th>4</th>\n",
              "      <td>12350.0</td>\n",
              "      <td>-64</td>\n",
              "      <td>17</td>\n",
              "      <td>334.40</td>\n",
              "      <td>4</td>\n",
              "      <td>4</td>\n",
              "      <td>3</td>\n",
              "      <td>11</td>\n",
              "      <td>443</td>\n",
              "    </tr>\n",
              "    <tr>\n",
              "      <th>...</th>\n",
              "      <td>...</td>\n",
              "      <td>...</td>\n",
              "      <td>...</td>\n",
              "      <td>...</td>\n",
              "      <td>...</td>\n",
              "      <td>...</td>\n",
              "      <td>...</td>\n",
              "      <td>...</td>\n",
              "      <td>...</td>\n",
              "    </tr>\n",
              "    <tr>\n",
              "      <th>4367</th>\n",
              "      <td>18280.0</td>\n",
              "      <td>-97</td>\n",
              "      <td>10</td>\n",
              "      <td>180.60</td>\n",
              "      <td>4</td>\n",
              "      <td>4</td>\n",
              "      <td>4</td>\n",
              "      <td>12</td>\n",
              "      <td>444</td>\n",
              "    </tr>\n",
              "    <tr>\n",
              "      <th>4368</th>\n",
              "      <td>18281.0</td>\n",
              "      <td>-194</td>\n",
              "      <td>7</td>\n",
              "      <td>80.82</td>\n",
              "      <td>4</td>\n",
              "      <td>4</td>\n",
              "      <td>4</td>\n",
              "      <td>12</td>\n",
              "      <td>444</td>\n",
              "    </tr>\n",
              "    <tr>\n",
              "      <th>4369</th>\n",
              "      <td>18282.0</td>\n",
              "      <td>-367</td>\n",
              "      <td>13</td>\n",
              "      <td>176.60</td>\n",
              "      <td>1</td>\n",
              "      <td>4</td>\n",
              "      <td>4</td>\n",
              "      <td>9</td>\n",
              "      <td>144</td>\n",
              "    </tr>\n",
              "    <tr>\n",
              "      <th>4370</th>\n",
              "      <td>18283.0</td>\n",
              "      <td>-371</td>\n",
              "      <td>721</td>\n",
              "      <td>2045.53</td>\n",
              "      <td>1</td>\n",
              "      <td>1</td>\n",
              "      <td>1</td>\n",
              "      <td>3</td>\n",
              "      <td>111</td>\n",
              "    </tr>\n",
              "    <tr>\n",
              "      <th>4371</th>\n",
              "      <td>18287.0</td>\n",
              "      <td>-332</td>\n",
              "      <td>70</td>\n",
              "      <td>1837.28</td>\n",
              "      <td>2</td>\n",
              "      <td>2</td>\n",
              "      <td>1</td>\n",
              "      <td>5</td>\n",
              "      <td>221</td>\n",
              "    </tr>\n",
              "  </tbody>\n",
              "</table>\n",
              "<p>4372 rows × 9 columns</p>\n",
              "</div>"
            ],
            "text/plain": [
              "      CustomerID  Recency  Frequency  Monetary  R  F  M  RFMValue RFMGroup\n",
              "0        12346.0      -49          2      0.00  4  4  4        12      444\n",
              "1        12347.0     -372        182   4310.00  1  1  1         3      111\n",
              "2        12348.0     -299         31   1797.24  3  3  1         7      331\n",
              "3        12349.0     -356         73   1757.55  2  2  1         5      221\n",
              "4        12350.0      -64         17    334.40  4  4  3        11      443\n",
              "...          ...      ...        ...       ... .. .. ..       ...      ...\n",
              "4367     18280.0      -97         10    180.60  4  4  4        12      444\n",
              "4368     18281.0     -194          7     80.82  4  4  4        12      444\n",
              "4369     18282.0     -367         13    176.60  1  4  4         9      144\n",
              "4370     18283.0     -371        721   2045.53  1  1  1         3      111\n",
              "4371     18287.0     -332         70   1837.28  2  2  1         5      221\n",
              "\n",
              "[4372 rows x 9 columns]"
            ]
          },
          "execution_count": 39,
          "metadata": {},
          "output_type": "execute_result"
        }
      ],
      "source": [
        "RFMScore.reset_index()"
      ]
    },
    {
      "cell_type": "code",
      "execution_count": 40,
      "metadata": {
        "colab": {
          "base_uri": "https://localhost:8080/",
          "height": 423
        },
        "id": "-FaoO8KOr4hc",
        "outputId": "1664d1d7-4d2f-443a-e5f2-c88f4ddcb59a"
      },
      "outputs": [
        {
          "data": {
            "text/html": [
              "<div>\n",
              "<style scoped>\n",
              "    .dataframe tbody tr th:only-of-type {\n",
              "        vertical-align: middle;\n",
              "    }\n",
              "\n",
              "    .dataframe tbody tr th {\n",
              "        vertical-align: top;\n",
              "    }\n",
              "\n",
              "    .dataframe thead th {\n",
              "        text-align: right;\n",
              "    }\n",
              "</style>\n",
              "<table border=\"1\" class=\"dataframe\">\n",
              "  <thead>\n",
              "    <tr style=\"text-align: right;\">\n",
              "      <th></th>\n",
              "      <th>CustomerID</th>\n",
              "      <th>Recency</th>\n",
              "      <th>Frequency</th>\n",
              "      <th>Monetary</th>\n",
              "      <th>R</th>\n",
              "      <th>F</th>\n",
              "      <th>M</th>\n",
              "      <th>RFMValue</th>\n",
              "      <th>RFMGroup</th>\n",
              "      <th>Customer_Level</th>\n",
              "    </tr>\n",
              "  </thead>\n",
              "  <tbody>\n",
              "    <tr>\n",
              "      <th>0</th>\n",
              "      <td>12346.0</td>\n",
              "      <td>-49</td>\n",
              "      <td>2</td>\n",
              "      <td>0.00</td>\n",
              "      <td>4</td>\n",
              "      <td>4</td>\n",
              "      <td>4</td>\n",
              "      <td>12</td>\n",
              "      <td>444</td>\n",
              "      <td>Silver</td>\n",
              "    </tr>\n",
              "    <tr>\n",
              "      <th>1</th>\n",
              "      <td>12347.0</td>\n",
              "      <td>-372</td>\n",
              "      <td>182</td>\n",
              "      <td>4310.00</td>\n",
              "      <td>1</td>\n",
              "      <td>1</td>\n",
              "      <td>1</td>\n",
              "      <td>3</td>\n",
              "      <td>111</td>\n",
              "      <td>Platinum</td>\n",
              "    </tr>\n",
              "    <tr>\n",
              "      <th>2</th>\n",
              "      <td>12348.0</td>\n",
              "      <td>-299</td>\n",
              "      <td>31</td>\n",
              "      <td>1797.24</td>\n",
              "      <td>3</td>\n",
              "      <td>3</td>\n",
              "      <td>1</td>\n",
              "      <td>7</td>\n",
              "      <td>331</td>\n",
              "      <td>Diamond</td>\n",
              "    </tr>\n",
              "    <tr>\n",
              "      <th>3</th>\n",
              "      <td>12349.0</td>\n",
              "      <td>-356</td>\n",
              "      <td>73</td>\n",
              "      <td>1757.55</td>\n",
              "      <td>2</td>\n",
              "      <td>2</td>\n",
              "      <td>1</td>\n",
              "      <td>5</td>\n",
              "      <td>221</td>\n",
              "      <td>Platinum</td>\n",
              "    </tr>\n",
              "    <tr>\n",
              "      <th>4</th>\n",
              "      <td>12350.0</td>\n",
              "      <td>-64</td>\n",
              "      <td>17</td>\n",
              "      <td>334.40</td>\n",
              "      <td>4</td>\n",
              "      <td>4</td>\n",
              "      <td>3</td>\n",
              "      <td>11</td>\n",
              "      <td>443</td>\n",
              "      <td>Silver</td>\n",
              "    </tr>\n",
              "    <tr>\n",
              "      <th>...</th>\n",
              "      <td>...</td>\n",
              "      <td>...</td>\n",
              "      <td>...</td>\n",
              "      <td>...</td>\n",
              "      <td>...</td>\n",
              "      <td>...</td>\n",
              "      <td>...</td>\n",
              "      <td>...</td>\n",
              "      <td>...</td>\n",
              "      <td>...</td>\n",
              "    </tr>\n",
              "    <tr>\n",
              "      <th>4367</th>\n",
              "      <td>18280.0</td>\n",
              "      <td>-97</td>\n",
              "      <td>10</td>\n",
              "      <td>180.60</td>\n",
              "      <td>4</td>\n",
              "      <td>4</td>\n",
              "      <td>4</td>\n",
              "      <td>12</td>\n",
              "      <td>444</td>\n",
              "      <td>Silver</td>\n",
              "    </tr>\n",
              "    <tr>\n",
              "      <th>4368</th>\n",
              "      <td>18281.0</td>\n",
              "      <td>-194</td>\n",
              "      <td>7</td>\n",
              "      <td>80.82</td>\n",
              "      <td>4</td>\n",
              "      <td>4</td>\n",
              "      <td>4</td>\n",
              "      <td>12</td>\n",
              "      <td>444</td>\n",
              "      <td>Silver</td>\n",
              "    </tr>\n",
              "    <tr>\n",
              "      <th>4369</th>\n",
              "      <td>18282.0</td>\n",
              "      <td>-367</td>\n",
              "      <td>13</td>\n",
              "      <td>176.60</td>\n",
              "      <td>1</td>\n",
              "      <td>4</td>\n",
              "      <td>4</td>\n",
              "      <td>9</td>\n",
              "      <td>144</td>\n",
              "      <td>Gold</td>\n",
              "    </tr>\n",
              "    <tr>\n",
              "      <th>4370</th>\n",
              "      <td>18283.0</td>\n",
              "      <td>-371</td>\n",
              "      <td>721</td>\n",
              "      <td>2045.53</td>\n",
              "      <td>1</td>\n",
              "      <td>1</td>\n",
              "      <td>1</td>\n",
              "      <td>3</td>\n",
              "      <td>111</td>\n",
              "      <td>Platinum</td>\n",
              "    </tr>\n",
              "    <tr>\n",
              "      <th>4371</th>\n",
              "      <td>18287.0</td>\n",
              "      <td>-332</td>\n",
              "      <td>70</td>\n",
              "      <td>1837.28</td>\n",
              "      <td>2</td>\n",
              "      <td>2</td>\n",
              "      <td>1</td>\n",
              "      <td>5</td>\n",
              "      <td>221</td>\n",
              "      <td>Platinum</td>\n",
              "    </tr>\n",
              "  </tbody>\n",
              "</table>\n",
              "<p>4372 rows × 10 columns</p>\n",
              "</div>"
            ],
            "text/plain": [
              "      CustomerID  Recency  Frequency  Monetary  R  F  M  RFMValue RFMGroup  \\\n",
              "0        12346.0      -49          2      0.00  4  4  4        12      444   \n",
              "1        12347.0     -372        182   4310.00  1  1  1         3      111   \n",
              "2        12348.0     -299         31   1797.24  3  3  1         7      331   \n",
              "3        12349.0     -356         73   1757.55  2  2  1         5      221   \n",
              "4        12350.0      -64         17    334.40  4  4  3        11      443   \n",
              "...          ...      ...        ...       ... .. .. ..       ...      ...   \n",
              "4367     18280.0      -97         10    180.60  4  4  4        12      444   \n",
              "4368     18281.0     -194          7     80.82  4  4  4        12      444   \n",
              "4369     18282.0     -367         13    176.60  1  4  4         9      144   \n",
              "4370     18283.0     -371        721   2045.53  1  1  1         3      111   \n",
              "4371     18287.0     -332         70   1837.28  2  2  1         5      221   \n",
              "\n",
              "     Customer_Level  \n",
              "0            Silver  \n",
              "1          Platinum  \n",
              "2           Diamond  \n",
              "3          Platinum  \n",
              "4            Silver  \n",
              "...             ...  \n",
              "4367         Silver  \n",
              "4368         Silver  \n",
              "4369           Gold  \n",
              "4370       Platinum  \n",
              "4371       Platinum  \n",
              "\n",
              "[4372 rows x 10 columns]"
            ]
          },
          "execution_count": 40,
          "metadata": {},
          "output_type": "execute_result"
        }
      ],
      "source": [
        "#Grouping the 10 segments of customers into 4 groups and naming them\n",
        "CustomerLevel = ['Platinum','Diamond','Gold','Silver']\n",
        "scoreCuts = pd.qcut(RFMScore.RFMValue, q=4, labels=CustomerLevel)\n",
        "RFMScore['Customer_Level'] = scoreCuts.values\n",
        "RFMScore = RFMScore.reset_index()\n",
        "RFMScore"
      ]
    },
    {
      "cell_type": "code",
      "execution_count": 91,
      "metadata": {},
      "outputs": [],
      "source": [
        "RFMScore['CustomerID'] = RFMScore['CustomerID'].astype(int)\n",
        "RFMScore['RFMGroup'] = RFMScore['RFMGroup'].astype(int)\n",
        "RFMScore['Customer_Level'] = RFMScore['Customer_Level'].astype('object')"
      ]
    },
    {
      "cell_type": "markdown",
      "metadata": {},
      "source": [
        "### Handling Outlier"
      ]
    },
    {
      "cell_type": "code",
      "execution_count": 92,
      "metadata": {},
      "outputs": [
        {
          "name": "stdout",
          "output_type": "stream",
          "text": [
            "<class 'pandas.core.frame.DataFrame'>\n",
            "RangeIndex: 4372 entries, 0 to 4371\n",
            "Data columns (total 10 columns):\n",
            " #   Column          Non-Null Count  Dtype  \n",
            "---  ------          --------------  -----  \n",
            " 0   CustomerID      4372 non-null   int32  \n",
            " 1   Recency         4372 non-null   int64  \n",
            " 2   Frequency       4372 non-null   int64  \n",
            " 3   Monetary        4372 non-null   float64\n",
            " 4   R               4372 non-null   int64  \n",
            " 5   F               4372 non-null   int64  \n",
            " 6   M               4372 non-null   int64  \n",
            " 7   RFMValue        4372 non-null   int64  \n",
            " 8   RFMGroup        4372 non-null   int32  \n",
            " 9   Customer_Level  4372 non-null   object \n",
            "dtypes: float64(1), int32(2), int64(6), object(1)\n",
            "memory usage: 307.5+ KB\n"
          ]
        }
      ],
      "source": [
        "RFMScore.info()"
      ]
    },
    {
      "cell_type": "code",
      "execution_count": 93,
      "metadata": {},
      "outputs": [
        {
          "data": {
            "text/plain": [
              "CustomerID        4372\n",
              "Recency            304\n",
              "Frequency          466\n",
              "Monetary          4314\n",
              "R                    4\n",
              "F                    4\n",
              "M                    4\n",
              "RFMValue            10\n",
              "RFMGroup            62\n",
              "Customer_Level       4\n",
              "dtype: int64"
            ]
          },
          "execution_count": 93,
          "metadata": {},
          "output_type": "execute_result"
        }
      ],
      "source": [
        "RFMScore.nunique()"
      ]
    },
    {
      "cell_type": "code",
      "execution_count": 94,
      "metadata": {},
      "outputs": [
        {
          "name": "stdout",
          "output_type": "stream",
          "text": [
            "(4372, 10)\n"
          ]
        }
      ],
      "source": [
        "print(RFMScore.shape)"
      ]
    },
    {
      "cell_type": "code",
      "execution_count": 95,
      "metadata": {},
      "outputs": [
        {
          "name": "stdout",
          "output_type": "stream",
          "text": [
            "normal: ['CustomerID', 'RFMValue', 'RFMGroup']\n",
            "skew: []\n",
            "extreme skew: ['Recency', 'Frequency', 'Monetary']\n"
          ]
        }
      ],
      "source": [
        "# mempersiapkan kolom normal, skew, dan extreme\n",
        "normal = []\n",
        "skew = []\n",
        "extreme = []\n",
        "\n",
        "# looping pemanggilan\n",
        "for i in RFMScore.columns.to_list():\n",
        "    if RFMScore[i].nunique()>4:\n",
        "        skewness = RFMScore[i].skew()\n",
        "        if -0.5 < skewness < 0.5:\n",
        "            normal.append(i)\n",
        "        elif -1 <= skewness <= -0.5 or 0.5 <= skewness <=1:\n",
        "            skew.append(i)\n",
        "        elif skewness < 1 or skewness > 1:\n",
        "            extreme.append(i)\n",
        "        \n",
        "# nge print panggilan normal ,skew ,extreme\n",
        "print('normal:', normal)\n",
        "print('skew:', skew)\n",
        "print('extreme skew:', extreme)"
      ]
    },
    {
      "cell_type": "code",
      "execution_count": 96,
      "metadata": {},
      "outputs": [],
      "source": [
        "RFMScore_winso = RFMScore"
      ]
    },
    {
      "cell_type": "code",
      "execution_count": 97,
      "metadata": {},
      "outputs": [],
      "source": [
        "winsoriser_extreme = Winsorizer(capping_method='iqr',\n",
        "                             tail='both',\n",
        "                             fold=3,\n",
        "                             variables=extreme)"
      ]
    },
    {
      "cell_type": "code",
      "execution_count": 98,
      "metadata": {},
      "outputs": [],
      "source": [
        "RFMS_capped = winsoriser_extreme.fit_transform(RFMScore_winso)"
      ]
    },
    {
      "cell_type": "code",
      "execution_count": 99,
      "metadata": {},
      "outputs": [
        {
          "name": "stdout",
          "output_type": "stream",
          "text": [
            "Recency - Before Capping\n"
          ]
        },
        {
          "name": "stderr",
          "output_type": "stream",
          "text": [
            "c:\\Users\\adhy arya\\anaconda3\\Lib\\site-packages\\seaborn\\_oldcore.py:1119: FutureWarning: use_inf_as_na option is deprecated and will be removed in a future version. Convert inf values to NaN before operating instead.\n",
            "  with pd.option_context('mode.use_inf_as_na', True):\n"
          ]
        },
        {
          "data": {
            "image/png": "[encoded data removed]",
            "text/plain": [
              "<Figure size 1200x600 with 2 Axes>"
            ]
          },
          "metadata": {},
          "output_type": "display_data"
        },
        {
          "name": "stdout",
          "output_type": "stream",
          "text": [
            "\n",
            " Recency - After Capping\n"
          ]
        },
        {
          "name": "stderr",
          "output_type": "stream",
          "text": [
            "c:\\Users\\adhy arya\\anaconda3\\Lib\\site-packages\\seaborn\\_oldcore.py:1119: FutureWarning: use_inf_as_na option is deprecated and will be removed in a future version. Convert inf values to NaN before operating instead.\n",
            "  with pd.option_context('mode.use_inf_as_na', True):\n"
          ]
        },
        {
          "data": {
            "image/png": "[encoded data removed]",
            "text/plain": [
              "<Figure size 1200x600 with 2 Axes>"
            ]
          },
          "metadata": {},
          "output_type": "display_data"
        },
        {
          "name": "stdout",
          "output_type": "stream",
          "text": [
            "Frequency - Before Capping\n"
          ]
        },
        {
          "name": "stderr",
          "output_type": "stream",
          "text": [
            "c:\\Users\\adhy arya\\anaconda3\\Lib\\site-packages\\seaborn\\_oldcore.py:1119: FutureWarning: use_inf_as_na option is deprecated and will be removed in a future version. Convert inf values to NaN before operating instead.\n",
            "  with pd.option_context('mode.use_inf_as_na', True):\n"
          ]
        },
        {
          "data": {
            "image/png": "[encoded data removed]",
            "text/plain": [
              "<Figure size 1200x600 with 2 Axes>"
            ]
          },
          "metadata": {},
          "output_type": "display_data"
        },
        {
          "name": "stdout",
          "output_type": "stream",
          "text": [
            "\n",
            " Frequency - After Capping\n"
          ]
        },
        {
          "name": "stderr",
          "output_type": "stream",
          "text": [
            "c:\\Users\\adhy arya\\anaconda3\\Lib\\site-packages\\seaborn\\_oldcore.py:1119: FutureWarning: use_inf_as_na option is deprecated and will be removed in a future version. Convert inf values to NaN before operating instead.\n",
            "  with pd.option_context('mode.use_inf_as_na', True):\n"
          ]
        },
        {
          "data": {
            "image/png": "[encoded data removed]",
            "text/plain": [
              "<Figure size 1200x600 with 2 Axes>"
            ]
          },
          "metadata": {},
          "output_type": "display_data"
        },
        {
          "name": "stdout",
          "output_type": "stream",
          "text": [
            "Monetary - Before Capping\n"
          ]
        },
        {
          "name": "stderr",
          "output_type": "stream",
          "text": [
            "c:\\Users\\adhy arya\\anaconda3\\Lib\\site-packages\\seaborn\\_oldcore.py:1119: FutureWarning: use_inf_as_na option is deprecated and will be removed in a future version. Convert inf values to NaN before operating instead.\n",
            "  with pd.option_context('mode.use_inf_as_na', True):\n"
          ]
        },
        {
          "data": {
            "image/png": "[encoded data removed]",
            "text/plain": [
              "<Figure size 1200x600 with 2 Axes>"
            ]
          },
          "metadata": {},
          "output_type": "display_data"
        },
        {
          "name": "stdout",
          "output_type": "stream",
          "text": [
            "\n",
            " Monetary - After Capping\n"
          ]
        },
        {
          "name": "stderr",
          "output_type": "stream",
          "text": [
            "c:\\Users\\adhy arya\\anaconda3\\Lib\\site-packages\\seaborn\\_oldcore.py:1119: FutureWarning: use_inf_as_na option is deprecated and will be removed in a future version. Convert inf values to NaN before operating instead.\n",
            "  with pd.option_context('mode.use_inf_as_na', True):\n"
          ]
        },
        {
          "data": {
            "image/png": "[encoded data removed]",
            "text/plain": [
              "<Figure size 1200x600 with 2 Axes>"
            ]
          },
          "metadata": {},
          "output_type": "display_data"
        }
      ],
      "source": [
        "# Check the distribution before and after capping\n",
        "def diagnostic_plots(RFMScore, feature):\n",
        "    fig, axes = plt.subplots(1, 2, figsize=(12, 6))  # Create a figure with two subplots\n",
        "\n",
        "    # Histogram\n",
        "    sns.histplot(RFMScore[feature], ax=axes[0])\n",
        "    axes[0].set_title('Histogram')\n",
        "\n",
        "    # Box plot\n",
        "    sns.boxplot(y=RFMScore[feature], ax=axes[1])\n",
        "    axes[1].set_title('Box Plot')\n",
        "\n",
        "    plt.tight_layout()  # Adjust layout to prevent overlap\n",
        "    plt.show()\n",
        "    \n",
        "    \n",
        "print('Recency - Before Capping')\n",
        "diagnostic_plots(RFMScore, 'Recency')\n",
        "\n",
        "print('\\n Recency - After Capping')\n",
        "diagnostic_plots(RFMS_capped, 'Recency')\n",
        "\n",
        "print('Frequency - Before Capping')\n",
        "diagnostic_plots(RFMScore, 'Frequency')\n",
        "\n",
        "print('\\n Frequency - After Capping')\n",
        "diagnostic_plots(RFMS_capped, 'Frequency')\n",
        "\n",
        "print('Monetary - Before Capping')\n",
        "diagnostic_plots(RFMScore, 'Monetary')\n",
        "\n",
        "print('\\n Monetary - After Capping')\n",
        "diagnostic_plots(RFMS_capped, 'Monetary')"
      ]
    },
    {
      "cell_type": "code",
      "execution_count": 100,
      "metadata": {},
      "outputs": [],
      "source": [
        "# # membuat fungsi def drop outliers normal\n",
        "def drop_outliers_normal(RFMS_capped, normal):\n",
        "    for col in normal:\n",
        "        avg = RFMS_capped[col].mean()\n",
        "        std = RFMS_capped[col].std()\n",
        "        upper_limit =  avg + 3 * std\n",
        "        lower_limit = avg - 3 * std\n",
        "        RFMS_capped.drop(RFMS_capped[(RFMS_capped[col] > upper_limit) | (RFMS_capped[col] < lower_limit)].index, inplace=True)"
      ]
    },
    {
      "cell_type": "code",
      "execution_count": 101,
      "metadata": {},
      "outputs": [
        {
          "name": "stdout",
          "output_type": "stream",
          "text": [
            "(4372, 10)\n"
          ]
        }
      ],
      "source": [
        "print(RFMS_capped.shape)"
      ]
    },
    {
      "cell_type": "code",
      "execution_count": 102,
      "metadata": {},
      "outputs": [
        {
          "name": "stdout",
          "output_type": "stream",
          "text": [
            "Num Columns :  ['CustomerID', 'Recency', 'Frequency', 'Monetary', 'R', 'F', 'M', 'RFMValue', 'RFMGroup']\n",
            "Cat Columns :  ['Customer_Level']\n"
          ]
        }
      ],
      "source": [
        "# Splitting numeric columns and categorical columns\n",
        "\n",
        "num_columns = RFMS_capped.select_dtypes(include=np.number).columns.tolist()\n",
        "cat_columns = RFMS_capped.select_dtypes(include=['object']).columns.tolist()\n",
        "\n",
        "RFMScore_num =RFMScore[num_columns]\n",
        "RFMScore_cat =RFMScore[cat_columns]\n",
        "\n",
        "print('Num Columns : ', num_columns)\n",
        "print('Cat Columns : ', cat_columns)"
      ]
    },
    {
      "cell_type": "code",
      "execution_count": 104,
      "metadata": {},
      "outputs": [
        {
          "ename": "ValueError",
          "evalue": "could not convert string to float: 'CustomerID'",
          "output_type": "error",
          "traceback": [
            "\u001b[1;31m---------------------------------------------------------------------------\u001b[0m",
            "\u001b[1;31mValueError\u001b[0m                                Traceback (most recent call last)",
            "Cell \u001b[1;32mIn[104], line 3\u001b[0m\n\u001b[0;32m      1\u001b[0m \u001b[38;5;66;03m# scaling\u001b[39;00m\n\u001b[0;32m      2\u001b[0m model_scaler \u001b[38;5;241m=\u001b[39m StandardScaler()\n\u001b[1;32m----> 3\u001b[0m model_scaler\u001b[38;5;241m.\u001b[39mfit(num_columns) \u001b[38;5;66;03m#.fit() hanya boleh dilakukan terhadap train, tidak boleg di test - set\u001b[39;00m\n\u001b[0;32m      4\u001b[0m \u001b[38;5;66;03m#melakukan proses perubahan skala\u001b[39;00m\n\u001b[0;32m      5\u001b[0m RFMS_scaled \u001b[38;5;241m=\u001b[39m model_scaler\u001b[38;5;241m.\u001b[39mtransform(num_columns)\n",
            "File \u001b[1;32mc:\\Users\\adhy arya\\anaconda3\\Lib\\site-packages\\sklearn\\preprocessing\\_data.py:876\u001b[0m, in \u001b[0;36mStandardScaler.fit\u001b[1;34m(self, X, y, sample_weight)\u001b[0m\n\u001b[0;32m    874\u001b[0m \u001b[38;5;66;03m# Reset internal state before fitting\u001b[39;00m\n\u001b[0;32m    875\u001b[0m \u001b[38;5;28mself\u001b[39m\u001b[38;5;241m.\u001b[39m_reset()\n\u001b[1;32m--> 876\u001b[0m \u001b[38;5;28;01mreturn\u001b[39;00m \u001b[38;5;28mself\u001b[39m\u001b[38;5;241m.\u001b[39mpartial_fit(X, y, sample_weight)\n",
            "File \u001b[1;32mc:\\Users\\adhy arya\\anaconda3\\Lib\\site-packages\\sklearn\\base.py:1474\u001b[0m, in \u001b[0;36m_fit_context.<locals>.decorator.<locals>.wrapper\u001b[1;34m(estimator, *args, **kwargs)\u001b[0m\n\u001b[0;32m   1467\u001b[0m     estimator\u001b[38;5;241m.\u001b[39m_validate_params()\n\u001b[0;32m   1469\u001b[0m \u001b[38;5;28;01mwith\u001b[39;00m config_context(\n\u001b[0;32m   1470\u001b[0m     skip_parameter_validation\u001b[38;5;241m=\u001b[39m(\n\u001b[0;32m   1471\u001b[0m         prefer_skip_nested_validation \u001b[38;5;129;01mor\u001b[39;00m global_skip_validation\n\u001b[0;32m   1472\u001b[0m     )\n\u001b[0;32m   1473\u001b[0m ):\n\u001b[1;32m-> 1474\u001b[0m     \u001b[38;5;28;01mreturn\u001b[39;00m fit_method(estimator, \u001b[38;5;241m*\u001b[39margs, \u001b[38;5;241m*\u001b[39m\u001b[38;5;241m*\u001b[39mkwargs)\n",
            "File \u001b[1;32mc:\\Users\\adhy arya\\anaconda3\\Lib\\site-packages\\sklearn\\preprocessing\\_data.py:912\u001b[0m, in \u001b[0;36mStandardScaler.partial_fit\u001b[1;34m(self, X, y, sample_weight)\u001b[0m\n\u001b[0;32m    880\u001b[0m \u001b[38;5;250m\u001b[39m\u001b[38;5;124;03m\"\"\"Online computation of mean and std on X for later scaling.\u001b[39;00m\n\u001b[0;32m    881\u001b[0m \n\u001b[0;32m    882\u001b[0m \u001b[38;5;124;03mAll of X is processed as a single batch. This is intended for cases\u001b[39;00m\n\u001b[1;32m   (...)\u001b[0m\n\u001b[0;32m    909\u001b[0m \u001b[38;5;124;03m    Fitted scaler.\u001b[39;00m\n\u001b[0;32m    910\u001b[0m \u001b[38;5;124;03m\"\"\"\u001b[39;00m\n\u001b[0;32m    911\u001b[0m first_call \u001b[38;5;241m=\u001b[39m \u001b[38;5;129;01mnot\u001b[39;00m \u001b[38;5;28mhasattr\u001b[39m(\u001b[38;5;28mself\u001b[39m, \u001b[38;5;124m\"\u001b[39m\u001b[38;5;124mn_samples_seen_\u001b[39m\u001b[38;5;124m\"\u001b[39m)\n\u001b[1;32m--> 912\u001b[0m X \u001b[38;5;241m=\u001b[39m \u001b[38;5;28mself\u001b[39m\u001b[38;5;241m.\u001b[39m_validate_data(\n\u001b[0;32m    913\u001b[0m     X,\n\u001b[0;32m    914\u001b[0m     accept_sparse\u001b[38;5;241m=\u001b[39m(\u001b[38;5;124m\"\u001b[39m\u001b[38;5;124mcsr\u001b[39m\u001b[38;5;124m\"\u001b[39m, \u001b[38;5;124m\"\u001b[39m\u001b[38;5;124mcsc\u001b[39m\u001b[38;5;124m\"\u001b[39m),\n\u001b[0;32m    915\u001b[0m     dtype\u001b[38;5;241m=\u001b[39mFLOAT_DTYPES,\n\u001b[0;32m    916\u001b[0m     force_all_finite\u001b[38;5;241m=\u001b[39m\u001b[38;5;124m\"\u001b[39m\u001b[38;5;124mallow-nan\u001b[39m\u001b[38;5;124m\"\u001b[39m,\n\u001b[0;32m    917\u001b[0m     reset\u001b[38;5;241m=\u001b[39mfirst_call,\n\u001b[0;32m    918\u001b[0m )\n\u001b[0;32m    919\u001b[0m n_features \u001b[38;5;241m=\u001b[39m X\u001b[38;5;241m.\u001b[39mshape[\u001b[38;5;241m1\u001b[39m]\n\u001b[0;32m    921\u001b[0m \u001b[38;5;28;01mif\u001b[39;00m sample_weight \u001b[38;5;129;01mis\u001b[39;00m \u001b[38;5;129;01mnot\u001b[39;00m \u001b[38;5;28;01mNone\u001b[39;00m:\n",
            "File \u001b[1;32mc:\\Users\\adhy arya\\anaconda3\\Lib\\site-packages\\sklearn\\base.py:633\u001b[0m, in \u001b[0;36mBaseEstimator._validate_data\u001b[1;34m(self, X, y, reset, validate_separately, cast_to_ndarray, **check_params)\u001b[0m\n\u001b[0;32m    631\u001b[0m         out \u001b[38;5;241m=\u001b[39m X, y\n\u001b[0;32m    632\u001b[0m \u001b[38;5;28;01melif\u001b[39;00m \u001b[38;5;129;01mnot\u001b[39;00m no_val_X \u001b[38;5;129;01mand\u001b[39;00m no_val_y:\n\u001b[1;32m--> 633\u001b[0m     out \u001b[38;5;241m=\u001b[39m check_array(X, input_name\u001b[38;5;241m=\u001b[39m\u001b[38;5;124m\"\u001b[39m\u001b[38;5;124mX\u001b[39m\u001b[38;5;124m\"\u001b[39m, \u001b[38;5;241m*\u001b[39m\u001b[38;5;241m*\u001b[39mcheck_params)\n\u001b[0;32m    634\u001b[0m \u001b[38;5;28;01melif\u001b[39;00m no_val_X \u001b[38;5;129;01mand\u001b[39;00m \u001b[38;5;129;01mnot\u001b[39;00m no_val_y:\n\u001b[0;32m    635\u001b[0m     out \u001b[38;5;241m=\u001b[39m _check_y(y, \u001b[38;5;241m*\u001b[39m\u001b[38;5;241m*\u001b[39mcheck_params)\n",
            "File \u001b[1;32mc:\\Users\\adhy arya\\anaconda3\\Lib\\site-packages\\sklearn\\utils\\validation.py:997\u001b[0m, in \u001b[0;36mcheck_array\u001b[1;34m(array, accept_sparse, accept_large_sparse, dtype, order, copy, force_all_finite, ensure_2d, allow_nd, ensure_min_samples, ensure_min_features, estimator, input_name)\u001b[0m\n\u001b[0;32m    995\u001b[0m         array \u001b[38;5;241m=\u001b[39m xp\u001b[38;5;241m.\u001b[39mastype(array, dtype, copy\u001b[38;5;241m=\u001b[39m\u001b[38;5;28;01mFalse\u001b[39;00m)\n\u001b[0;32m    996\u001b[0m     \u001b[38;5;28;01melse\u001b[39;00m:\n\u001b[1;32m--> 997\u001b[0m         array \u001b[38;5;241m=\u001b[39m _asarray_with_order(array, order\u001b[38;5;241m=\u001b[39morder, dtype\u001b[38;5;241m=\u001b[39mdtype, xp\u001b[38;5;241m=\u001b[39mxp)\n\u001b[0;32m    998\u001b[0m \u001b[38;5;28;01mexcept\u001b[39;00m ComplexWarning \u001b[38;5;28;01mas\u001b[39;00m complex_warning:\n\u001b[0;32m    999\u001b[0m     \u001b[38;5;28;01mraise\u001b[39;00m \u001b[38;5;167;01mValueError\u001b[39;00m(\n\u001b[0;32m   1000\u001b[0m         \u001b[38;5;124m\"\u001b[39m\u001b[38;5;124mComplex data not supported\u001b[39m\u001b[38;5;130;01m\\n\u001b[39;00m\u001b[38;5;132;01m{}\u001b[39;00m\u001b[38;5;130;01m\\n\u001b[39;00m\u001b[38;5;124m\"\u001b[39m\u001b[38;5;241m.\u001b[39mformat(array)\n\u001b[0;32m   1001\u001b[0m     ) \u001b[38;5;28;01mfrom\u001b[39;00m \u001b[38;5;21;01mcomplex_warning\u001b[39;00m\n",
            "File \u001b[1;32mc:\\Users\\adhy arya\\anaconda3\\Lib\\site-packages\\sklearn\\utils\\_array_api.py:521\u001b[0m, in \u001b[0;36m_asarray_with_order\u001b[1;34m(array, dtype, order, copy, xp)\u001b[0m\n\u001b[0;32m    519\u001b[0m     array \u001b[38;5;241m=\u001b[39m numpy\u001b[38;5;241m.\u001b[39marray(array, order\u001b[38;5;241m=\u001b[39morder, dtype\u001b[38;5;241m=\u001b[39mdtype)\n\u001b[0;32m    520\u001b[0m \u001b[38;5;28;01melse\u001b[39;00m:\n\u001b[1;32m--> 521\u001b[0m     array \u001b[38;5;241m=\u001b[39m numpy\u001b[38;5;241m.\u001b[39masarray(array, order\u001b[38;5;241m=\u001b[39morder, dtype\u001b[38;5;241m=\u001b[39mdtype)\n\u001b[0;32m    523\u001b[0m \u001b[38;5;66;03m# At this point array is a NumPy ndarray. We convert it to an array\u001b[39;00m\n\u001b[0;32m    524\u001b[0m \u001b[38;5;66;03m# container that is consistent with the input's namespace.\u001b[39;00m\n\u001b[0;32m    525\u001b[0m \u001b[38;5;28;01mreturn\u001b[39;00m xp\u001b[38;5;241m.\u001b[39masarray(array)\n",
            "\u001b[1;31mValueError\u001b[0m: could not convert string to float: 'CustomerID'"
          ]
        }
      ],
      "source": [
        "# scaling\n",
        "model_scaler = StandardScaler()\n",
        "model_scaler.fit(num_columns) #.fit() hanya boleh dilakukan terhadap train, tidak boleg di test - set\n",
        "#melakukan proses perubahan skala\n",
        "RFMS_scaled = model_scaler.transform(num_columns)\n",
        "RFMS_scaled = pd.DataFrame(RFMS_scaled, columns=df.columns)\n",
        "RFMS_scaled"
      ]
    },
    {
      "cell_type": "code",
      "execution_count": null,
      "metadata": {
        "colab": {
          "base_uri": "https://localhost:8080/",
          "height": 449
        },
        "id": "QvUI2lDZujXS",
        "outputId": "c29579ee-96a0-424e-84d7-d00601f47caf"
      },
      "outputs": [
        {
          "data": {
            "image/png": "[encoded data removed]",
            "text/plain": [
              "<Figure size 640x480 with 1 Axes>"
            ]
          },
          "metadata": {},
          "output_type": "display_data"
        }
      ],
      "source": [
        "# @title Recency vs Frequency\n",
        "\n",
        "from matplotlib import pyplot as plt\n",
        "RFMScore.plot(kind='scatter', x='Recency', y='Frequency', s=32, alpha=.8)\n",
        "plt.gca().spines[['top', 'right',]].set_visible(False)"
      ]
    },
    {
      "cell_type": "code",
      "execution_count": null,
      "metadata": {
        "colab": {
          "base_uri": "https://localhost:8080/",
          "height": 449
        },
        "id": "8b1zMkIkuRsC",
        "outputId": "03789959-7a3d-43e1-fb8f-4c0991153076"
      },
      "outputs": [
        {
          "data": {
            "image/png": "[encoded data removed]",
            "text/plain": [
              "<Figure size 640x480 with 1 Axes>"
            ]
          },
          "metadata": {},
          "output_type": "display_data"
        }
      ],
      "source": [
        "# @title Frequency vs Monetary\n",
        "\n",
        "from matplotlib import pyplot as plt\n",
        "RFMScore.plot(kind='scatter', x='Frequency', y='Monetary', s=32, alpha=.8)\n",
        "plt.gca().spines[['top', 'right',]].set_visible(False)"
      ]
    },
    {
      "cell_type": "code",
      "execution_count": null,
      "metadata": {
        "colab": {
          "base_uri": "https://localhost:8080/"
        },
        "id": "BxUXJp8csRAp",
        "outputId": "13f9672c-0e4f-4aa2-9e46-e131afbdf60c"
      },
      "outputs": [
        {
          "data": {
            "text/plain": [
              "Customer_Level\n",
              "Silver       781\n",
              "Gold         985\n",
              "Platinum    1281\n",
              "Diamond     1325\n",
              "Name: count, dtype: int64"
            ]
          },
          "execution_count": 49,
          "metadata": {},
          "output_type": "execute_result"
        }
      ],
      "source": [
        "# Displaying the number of customers in each group\n",
        "customerGroup = RFMScore['Customer_Level'].value_counts().sort_values()\n",
        "\n",
        "# Call the set variable\n",
        "customerGroup"
      ]
    },
    {
      "cell_type": "code",
      "execution_count": null,
      "metadata": {
        "colab": {
          "base_uri": "https://localhost:8080/",
          "height": 694
        },
        "id": "y8SiF_Zbsipu",
        "outputId": "d59902d7-11ff-4ee8-e493-74f643ac49cc"
      },
      "outputs": [
        {
          "name": "stderr",
          "output_type": "stream",
          "text": [
            "c:\\Users\\adhy arya\\anaconda3\\Lib\\site-packages\\seaborn\\categorical.py:641: FutureWarning: The default of observed=False is deprecated and will be changed to True in a future version of pandas. Pass observed=False to retain current behavior or observed=True to adopt the future default and silence this warning.\n",
            "  grouped_vals = vals.groupby(grouper)\n"
          ]
        },
        {
          "data": {
            "image/png": "[encoded data removed]",
            "text/plain": [
              "<Figure size 800x600 with 1 Axes>"
            ]
          },
          "metadata": {},
          "output_type": "display_data"
        }
      ],
      "source": [
        "#Displaying the customer groups and their counts in a barchart\n",
        "plt.figure(figsize=(8, 6))\n",
        "ax = sns.barplot(x=customerGroup.index, y=customerGroup.values, palette=\"Set2\")\n",
        "\n",
        "plt.title('Customer Level Distribution')\n",
        "plt.xlabel('Customer Level')\n",
        "plt.ylabel('Customer Count')\n",
        "\n",
        "plt.xticks(rotation=45)\n",
        "\n",
        "plt.tight_layout()\n",
        "plt.show()"
      ]
    }
  ],
  "metadata": {
    "colab": {
      "provenance": []
    },
    "kernelspec": {
      "display_name": "Python 3",
      "name": "python3"
    },
    "language_info": {
      "codemirror_mode": {
        "name": "ipython",
        "version": 3
      },
      "file_extension": ".py",
      "mimetype": "text/x-python",
      "name": "python",
      "nbconvert_exporter": "python",
      "pygments_lexer": "ipython3",
      "version": "3.11.7"
    }
  },
  "nbformat": 4,
  "nbformat_minor": 0
}
