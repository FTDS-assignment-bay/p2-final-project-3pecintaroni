{
  "cells": [
    {
      "cell_type": "markdown",
      "metadata": {
        "id": "RBkRs01_kRS3"
      },
      "source": [
        "Hai guys."
      ]
    },
    {
      "cell_type": "markdown",
      "metadata": {
        "id": "hS28P_BtSj2B"
      },
      "source": [
        "# ***Final Project (Masukan nama Project di label `Final Project`)***\n",
        "\n",
        "Problem Statement: DRAFTtext\n",
        "\n",
        "Objective: DRAFTtext"
      ]
    },
    {
      "cell_type": "markdown",
      "metadata": {
        "id": "NOu3uYUC8--5"
      },
      "source": [
        "# ***Import Libraries & Packages***"
      ]
    },
    {
      "cell_type": "code",
      "execution_count": 2,
      "metadata": {
        "id": "GSxTXLFokQay"
      },
      "outputs": [],
      "source": [
        "# load data\n",
        "# import zipfile\n",
        "# import os\n",
        "import pandas as pd\n",
        "import numpy as np"
      ]
    },
    {
      "cell_type": "code",
      "execution_count": 3,
      "metadata": {
        "id": "rryOhVB0ZjmC"
      },
      "outputs": [],
      "source": [
        "from sklearn.preprocessing import MinMaxScaler\n",
        "from sklearn.preprocessing import StandardScaler, OneHotEncoder\n",
        "import matplotlib.pyplot as plt\n",
        "# from sklearn.preprocessing import LabelEncoder\n",
        "from sklearn.decomposition import PCA\n",
        "from sklearn.cluster import KMeans\n",
        "from sklearn.metrics import silhouette_score, silhouette_samples\n",
        "# from feature_engine.outliers import Winsorizer\n",
        "from sklearn.compose import ColumnTransformer\n",
        "from sklearn.pipeline import Pipeline"
      ]
    },
    {
      "cell_type": "markdown",
      "metadata": {
        "id": "dyF367H39LDy"
      },
      "source": [
        "# ***Data Loading***"
      ]
    },
    {
      "cell_type": "code",
      "execution_count": 5,
      "metadata": {
        "colab": {
          "base_uri": "https://localhost:8080/",
          "height": 0
        },
        "id": "P6lQkSiplHuG",
        "outputId": "0919f1eb-426a-484f-d71c-ad19fba85956"
      },
      "outputs": [
        {
          "name": "stdout",
          "output_type": "stream",
          "text": [
            "Dataset URL: https://www.kaggle.com/datasets/carrie1/ecommerce-data\n",
            "License(s): unknown\n",
            "Downloading ecommerce-data.zip to /content\n",
            "  0% 0.00/7.20M [00:00<?, ?B/s]\n",
            "100% 7.20M/7.20M [00:00<00:00, 109MB/s]\n"
          ]
        }
      ],
      "source": [
        "# download dataset\n",
        "# !kaggle datasets download -d carrie1/ecommerce-data"
      ]
    },
    {
      "cell_type": "code",
      "execution_count": 6,
      "metadata": {
        "colab": {
          "base_uri": "https://localhost:8080/",
          "height": 70
        },
        "id": "AKNjdoIilOaw",
        "outputId": "ed6a7a12-a56c-436d-bbd2-1bc83682a507"
      },
      "outputs": [
        {
          "data": {
            "application/vnd.google.colaboratory.intrinsic+json": {
              "type": "string"
            },
            "text/plain": [
              "'\\nThis code efficiently extracts all files from `ecommerce-data.zip` into\\na directory named `ecommerce-data`,\\nensuring proper handling of the file through the `with` statement.\\nThis is a common approach when dealing with compressed files in Python.\\n'"
            ]
          },
          "execution_count": 6,
          "metadata": {},
          "output_type": "execute_result"
        }
      ],
      "source": [
        "# with zipfile.ZipFile('ecommerce-data.zip', 'r') as zip_ref:\n",
        "#     zip_ref.extractall('ecommerce-data')\n",
        "# '''\n",
        "# This code efficiently extracts all files from `ecommerce-data.zip` into\n",
        "# a directory named `ecommerce-data`,\n",
        "# ensuring proper handling of the file through the `with` statement.\n",
        "# This is a common approach when dealing with compressed files in Python.\n",
        "# '''"
      ]
    },
    {
      "cell_type": "code",
      "execution_count": 7,
      "metadata": {
        "colab": {
          "base_uri": "https://localhost:8080/",
          "height": 0
        },
        "id": "JGslpbQa1_no",
        "outputId": "44aed179-5bc8-44b8-b8c1-d7dab2d31cd6"
      },
      "outputs": [
        {
          "data": {
            "text/plain": [
              "['data.csv']"
            ]
          },
          "execution_count": 7,
          "metadata": {},
          "output_type": "execute_result"
        }
      ],
      "source": [
        "# # List all files in the extracted directory\n",
        "# os.listdir('ecommerce-data')"
      ]
    },
    {
      "cell_type": "code",
      "execution_count": 5,
      "metadata": {
        "colab": {
          "base_uri": "https://localhost:8080/",
          "height": 230
        },
        "id": "_9Es_DzW2Gps",
        "outputId": "32181290-c9eb-405c-feb6-4aec404bdb6a"
      },
      "outputs": [
        {
          "data": {
            "text/html": [
              "<div>\n",
              "<style scoped>\n",
              "    .dataframe tbody tr th:only-of-type {\n",
              "        vertical-align: middle;\n",
              "    }\n",
              "\n",
              "    .dataframe tbody tr th {\n",
              "        vertical-align: top;\n",
              "    }\n",
              "\n",
              "    .dataframe thead th {\n",
              "        text-align: right;\n",
              "    }\n",
              "</style>\n",
              "<table border=\"1\" class=\"dataframe\">\n",
              "  <thead>\n",
              "    <tr style=\"text-align: right;\">\n",
              "      <th></th>\n",
              "      <th>InvoiceNo</th>\n",
              "      <th>StockCode</th>\n",
              "      <th>Description</th>\n",
              "      <th>Quantity</th>\n",
              "      <th>InvoiceDate</th>\n",
              "      <th>UnitPrice</th>\n",
              "      <th>CustomerID</th>\n",
              "      <th>Country</th>\n",
              "    </tr>\n",
              "  </thead>\n",
              "  <tbody>\n",
              "    <tr>\n",
              "      <th>0</th>\n",
              "      <td>536365</td>\n",
              "      <td>85123A</td>\n",
              "      <td>WHITE HANGING HEART T-LIGHT HOLDER</td>\n",
              "      <td>6</td>\n",
              "      <td>12/1/2010 8:26</td>\n",
              "      <td>2.55</td>\n",
              "      <td>17850.0</td>\n",
              "      <td>United Kingdom</td>\n",
              "    </tr>\n",
              "    <tr>\n",
              "      <th>1</th>\n",
              "      <td>536365</td>\n",
              "      <td>71053</td>\n",
              "      <td>WHITE METAL LANTERN</td>\n",
              "      <td>6</td>\n",
              "      <td>12/1/2010 8:26</td>\n",
              "      <td>3.39</td>\n",
              "      <td>17850.0</td>\n",
              "      <td>United Kingdom</td>\n",
              "    </tr>\n",
              "    <tr>\n",
              "      <th>2</th>\n",
              "      <td>536365</td>\n",
              "      <td>84406B</td>\n",
              "      <td>CREAM CUPID HEARTS COAT HANGER</td>\n",
              "      <td>8</td>\n",
              "      <td>12/1/2010 8:26</td>\n",
              "      <td>2.75</td>\n",
              "      <td>17850.0</td>\n",
              "      <td>United Kingdom</td>\n",
              "    </tr>\n",
              "  </tbody>\n",
              "</table>\n",
              "</div>"
            ],
            "text/plain": [
              "  InvoiceNo StockCode                         Description  Quantity  \\\n",
              "0    536365    85123A  WHITE HANGING HEART T-LIGHT HOLDER         6   \n",
              "1    536365     71053                 WHITE METAL LANTERN         6   \n",
              "2    536365    84406B      CREAM CUPID HEARTS COAT HANGER         8   \n",
              "\n",
              "      InvoiceDate  UnitPrice  CustomerID         Country  \n",
              "0  12/1/2010 8:26       2.55     17850.0  United Kingdom  \n",
              "1  12/1/2010 8:26       3.39     17850.0  United Kingdom  \n",
              "2  12/1/2010 8:26       2.75     17850.0  United Kingdom  "
            ]
          },
          "execution_count": 5,
          "metadata": {},
          "output_type": "execute_result"
        }
      ],
      "source": [
        "# Read the data\n",
        "df_ori = pd.read_csv('data.csv', encoding='ISO-8859-1')\n",
        "\n",
        "# duplicate dataset\n",
        "df = df_ori.copy()\n",
        "\n",
        "# Display the top 3 rows of the data\n",
        "df.head(3)"
      ]
    },
    {
      "cell_type": "code",
      "execution_count": 6,
      "metadata": {
        "colab": {
          "base_uri": "https://localhost:8080/",
          "height": 0
        },
        "id": "iZB3VE_42NGt",
        "outputId": "6403d73e-a4ff-4779-9f70-ba6c54d94a58"
      },
      "outputs": [
        {
          "name": "stdout",
          "output_type": "stream",
          "text": [
            "<class 'pandas.core.frame.DataFrame'>\n",
            "RangeIndex: 541909 entries, 0 to 541908\n",
            "Data columns (total 8 columns):\n",
            " #   Column       Non-Null Count   Dtype  \n",
            "---  ------       --------------   -----  \n",
            " 0   InvoiceNo    541909 non-null  object \n",
            " 1   StockCode    541909 non-null  object \n",
            " 2   Description  540455 non-null  object \n",
            " 3   Quantity     541909 non-null  int64  \n",
            " 4   InvoiceDate  541909 non-null  object \n",
            " 5   UnitPrice    541909 non-null  float64\n",
            " 6   CustomerID   406829 non-null  float64\n",
            " 7   Country      541909 non-null  object \n",
            "dtypes: float64(2), int64(1), object(5)\n",
            "memory usage: 33.1+ MB\n"
          ]
        }
      ],
      "source": [
        "df.info()"
      ]
    },
    {
      "cell_type": "code",
      "execution_count": 7,
      "metadata": {
        "colab": {
          "base_uri": "https://localhost:8080/",
          "height": 0
        },
        "id": "vBfpNl74LDko",
        "outputId": "15665574-d97b-4dbe-f483-ab3571e31975"
      },
      "outputs": [
        {
          "data": {
            "text/plain": [
              "InvoiceNo      25900\n",
              "StockCode       4070\n",
              "Description     4223\n",
              "Quantity         722\n",
              "InvoiceDate    23260\n",
              "UnitPrice       1630\n",
              "CustomerID      4372\n",
              "Country           38\n",
              "dtype: int64"
            ]
          },
          "execution_count": 7,
          "metadata": {},
          "output_type": "execute_result"
        }
      ],
      "source": [
        "df.nunique()"
      ]
    },
    {
      "cell_type": "code",
      "execution_count": 8,
      "metadata": {
        "colab": {
          "base_uri": "https://localhost:8080/",
          "height": 0
        },
        "id": "Vn2JWP5yLHu2",
        "outputId": "5b3ef3b0-b547-49a6-ac80-2977775dd56a"
      },
      "outputs": [
        {
          "data": {
            "text/plain": [
              "InvoiceNo           0\n",
              "StockCode           0\n",
              "Description      1454\n",
              "Quantity            0\n",
              "InvoiceDate         0\n",
              "UnitPrice           0\n",
              "CustomerID     135080\n",
              "Country             0\n",
              "dtype: int64"
            ]
          },
          "execution_count": 8,
          "metadata": {},
          "output_type": "execute_result"
        }
      ],
      "source": [
        "# mengecek missing value\n",
        "df.isnull().sum()"
      ]
    },
    {
      "cell_type": "code",
      "execution_count": 9,
      "metadata": {
        "colab": {
          "base_uri": "https://localhost:8080/",
          "height": 754
        },
        "id": "nBHCkNIGLK22",
        "outputId": "41b4e6d1-d733-4837-8d91-9225c991a893"
      },
      "outputs": [
        {
          "data": {
            "text/html": [
              "<div>\n",
              "<style scoped>\n",
              "    .dataframe tbody tr th:only-of-type {\n",
              "        vertical-align: middle;\n",
              "    }\n",
              "\n",
              "    .dataframe tbody tr th {\n",
              "        vertical-align: top;\n",
              "    }\n",
              "\n",
              "    .dataframe thead th {\n",
              "        text-align: right;\n",
              "    }\n",
              "</style>\n",
              "<table border=\"1\" class=\"dataframe\">\n",
              "  <thead>\n",
              "    <tr style=\"text-align: right;\">\n",
              "      <th></th>\n",
              "      <th>InvoiceNo</th>\n",
              "      <th>StockCode</th>\n",
              "      <th>Description</th>\n",
              "      <th>Quantity</th>\n",
              "      <th>InvoiceDate</th>\n",
              "      <th>UnitPrice</th>\n",
              "      <th>CustomerID</th>\n",
              "      <th>Country</th>\n",
              "    </tr>\n",
              "  </thead>\n",
              "  <tbody>\n",
              "    <tr>\n",
              "      <th>0</th>\n",
              "      <td>536365</td>\n",
              "      <td>85123A</td>\n",
              "      <td>WHITE HANGING HEART T-LIGHT HOLDER</td>\n",
              "      <td>6</td>\n",
              "      <td>12/1/2010 8:26</td>\n",
              "      <td>2.55</td>\n",
              "      <td>17850.0</td>\n",
              "      <td>United Kingdom</td>\n",
              "    </tr>\n",
              "    <tr>\n",
              "      <th>1</th>\n",
              "      <td>536365</td>\n",
              "      <td>71053</td>\n",
              "      <td>WHITE METAL LANTERN</td>\n",
              "      <td>6</td>\n",
              "      <td>12/1/2010 8:26</td>\n",
              "      <td>3.39</td>\n",
              "      <td>17850.0</td>\n",
              "      <td>United Kingdom</td>\n",
              "    </tr>\n",
              "    <tr>\n",
              "      <th>2</th>\n",
              "      <td>536365</td>\n",
              "      <td>84406B</td>\n",
              "      <td>CREAM CUPID HEARTS COAT HANGER</td>\n",
              "      <td>8</td>\n",
              "      <td>12/1/2010 8:26</td>\n",
              "      <td>2.75</td>\n",
              "      <td>17850.0</td>\n",
              "      <td>United Kingdom</td>\n",
              "    </tr>\n",
              "    <tr>\n",
              "      <th>3</th>\n",
              "      <td>536365</td>\n",
              "      <td>84029G</td>\n",
              "      <td>KNITTED UNION FLAG HOT WATER BOTTLE</td>\n",
              "      <td>6</td>\n",
              "      <td>12/1/2010 8:26</td>\n",
              "      <td>3.39</td>\n",
              "      <td>17850.0</td>\n",
              "      <td>United Kingdom</td>\n",
              "    </tr>\n",
              "    <tr>\n",
              "      <th>4</th>\n",
              "      <td>536365</td>\n",
              "      <td>84029E</td>\n",
              "      <td>RED WOOLLY HOTTIE WHITE HEART.</td>\n",
              "      <td>6</td>\n",
              "      <td>12/1/2010 8:26</td>\n",
              "      <td>3.39</td>\n",
              "      <td>17850.0</td>\n",
              "      <td>United Kingdom</td>\n",
              "    </tr>\n",
              "    <tr>\n",
              "      <th>...</th>\n",
              "      <td>...</td>\n",
              "      <td>...</td>\n",
              "      <td>...</td>\n",
              "      <td>...</td>\n",
              "      <td>...</td>\n",
              "      <td>...</td>\n",
              "      <td>...</td>\n",
              "      <td>...</td>\n",
              "    </tr>\n",
              "    <tr>\n",
              "      <th>541904</th>\n",
              "      <td>581587</td>\n",
              "      <td>22613</td>\n",
              "      <td>PACK OF 20 SPACEBOY NAPKINS</td>\n",
              "      <td>12</td>\n",
              "      <td>12/9/2011 12:50</td>\n",
              "      <td>0.85</td>\n",
              "      <td>12680.0</td>\n",
              "      <td>France</td>\n",
              "    </tr>\n",
              "    <tr>\n",
              "      <th>541905</th>\n",
              "      <td>581587</td>\n",
              "      <td>22899</td>\n",
              "      <td>CHILDREN'S APRON DOLLY GIRL</td>\n",
              "      <td>6</td>\n",
              "      <td>12/9/2011 12:50</td>\n",
              "      <td>2.10</td>\n",
              "      <td>12680.0</td>\n",
              "      <td>France</td>\n",
              "    </tr>\n",
              "    <tr>\n",
              "      <th>541906</th>\n",
              "      <td>581587</td>\n",
              "      <td>23254</td>\n",
              "      <td>CHILDRENS CUTLERY DOLLY GIRL</td>\n",
              "      <td>4</td>\n",
              "      <td>12/9/2011 12:50</td>\n",
              "      <td>4.15</td>\n",
              "      <td>12680.0</td>\n",
              "      <td>France</td>\n",
              "    </tr>\n",
              "    <tr>\n",
              "      <th>541907</th>\n",
              "      <td>581587</td>\n",
              "      <td>23255</td>\n",
              "      <td>CHILDRENS CUTLERY CIRCUS PARADE</td>\n",
              "      <td>4</td>\n",
              "      <td>12/9/2011 12:50</td>\n",
              "      <td>4.15</td>\n",
              "      <td>12680.0</td>\n",
              "      <td>France</td>\n",
              "    </tr>\n",
              "    <tr>\n",
              "      <th>541908</th>\n",
              "      <td>581587</td>\n",
              "      <td>22138</td>\n",
              "      <td>BAKING SET 9 PIECE RETROSPOT</td>\n",
              "      <td>3</td>\n",
              "      <td>12/9/2011 12:50</td>\n",
              "      <td>4.95</td>\n",
              "      <td>12680.0</td>\n",
              "      <td>France</td>\n",
              "    </tr>\n",
              "  </tbody>\n",
              "</table>\n",
              "<p>406829 rows × 8 columns</p>\n",
              "</div>"
            ],
            "text/plain": [
              "       InvoiceNo StockCode                          Description  Quantity  \\\n",
              "0         536365    85123A   WHITE HANGING HEART T-LIGHT HOLDER         6   \n",
              "1         536365     71053                  WHITE METAL LANTERN         6   \n",
              "2         536365    84406B       CREAM CUPID HEARTS COAT HANGER         8   \n",
              "3         536365    84029G  KNITTED UNION FLAG HOT WATER BOTTLE         6   \n",
              "4         536365    84029E       RED WOOLLY HOTTIE WHITE HEART.         6   \n",
              "...          ...       ...                                  ...       ...   \n",
              "541904    581587     22613          PACK OF 20 SPACEBOY NAPKINS        12   \n",
              "541905    581587     22899         CHILDREN'S APRON DOLLY GIRL          6   \n",
              "541906    581587     23254        CHILDRENS CUTLERY DOLLY GIRL          4   \n",
              "541907    581587     23255      CHILDRENS CUTLERY CIRCUS PARADE         4   \n",
              "541908    581587     22138        BAKING SET 9 PIECE RETROSPOT          3   \n",
              "\n",
              "            InvoiceDate  UnitPrice  CustomerID         Country  \n",
              "0        12/1/2010 8:26       2.55     17850.0  United Kingdom  \n",
              "1        12/1/2010 8:26       3.39     17850.0  United Kingdom  \n",
              "2        12/1/2010 8:26       2.75     17850.0  United Kingdom  \n",
              "3        12/1/2010 8:26       3.39     17850.0  United Kingdom  \n",
              "4        12/1/2010 8:26       3.39     17850.0  United Kingdom  \n",
              "...                 ...        ...         ...             ...  \n",
              "541904  12/9/2011 12:50       0.85     12680.0          France  \n",
              "541905  12/9/2011 12:50       2.10     12680.0          France  \n",
              "541906  12/9/2011 12:50       4.15     12680.0          France  \n",
              "541907  12/9/2011 12:50       4.15     12680.0          France  \n",
              "541908  12/9/2011 12:50       4.95     12680.0          France  \n",
              "\n",
              "[406829 rows x 8 columns]"
            ]
          },
          "execution_count": 9,
          "metadata": {},
          "output_type": "execute_result"
        }
      ],
      "source": [
        "df.dropna()"
      ]
    },
    {
      "cell_type": "code",
      "execution_count": 10,
      "metadata": {
        "colab": {
          "base_uri": "https://localhost:8080/",
          "height": 0
        },
        "id": "6-1AfIljLPYV",
        "outputId": "d39ce939-4714-4907-abd5-e53e8f3c3336"
      },
      "outputs": [
        {
          "name": "stdout",
          "output_type": "stream",
          "text": [
            "<class 'pandas.core.frame.DataFrame'>\n",
            "RangeIndex: 541909 entries, 0 to 541908\n",
            "Data columns (total 8 columns):\n",
            " #   Column       Non-Null Count   Dtype  \n",
            "---  ------       --------------   -----  \n",
            " 0   InvoiceNo    541909 non-null  object \n",
            " 1   StockCode    541909 non-null  object \n",
            " 2   Description  540455 non-null  object \n",
            " 3   Quantity     541909 non-null  int64  \n",
            " 4   InvoiceDate  541909 non-null  object \n",
            " 5   UnitPrice    541909 non-null  float64\n",
            " 6   CustomerID   406829 non-null  float64\n",
            " 7   Country      541909 non-null  object \n",
            "dtypes: float64(2), int64(1), object(5)\n",
            "memory usage: 33.1+ MB\n"
          ]
        }
      ],
      "source": [
        "df.info()"
      ]
    },
    {
      "cell_type": "code",
      "execution_count": 11,
      "metadata": {
        "colab": {
          "base_uri": "https://localhost:8080/",
          "height": 230
        },
        "id": "M83gCSBiLYqi",
        "outputId": "783a65ac-4a83-4add-d74d-6e4574f4fcbb"
      },
      "outputs": [
        {
          "name": "stderr",
          "output_type": "stream",
          "text": [
            "C:\\Users\\ASUS\\AppData\\Local\\Temp\\ipykernel_27848\\2539005472.py:23: FutureWarning: A value is trying to be set on a copy of a DataFrame or Series through chained assignment using an inplace method.\n",
            "The behavior will change in pandas 3.0. This inplace method will never work because the intermediate object on which we are setting values always behaves as a copy.\n",
            "\n",
            "For example, when doing 'df[col].method(value, inplace=True)', try using 'df.method({col: value}, inplace=True)' or df[col] = df[col].method(value) instead, to perform the operation inplace on the original object.\n",
            "\n",
            "\n",
            "  df[col].fillna(df[col].mean(), inplace=True)\n"
          ]
        },
        {
          "data": {
            "text/html": [
              "<div>\n",
              "<style scoped>\n",
              "    .dataframe tbody tr th:only-of-type {\n",
              "        vertical-align: middle;\n",
              "    }\n",
              "\n",
              "    .dataframe tbody tr th {\n",
              "        vertical-align: top;\n",
              "    }\n",
              "\n",
              "    .dataframe thead th {\n",
              "        text-align: right;\n",
              "    }\n",
              "</style>\n",
              "<table border=\"1\" class=\"dataframe\">\n",
              "  <thead>\n",
              "    <tr style=\"text-align: right;\">\n",
              "      <th></th>\n",
              "      <th>InvoiceNo</th>\n",
              "      <th>StockCode</th>\n",
              "      <th>Description</th>\n",
              "      <th>Quantity</th>\n",
              "      <th>InvoiceDate</th>\n",
              "      <th>UnitPrice</th>\n",
              "      <th>CustomerID</th>\n",
              "      <th>Country</th>\n",
              "    </tr>\n",
              "  </thead>\n",
              "  <tbody>\n",
              "    <tr>\n",
              "      <th>0</th>\n",
              "      <td>536365</td>\n",
              "      <td>85123A</td>\n",
              "      <td>WHITE HANGING HEART T-LIGHT HOLDER</td>\n",
              "      <td>6</td>\n",
              "      <td>12/1/2010 8:26</td>\n",
              "      <td>2.55</td>\n",
              "      <td>17850.0</td>\n",
              "      <td>United Kingdom</td>\n",
              "    </tr>\n",
              "    <tr>\n",
              "      <th>1</th>\n",
              "      <td>536365</td>\n",
              "      <td>71053</td>\n",
              "      <td>WHITE METAL LANTERN</td>\n",
              "      <td>6</td>\n",
              "      <td>12/1/2010 8:26</td>\n",
              "      <td>3.39</td>\n",
              "      <td>17850.0</td>\n",
              "      <td>United Kingdom</td>\n",
              "    </tr>\n",
              "    <tr>\n",
              "      <th>2</th>\n",
              "      <td>536365</td>\n",
              "      <td>84406B</td>\n",
              "      <td>CREAM CUPID HEARTS COAT HANGER</td>\n",
              "      <td>8</td>\n",
              "      <td>12/1/2010 8:26</td>\n",
              "      <td>2.75</td>\n",
              "      <td>17850.0</td>\n",
              "      <td>United Kingdom</td>\n",
              "    </tr>\n",
              "  </tbody>\n",
              "</table>\n",
              "</div>"
            ],
            "text/plain": [
              "  InvoiceNo StockCode                         Description  Quantity  \\\n",
              "0    536365    85123A  WHITE HANGING HEART T-LIGHT HOLDER         6   \n",
              "1    536365     71053                 WHITE METAL LANTERN         6   \n",
              "2    536365    84406B      CREAM CUPID HEARTS COAT HANGER         8   \n",
              "\n",
              "      InvoiceDate  UnitPrice  CustomerID         Country  \n",
              "0  12/1/2010 8:26       2.55     17850.0  United Kingdom  \n",
              "1  12/1/2010 8:26       3.39     17850.0  United Kingdom  \n",
              "2  12/1/2010 8:26       2.75     17850.0  United Kingdom  "
            ]
          },
          "execution_count": 11,
          "metadata": {},
          "output_type": "execute_result"
        }
      ],
      "source": [
        "def clean_data(df):\n",
        "    \"\"\"\n",
        "    Membersihkan data dengan mengisi nilai yang hilang atau menghapus baris yang mengandung nilai hilang\n",
        "    berdasarkan persentase nilai yang hilang di setiap kolom.\n",
        "\n",
        "    Parameter:\n",
        "    df (DataFrame): DataFrame yang akan dibersihkan.\n",
        "\n",
        "    Mengembalikan:\n",
        "    DataFrame: DataFrame yang telah dibersihkan.\n",
        "    \"\"\"\n",
        "    # Menghitung persentase nilai yang hilang untuk setiap kolom\n",
        "    missing_percent = df.isnull().mean() * 100\n",
        "\n",
        "    # Mengisi atau menghapus nilai yang hilang berdasarkan persentase\n",
        "    for col in df.columns:\n",
        "        if missing_percent[col] > 5:\n",
        "            if df[col].dtype == 'object':  # Data kategori\n",
        "                df[col].fillna(df[col].mode()[0], inplace=True)\n",
        "            else:  # Data numerik\n",
        "                skewness = df[col].dropna().skew()\n",
        "                if abs(skewness) < 0.5:  # Distribusi normal\n",
        "                    df[col].fillna(df[col].mean(), inplace=True)\n",
        "                else:  # Distribusi miring\n",
        "                    df[col].fillna(df[col].median(), inplace=True)\n",
        "        else:\n",
        "            df.dropna(subset=[col], inplace=True)\n",
        "\n",
        "    return df\n",
        "\n",
        "# Menggunakan fungsi clean_data\n",
        "df_clean = clean_data(df)\n",
        "\n",
        "# Menampilkan 3 baris pertama dari data yang telah dibersihkan\n",
        "df_clean.head(3)\n"
      ]
    },
    {
      "cell_type": "markdown",
      "metadata": {
        "id": "mQ3cJRfqPbUU"
      },
      "source": []
    },
    {
      "cell_type": "code",
      "execution_count": 12,
      "metadata": {
        "colab": {
          "base_uri": "https://localhost:8080/",
          "height": 0
        },
        "id": "7jg5XRqJPG8C",
        "outputId": "289df1bb-560b-4a52-afc2-7544dc4e39b0"
      },
      "outputs": [
        {
          "name": "stdout",
          "output_type": "stream",
          "text": [
            "<class 'pandas.core.frame.DataFrame'>\n",
            "Index: 540455 entries, 0 to 541908\n",
            "Data columns (total 8 columns):\n",
            " #   Column       Non-Null Count   Dtype  \n",
            "---  ------       --------------   -----  \n",
            " 0   InvoiceNo    540455 non-null  object \n",
            " 1   StockCode    540455 non-null  object \n",
            " 2   Description  540455 non-null  object \n",
            " 3   Quantity     540455 non-null  int64  \n",
            " 4   InvoiceDate  540455 non-null  object \n",
            " 5   UnitPrice    540455 non-null  float64\n",
            " 6   CustomerID   540455 non-null  float64\n",
            " 7   Country      540455 non-null  object \n",
            "dtypes: float64(2), int64(1), object(5)\n",
            "memory usage: 37.1+ MB\n"
          ]
        }
      ],
      "source": [
        "df_clean.info()"
      ]
    },
    {
      "cell_type": "code",
      "execution_count": 13,
      "metadata": {
        "colab": {
          "base_uri": "https://localhost:8080/",
          "height": 0
        },
        "id": "pASDphDYO18X",
        "outputId": "44b2bc13-fa30-488d-ae45-b54b54b55c38"
      },
      "outputs": [
        {
          "data": {
            "text/plain": [
              "InvoiceNo      0\n",
              "StockCode      0\n",
              "Description    0\n",
              "Quantity       0\n",
              "InvoiceDate    0\n",
              "UnitPrice      0\n",
              "CustomerID     0\n",
              "Country        0\n",
              "dtype: int64"
            ]
          },
          "execution_count": 13,
          "metadata": {},
          "output_type": "execute_result"
        }
      ],
      "source": [
        "df_clean.isnull().sum()"
      ]
    },
    {
      "cell_type": "code",
      "execution_count": 14,
      "metadata": {
        "colab": {
          "base_uri": "https://localhost:8080/",
          "height": 0
        },
        "id": "P4JwPUhaO_rX",
        "outputId": "d7000f30-9fd3-4ffe-da30-92a86895a154"
      },
      "outputs": [
        {
          "data": {
            "text/plain": [
              "InvoiceNo      24446\n",
              "StockCode       3958\n",
              "Description     4223\n",
              "Quantity         671\n",
              "InvoiceDate    22309\n",
              "UnitPrice       1630\n",
              "CustomerID      4373\n",
              "Country           38\n",
              "dtype: int64"
            ]
          },
          "execution_count": 14,
          "metadata": {},
          "output_type": "execute_result"
        }
      ],
      "source": [
        "# melihat berapa unique value\n",
        "df.nunique()"
      ]
    },
    {
      "cell_type": "code",
      "execution_count": 15,
      "metadata": {
        "colab": {
          "base_uri": "https://localhost:8080/",
          "height": 0
        },
        "id": "kBTxdkrOQSnw",
        "outputId": "e6c0e77d-7d4a-4389-d1a7-0ea0a5027e33"
      },
      "outputs": [
        {
          "data": {
            "text/plain": [
              "Index(['InvoiceNo', 'StockCode', 'Description', 'Quantity', 'InvoiceDate',\n",
              "       'UnitPrice', 'CustomerID', 'Country'],\n",
              "      dtype='object')"
            ]
          },
          "execution_count": 15,
          "metadata": {},
          "output_type": "execute_result"
        }
      ],
      "source": [
        "# menampilkan nama kolom\n",
        "df.columns"
      ]
    },
    {
      "cell_type": "markdown",
      "metadata": {
        "id": "drTwrg0K-L69"
      },
      "source": [
        "# ***Exploratory Data Analysis in general***"
      ]
    },
    {
      "cell_type": "code",
      "execution_count": 16,
      "metadata": {
        "id": "Qxu6GTD7-Lf0"
      },
      "outputs": [],
      "source": [
        "# Write your code here"
      ]
    },
    {
      "cell_type": "markdown",
      "metadata": {
        "id": "I9mpiuSf-UvY"
      },
      "source": [
        "# ***Feature Engineering***"
      ]
    },
    {
      "cell_type": "code",
      "execution_count": 17,
      "metadata": {
        "id": "iaSCJEDLfdqv"
      },
      "outputs": [],
      "source": [
        "# mastikan invoice dalam bentuk tanggal\n",
        "df['InvoiceDate'] = pd.to_datetime(df['InvoiceDate'], format='%m/%d/%Y %H:%M')\n"
      ]
    },
    {
      "cell_type": "code",
      "execution_count": 18,
      "metadata": {
        "id": "ZmizsgFbfh0q"
      },
      "outputs": [],
      "source": [
        "# split data\n",
        "df['year'] = df['InvoiceDate'].dt.year\n",
        "df['month'] = df['InvoiceDate'].dt.month\n",
        "df['day'] = df['InvoiceDate'].dt.day\n",
        "df['day_of_week'] = df['InvoiceDate'].dt.dayofweek"
      ]
    },
    {
      "cell_type": "code",
      "execution_count": 19,
      "metadata": {
        "id": "U6OKy48IfqIh"
      },
      "outputs": [],
      "source": [
        "# convert kembali ke ordinal\n",
        "df['date_ordinal'] = df['InvoiceDate'].apply(lambda x: x.toordinal())"
      ]
    },
    {
      "cell_type": "code",
      "execution_count": 20,
      "metadata": {
        "id": "4mPVG2--fxIp"
      },
      "outputs": [],
      "source": [
        "# kalkulasi\n",
        "ref_date = df['InvoiceDate'].min()\n",
        "df['days_since_ref'] = (df['InvoiceDate'] - ref_date).dt.days"
      ]
    },
    {
      "cell_type": "code",
      "execution_count": 21,
      "metadata": {
        "id": "cxnwog1zgDrN"
      },
      "outputs": [],
      "source": [
        "df['month_sin'] = np.sin(2 * np.pi * df['month'] / 12)\n",
        "df['month_cos'] = np.cos(2 * np.pi * df['month'] / 12)"
      ]
    },
    {
      "cell_type": "code",
      "execution_count": 22,
      "metadata": {
        "colab": {
          "base_uri": "https://localhost:8080/",
          "height": 539
        },
        "id": "ElaAX8GFgQp4",
        "outputId": "39c908be-2559-4f07-cb48-7971a95b452d"
      },
      "outputs": [
        {
          "data": {
            "text/html": [
              "<div>\n",
              "<style scoped>\n",
              "    .dataframe tbody tr th:only-of-type {\n",
              "        vertical-align: middle;\n",
              "    }\n",
              "\n",
              "    .dataframe tbody tr th {\n",
              "        vertical-align: top;\n",
              "    }\n",
              "\n",
              "    .dataframe thead th {\n",
              "        text-align: right;\n",
              "    }\n",
              "</style>\n",
              "<table border=\"1\" class=\"dataframe\">\n",
              "  <thead>\n",
              "    <tr style=\"text-align: right;\">\n",
              "      <th></th>\n",
              "      <th>StockCode</th>\n",
              "      <th>Description</th>\n",
              "      <th>Quantity</th>\n",
              "      <th>InvoiceDate</th>\n",
              "      <th>UnitPrice</th>\n",
              "      <th>CustomerID</th>\n",
              "      <th>Country</th>\n",
              "      <th>year</th>\n",
              "      <th>month</th>\n",
              "      <th>day</th>\n",
              "      <th>day_of_week</th>\n",
              "      <th>date_ordinal</th>\n",
              "      <th>days_since_ref</th>\n",
              "      <th>month_sin</th>\n",
              "      <th>month_cos</th>\n",
              "    </tr>\n",
              "  </thead>\n",
              "  <tbody>\n",
              "    <tr>\n",
              "      <th>0</th>\n",
              "      <td>85123A</td>\n",
              "      <td>WHITE HANGING HEART T-LIGHT HOLDER</td>\n",
              "      <td>6</td>\n",
              "      <td>2010-12-01 08:26:00</td>\n",
              "      <td>2.55</td>\n",
              "      <td>17850.0</td>\n",
              "      <td>United Kingdom</td>\n",
              "      <td>2010</td>\n",
              "      <td>12</td>\n",
              "      <td>1</td>\n",
              "      <td>2</td>\n",
              "      <td>734107</td>\n",
              "      <td>0</td>\n",
              "      <td>-2.449294e-16</td>\n",
              "      <td>1.0</td>\n",
              "    </tr>\n",
              "    <tr>\n",
              "      <th>1</th>\n",
              "      <td>71053</td>\n",
              "      <td>WHITE METAL LANTERN</td>\n",
              "      <td>6</td>\n",
              "      <td>2010-12-01 08:26:00</td>\n",
              "      <td>3.39</td>\n",
              "      <td>17850.0</td>\n",
              "      <td>United Kingdom</td>\n",
              "      <td>2010</td>\n",
              "      <td>12</td>\n",
              "      <td>1</td>\n",
              "      <td>2</td>\n",
              "      <td>734107</td>\n",
              "      <td>0</td>\n",
              "      <td>-2.449294e-16</td>\n",
              "      <td>1.0</td>\n",
              "    </tr>\n",
              "    <tr>\n",
              "      <th>2</th>\n",
              "      <td>84406B</td>\n",
              "      <td>CREAM CUPID HEARTS COAT HANGER</td>\n",
              "      <td>8</td>\n",
              "      <td>2010-12-01 08:26:00</td>\n",
              "      <td>2.75</td>\n",
              "      <td>17850.0</td>\n",
              "      <td>United Kingdom</td>\n",
              "      <td>2010</td>\n",
              "      <td>12</td>\n",
              "      <td>1</td>\n",
              "      <td>2</td>\n",
              "      <td>734107</td>\n",
              "      <td>0</td>\n",
              "      <td>-2.449294e-16</td>\n",
              "      <td>1.0</td>\n",
              "    </tr>\n",
              "    <tr>\n",
              "      <th>3</th>\n",
              "      <td>84029G</td>\n",
              "      <td>KNITTED UNION FLAG HOT WATER BOTTLE</td>\n",
              "      <td>6</td>\n",
              "      <td>2010-12-01 08:26:00</td>\n",
              "      <td>3.39</td>\n",
              "      <td>17850.0</td>\n",
              "      <td>United Kingdom</td>\n",
              "      <td>2010</td>\n",
              "      <td>12</td>\n",
              "      <td>1</td>\n",
              "      <td>2</td>\n",
              "      <td>734107</td>\n",
              "      <td>0</td>\n",
              "      <td>-2.449294e-16</td>\n",
              "      <td>1.0</td>\n",
              "    </tr>\n",
              "    <tr>\n",
              "      <th>4</th>\n",
              "      <td>84029E</td>\n",
              "      <td>RED WOOLLY HOTTIE WHITE HEART.</td>\n",
              "      <td>6</td>\n",
              "      <td>2010-12-01 08:26:00</td>\n",
              "      <td>3.39</td>\n",
              "      <td>17850.0</td>\n",
              "      <td>United Kingdom</td>\n",
              "      <td>2010</td>\n",
              "      <td>12</td>\n",
              "      <td>1</td>\n",
              "      <td>2</td>\n",
              "      <td>734107</td>\n",
              "      <td>0</td>\n",
              "      <td>-2.449294e-16</td>\n",
              "      <td>1.0</td>\n",
              "    </tr>\n",
              "  </tbody>\n",
              "</table>\n",
              "</div>"
            ],
            "text/plain": [
              "  StockCode                          Description  Quantity  \\\n",
              "0    85123A   WHITE HANGING HEART T-LIGHT HOLDER         6   \n",
              "1     71053                  WHITE METAL LANTERN         6   \n",
              "2    84406B       CREAM CUPID HEARTS COAT HANGER         8   \n",
              "3    84029G  KNITTED UNION FLAG HOT WATER BOTTLE         6   \n",
              "4    84029E       RED WOOLLY HOTTIE WHITE HEART.         6   \n",
              "\n",
              "          InvoiceDate  UnitPrice  CustomerID         Country  year  month  \\\n",
              "0 2010-12-01 08:26:00       2.55     17850.0  United Kingdom  2010     12   \n",
              "1 2010-12-01 08:26:00       3.39     17850.0  United Kingdom  2010     12   \n",
              "2 2010-12-01 08:26:00       2.75     17850.0  United Kingdom  2010     12   \n",
              "3 2010-12-01 08:26:00       3.39     17850.0  United Kingdom  2010     12   \n",
              "4 2010-12-01 08:26:00       3.39     17850.0  United Kingdom  2010     12   \n",
              "\n",
              "   day  day_of_week  date_ordinal  days_since_ref     month_sin  month_cos  \n",
              "0    1            2        734107               0 -2.449294e-16        1.0  \n",
              "1    1            2        734107               0 -2.449294e-16        1.0  \n",
              "2    1            2        734107               0 -2.449294e-16        1.0  \n",
              "3    1            2        734107               0 -2.449294e-16        1.0  \n",
              "4    1            2        734107               0 -2.449294e-16        1.0  "
            ]
          },
          "execution_count": 22,
          "metadata": {},
          "output_type": "execute_result"
        }
      ],
      "source": [
        "# sebelumnya drop data invoice dan stockcode\n",
        "drop_columns = ['InvoiceNo']\n",
        "df.drop(columns=drop_columns, inplace=True)\n",
        "\n",
        "df.head()"
      ]
    },
    {
      "cell_type": "code",
      "execution_count": 23,
      "metadata": {
        "colab": {
          "base_uri": "https://localhost:8080/",
          "height": 0
        },
        "id": "-COlgzNihBfF",
        "outputId": "849b3254-bc4b-4d8a-d707-76603195fd7c"
      },
      "outputs": [
        {
          "data": {
            "text/plain": [
              "Index(['StockCode', 'Description', 'Quantity', 'InvoiceDate', 'UnitPrice',\n",
              "       'CustomerID', 'Country', 'year', 'month', 'day', 'day_of_week',\n",
              "       'date_ordinal', 'days_since_ref', 'month_sin', 'month_cos'],\n",
              "      dtype='object')"
            ]
          },
          "execution_count": 23,
          "metadata": {},
          "output_type": "execute_result"
        }
      ],
      "source": [
        "df.columns"
      ]
    },
    {
      "cell_type": "code",
      "execution_count": 24,
      "metadata": {
        "colab": {
          "base_uri": "https://localhost:8080/",
          "height": 0
        },
        "id": "lAWyGcKukTG1",
        "outputId": "281e011b-c51c-41c7-fc42-044d0bf50aad"
      },
      "outputs": [
        {
          "name": "stdout",
          "output_type": "stream",
          "text": [
            "Num Columns :  ['Quantity', 'UnitPrice', 'CustomerID', 'year', 'month', 'day', 'day_of_week', 'date_ordinal', 'days_since_ref', 'month_sin', 'month_cos']\n",
            "Cat Columns :  ['StockCode', 'Description', 'Country']\n"
          ]
        }
      ],
      "source": [
        "# Splitting numeric columns and categorical columns\n",
        "\n",
        "num_columns = df.select_dtypes(include=np.number).columns.tolist()\n",
        "cat_columns = df.select_dtypes(include=['object']).columns.tolist()\n",
        "\n",
        "df_num = df[num_columns]\n",
        "df_cat = df[cat_columns]\n",
        "\n",
        "print('Num Columns : ', num_columns)\n",
        "print('Cat Columns : ', cat_columns)"
      ]
    },
    {
      "cell_type": "markdown",
      "metadata": {
        "id": "xV0tvwQkcBHm"
      },
      "source": [
        "## bagian bawah ini masih bingung modelingnya"
      ]
    },
    {
      "cell_type": "code",
      "execution_count": 25,
      "metadata": {
        "colab": {
          "base_uri": "https://localhost:8080/",
          "height": 0
        },
        "id": "j_xqFS1Z7x0K",
        "outputId": "f11f0d3f-dd59-41cb-e6b3-962d30aee6bc"
      },
      "outputs": [
        {
          "data": {
            "text/plain": [
              "array([[-0.01652755, -0.02140086,  1.7234409 , ..., -1.85608394,\n",
              "         0.20219105,  1.18709286],\n",
              "       [-0.01652755, -0.01273119,  1.7234409 , ..., -1.85608394,\n",
              "         0.20219105,  1.18709286],\n",
              "       [-0.00735355, -0.01933665,  1.7234409 , ..., -1.85608394,\n",
              "         0.20219105,  1.18709286],\n",
              "       ...,\n",
              "       [-0.02570155, -0.0048872 , -1.75396482, ...,  1.3623576 ,\n",
              "         0.20219105,  1.18709286],\n",
              "       [-0.02570155, -0.0048872 , -1.75396482, ...,  1.3623576 ,\n",
              "         0.20219105,  1.18709286],\n",
              "       [-0.03028855,  0.00336962, -1.75396482, ...,  1.3623576 ,\n",
              "         0.20219105,  1.18709286]])"
            ]
          },
          "execution_count": 25,
          "metadata": {},
          "output_type": "execute_result"
        }
      ],
      "source": [
        "# Feature scaling\n",
        "\n",
        "scaler = StandardScaler()\n",
        "scaled = scaler.fit_transform(df_num)\n",
        "\n",
        "scaled"
      ]
    },
    {
      "cell_type": "code",
      "execution_count": 26,
      "metadata": {
        "id": "pa8LqGwOXr2F"
      },
      "outputs": [],
      "source": [
        "# Dimensionality Reduction using PCA\n",
        "from sklearn.decomposition import PCA"
      ]
    },
    {
      "cell_type": "code",
      "execution_count": 27,
      "metadata": {
        "colab": {
          "base_uri": "https://localhost:8080/",
          "height": 482
        },
        "id": "QzbZ4UncXwGN",
        "outputId": "179c0c0d-5b2f-4f41-c85b-ccd8510bb177"
      },
      "outputs": [
        {
          "data": {
            "text/plain": [
              "Text(0, 0.5, 'Explained Variance Ratio - Cummulative')"
            ]
          },
          "execution_count": 27,
          "metadata": {},
          "output_type": "execute_result"
        },
        {
          "data": {
            "image/png": "[encoded data removed]",
            "text/plain": [
              "<Figure size 1500x500 with 1 Axes>"
            ]
          },
          "metadata": {},
          "output_type": "display_data"
        }
      ],
      "source": [
        "pca = PCA()\n",
        "pca.fit(scaled)\n",
        "\n",
        "# Plot the Cummulative of Explained Variance Ratio\n",
        "plt.figure(figsize=(15, 5))\n",
        "plt.subplot(1, 2, 1)\n",
        "plt.grid()\n",
        "plt.plot(range(1, len(pca.explained_variance_ratio_) + 1), np.cumsum(pca.explained_variance_ratio_ * 100))\n",
        "plt.xlabel('Number of components')\n",
        "plt.ylabel('Explained Variance Ratio - Cummulative')"
      ]
    },
    {
      "cell_type": "code",
      "execution_count": 28,
      "metadata": {
        "colab": {
          "base_uri": "https://localhost:8080/",
          "height": 0
        },
        "id": "zpMPE0D2jWkw",
        "outputId": "a375d134-156c-4e22-8280-58cd6c7c3581"
      },
      "outputs": [
        {
          "data": {
            "text/plain": [
              "8"
            ]
          },
          "execution_count": 28,
          "metadata": {},
          "output_type": "execute_result"
        }
      ],
      "source": [
        "# Check the number of features if we want to retain 95 % of the information\n",
        "\n",
        "cumsum = np.cumsum(pca.explained_variance_ratio_)\n",
        "num_features = np.argmax(cumsum >= 0.95) + 1\n",
        "num_features"
      ]
    },
    {
      "cell_type": "code",
      "execution_count": 29,
      "metadata": {
        "id": "Ba48SdyEjXyo"
      },
      "outputs": [],
      "source": [
        "# train the model with 95 % of the original dataset information\n",
        "\n",
        "pca = PCA(n_components=0.95, random_state = 7)\n",
        "pca.fit(scaled)\n",
        "\n",
        "df_final_pca = pca.transform(scaled)"
      ]
    },
    {
      "cell_type": "code",
      "execution_count": 30,
      "metadata": {
        "colab": {
          "base_uri": "https://localhost:8080/",
          "height": 930
        },
        "id": "HxOHflHhkhbZ",
        "outputId": "35c86290-1f25-42a7-f8f0-7f20827e771d"
      },
      "outputs": [
        {
          "data": {
            "text/html": [
              "<div>\n",
              "<style scoped>\n",
              "    .dataframe tbody tr th:only-of-type {\n",
              "        vertical-align: middle;\n",
              "    }\n",
              "\n",
              "    .dataframe tbody tr th {\n",
              "        vertical-align: top;\n",
              "    }\n",
              "\n",
              "    .dataframe thead tr th {\n",
              "        text-align: left;\n",
              "    }\n",
              "</style>\n",
              "<table border=\"1\" class=\"dataframe\">\n",
              "  <thead>\n",
              "    <tr>\n",
              "      <th></th>\n",
              "      <th>PCA1</th>\n",
              "      <th>PCA2</th>\n",
              "      <th>PCA3</th>\n",
              "      <th>PCA4</th>\n",
              "      <th>PCA5</th>\n",
              "      <th>PCA6</th>\n",
              "      <th>PCA7</th>\n",
              "      <th>PCA8</th>\n",
              "      <th>StockCode</th>\n",
              "      <th>Description</th>\n",
              "      <th>Country</th>\n",
              "    </tr>\n",
              "  </thead>\n",
              "  <tbody>\n",
              "    <tr>\n",
              "      <th>0</th>\n",
              "      <td>2.100643</td>\n",
              "      <td>4.425393</td>\n",
              "      <td>-0.793043</td>\n",
              "      <td>0.299708</td>\n",
              "      <td>0.287620</td>\n",
              "      <td>-1.151861</td>\n",
              "      <td>-0.699383</td>\n",
              "      <td>-0.857685</td>\n",
              "      <td>85123A</td>\n",
              "      <td>WHITE HANGING HEART T-LIGHT HOLDER</td>\n",
              "      <td>United Kingdom</td>\n",
              "    </tr>\n",
              "    <tr>\n",
              "      <th>1</th>\n",
              "      <td>2.100672</td>\n",
              "      <td>4.425436</td>\n",
              "      <td>-0.790176</td>\n",
              "      <td>0.303981</td>\n",
              "      <td>0.294519</td>\n",
              "      <td>-1.150865</td>\n",
              "      <td>-0.699057</td>\n",
              "      <td>-0.857625</td>\n",
              "      <td>71053</td>\n",
              "      <td>WHITE METAL LANTERN</td>\n",
              "      <td>United Kingdom</td>\n",
              "    </tr>\n",
              "    <tr>\n",
              "      <th>2</th>\n",
              "      <td>2.100646</td>\n",
              "      <td>4.425365</td>\n",
              "      <td>-0.791416</td>\n",
              "      <td>0.293021</td>\n",
              "      <td>0.293872</td>\n",
              "      <td>-1.153250</td>\n",
              "      <td>-0.699206</td>\n",
              "      <td>-0.857614</td>\n",
              "      <td>84406B</td>\n",
              "      <td>CREAM CUPID HEARTS COAT HANGER</td>\n",
              "      <td>United Kingdom</td>\n",
              "    </tr>\n",
              "    <tr>\n",
              "      <th>3</th>\n",
              "      <td>2.100672</td>\n",
              "      <td>4.425436</td>\n",
              "      <td>-0.790176</td>\n",
              "      <td>0.303981</td>\n",
              "      <td>0.294519</td>\n",
              "      <td>-1.150865</td>\n",
              "      <td>-0.699057</td>\n",
              "      <td>-0.857625</td>\n",
              "      <td>84029G</td>\n",
              "      <td>KNITTED UNION FLAG HOT WATER BOTTLE</td>\n",
              "      <td>United Kingdom</td>\n",
              "    </tr>\n",
              "    <tr>\n",
              "      <th>4</th>\n",
              "      <td>2.100672</td>\n",
              "      <td>4.425436</td>\n",
              "      <td>-0.790176</td>\n",
              "      <td>0.303981</td>\n",
              "      <td>0.294519</td>\n",
              "      <td>-1.150865</td>\n",
              "      <td>-0.699057</td>\n",
              "      <td>-0.857625</td>\n",
              "      <td>84029E</td>\n",
              "      <td>RED WOOLLY HOTTIE WHITE HEART.</td>\n",
              "      <td>United Kingdom</td>\n",
              "    </tr>\n",
              "    <tr>\n",
              "      <th>...</th>\n",
              "      <td>...</td>\n",
              "      <td>...</td>\n",
              "      <td>...</td>\n",
              "      <td>...</td>\n",
              "      <td>...</td>\n",
              "      <td>...</td>\n",
              "      <td>...</td>\n",
              "      <td>...</td>\n",
              "      <td>...</td>\n",
              "      <td>...</td>\n",
              "      <td>...</td>\n",
              "    </tr>\n",
              "    <tr>\n",
              "      <th>540450</th>\n",
              "      <td>-2.030500</td>\n",
              "      <td>0.673166</td>\n",
              "      <td>0.511384</td>\n",
              "      <td>-0.488263</td>\n",
              "      <td>-0.237433</td>\n",
              "      <td>1.907195</td>\n",
              "      <td>-0.043997</td>\n",
              "      <td>1.222380</td>\n",
              "      <td>22613</td>\n",
              "      <td>PACK OF 20 SPACEBOY NAPKINS</td>\n",
              "      <td>France</td>\n",
              "    </tr>\n",
              "    <tr>\n",
              "      <th>540451</th>\n",
              "      <td>-2.030447</td>\n",
              "      <td>0.673343</td>\n",
              "      <td>0.512817</td>\n",
              "      <td>-0.458790</td>\n",
              "      <td>-0.240996</td>\n",
              "      <td>1.913557</td>\n",
              "      <td>-0.043809</td>\n",
              "      <td>1.222298</td>\n",
              "      <td>22899</td>\n",
              "      <td>CHILDREN'S APRON DOLLY GIRL</td>\n",
              "      <td>France</td>\n",
              "    </tr>\n",
              "    <tr>\n",
              "      <th>540452</th>\n",
              "      <td>-2.030372</td>\n",
              "      <td>0.673485</td>\n",
              "      <td>0.518870</td>\n",
              "      <td>-0.440659</td>\n",
              "      <td>-0.228770</td>\n",
              "      <td>1.917613</td>\n",
              "      <td>-0.043112</td>\n",
              "      <td>1.222387</td>\n",
              "      <td>23254</td>\n",
              "      <td>CHILDRENS CUTLERY DOLLY GIRL</td>\n",
              "      <td>France</td>\n",
              "    </tr>\n",
              "    <tr>\n",
              "      <th>540453</th>\n",
              "      <td>-2.030372</td>\n",
              "      <td>0.673485</td>\n",
              "      <td>0.518870</td>\n",
              "      <td>-0.440659</td>\n",
              "      <td>-0.228770</td>\n",
              "      <td>1.917613</td>\n",
              "      <td>-0.043112</td>\n",
              "      <td>1.222387</td>\n",
              "      <td>23255</td>\n",
              "      <td>CHILDRENS CUTLERY CIRCUS PARADE</td>\n",
              "      <td>France</td>\n",
              "    </tr>\n",
              "    <tr>\n",
              "      <th>540454</th>\n",
              "      <td>-2.030343</td>\n",
              "      <td>0.673545</td>\n",
              "      <td>0.521128</td>\n",
              "      <td>-0.432738</td>\n",
              "      <td>-0.224505</td>\n",
              "      <td>1.919375</td>\n",
              "      <td>-0.042851</td>\n",
              "      <td>1.222415</td>\n",
              "      <td>22138</td>\n",
              "      <td>BAKING SET 9 PIECE RETROSPOT</td>\n",
              "      <td>France</td>\n",
              "    </tr>\n",
              "  </tbody>\n",
              "</table>\n",
              "<p>540455 rows × 11 columns</p>\n",
              "</div>"
            ],
            "text/plain": [
              "            PCA1      PCA2      PCA3      PCA4      PCA5      PCA6      PCA7  \\\n",
              "0       2.100643  4.425393 -0.793043  0.299708  0.287620 -1.151861 -0.699383   \n",
              "1       2.100672  4.425436 -0.790176  0.303981  0.294519 -1.150865 -0.699057   \n",
              "2       2.100646  4.425365 -0.791416  0.293021  0.293872 -1.153250 -0.699206   \n",
              "3       2.100672  4.425436 -0.790176  0.303981  0.294519 -1.150865 -0.699057   \n",
              "4       2.100672  4.425436 -0.790176  0.303981  0.294519 -1.150865 -0.699057   \n",
              "...          ...       ...       ...       ...       ...       ...       ...   \n",
              "540450 -2.030500  0.673166  0.511384 -0.488263 -0.237433  1.907195 -0.043997   \n",
              "540451 -2.030447  0.673343  0.512817 -0.458790 -0.240996  1.913557 -0.043809   \n",
              "540452 -2.030372  0.673485  0.518870 -0.440659 -0.228770  1.917613 -0.043112   \n",
              "540453 -2.030372  0.673485  0.518870 -0.440659 -0.228770  1.917613 -0.043112   \n",
              "540454 -2.030343  0.673545  0.521128 -0.432738 -0.224505  1.919375 -0.042851   \n",
              "\n",
              "            PCA8 StockCode                          Description  \\\n",
              "0      -0.857685    85123A   WHITE HANGING HEART T-LIGHT HOLDER   \n",
              "1      -0.857625     71053                  WHITE METAL LANTERN   \n",
              "2      -0.857614    84406B       CREAM CUPID HEARTS COAT HANGER   \n",
              "3      -0.857625    84029G  KNITTED UNION FLAG HOT WATER BOTTLE   \n",
              "4      -0.857625    84029E       RED WOOLLY HOTTIE WHITE HEART.   \n",
              "...          ...       ...                                  ...   \n",
              "540450  1.222380     22613          PACK OF 20 SPACEBOY NAPKINS   \n",
              "540451  1.222298     22899         CHILDREN'S APRON DOLLY GIRL    \n",
              "540452  1.222387     23254        CHILDRENS CUTLERY DOLLY GIRL    \n",
              "540453  1.222387     23255      CHILDRENS CUTLERY CIRCUS PARADE   \n",
              "540454  1.222415     22138        BAKING SET 9 PIECE RETROSPOT    \n",
              "\n",
              "               Country  \n",
              "0       United Kingdom  \n",
              "1       United Kingdom  \n",
              "2       United Kingdom  \n",
              "3       United Kingdom  \n",
              "4       United Kingdom  \n",
              "...                ...  \n",
              "540450          France  \n",
              "540451          France  \n",
              "540452          France  \n",
              "540453          France  \n",
              "540454          France  \n",
              "\n",
              "[540455 rows x 11 columns]"
            ]
          },
          "execution_count": 30,
          "metadata": {},
          "output_type": "execute_result"
        }
      ],
      "source": [
        "# Concate columns\n",
        "\n",
        "customers_df_final = np.concatenate([df_final_pca, df_cat], axis=1)\n",
        "customers_df_final = pd.DataFrame(customers_df_final, columns=[['PCA1', 'PCA2', 'PCA3', 'PCA4', 'PCA5', 'PCA6', 'PCA7', 'PCA8'] + cat_columns])\n",
        "customers_df_final = customers_df_final.infer_objects()\n",
        "customers_df_final"
      ]
    },
    {
      "cell_type": "code",
      "execution_count": 31,
      "metadata": {
        "colab": {
          "base_uri": "https://localhost:8080/",
          "height": 0
        },
        "id": "ck_IrZMyjuwv",
        "outputId": "65d39120-0fb1-4a88-e4f3-f99b55904282"
      },
      "outputs": [
        {
          "name": "stdout",
          "output_type": "stream",
          "text": [
            "Categorical columns        :  ['StockCode', 'Description', 'Country']\n",
            "Categorical columns index  :  [8, 9, 10]\n"
          ]
        }
      ],
      "source": [
        "# Get the position of categorical columns\n",
        "\n",
        "index_cat_columns = [customers_df_final.columns.get_loc(col) for col in list(customers_df_final.select_dtypes('object').columns)]\n",
        "\n",
        "print('Categorical columns        : ', cat_columns)\n",
        "print('Categorical columns index  : ', index_cat_columns)"
      ]
    },
    {
      "cell_type": "markdown",
      "metadata": {
        "id": "ry1mEyYh-aMU"
      },
      "source": [
        "# ***Model Definition***\n",
        "\n",
        "DRAFTtext"
      ]
    },
    {
      "cell_type": "code",
      "execution_count": 32,
      "metadata": {
        "colab": {
          "base_uri": "https://localhost:8080/",
          "height": 0
        },
        "id": "dvLl2dbq-fbK",
        "outputId": "061ef819-e8c4-4be8-94f1-48b068aabd59"
      },
      "outputs": [
        {
          "name": "stdout",
          "output_type": "stream",
          "text": [
            "^C\n"
          ]
        }
      ],
      "source": [
        "# Write your code here\n",
        "\n",
        "# Install library `kmodes`\n",
        "\n",
        "!pip install kmodes"
      ]
    },
    {
      "cell_type": "code",
      "execution_count": 34,
      "metadata": {
        "colab": {
          "base_uri": "https://localhost:8080/",
          "height": 0
        },
        "id": "6RmLeuQPYhA4",
        "outputId": "619ff974-d7ad-43fb-c1d9-8a2a4581c3ee"
      },
      "outputs": [],
      "source": [
        "# Find the optimal number of clusters using Elbow Method\n",
        "# %%time\n",
        "from kmodes.kprototypes import KPrototypes\n",
        "from sklearn.metrics import silhouette_score"
      ]
    },
    {
      "cell_type": "code",
      "execution_count": null,
      "metadata": {
        "id": "JrgFR6o_YrDN"
      },
      "outputs": [],
      "source": [
        "%%time\n",
        "max_clusters = 8\n",
        "cost = []\n",
        "for k in range(2, max_clusters+1):\n",
        "  kproto = KPrototypes(n_clusters=k, init='Huang', random_state=42, n_jobs=-1)\n",
        "  kproto.fit_predict(customers_df_final, categorical=index_cat_columns)\n",
        "  cost.append(kproto.cost_)\n",
        "  print('Cluster creation : ', k)\n",
        "\n",
        "plt.plot(range(2, max_clusters+1), cost, marker =\"o\")\n",
        "plt.grid()\n",
        "plt.title('Elbow Method of K-Prototype', fontsize = 20)\n",
        "plt.xlabel('Number of Clusters')\n",
        "plt.ylabel('Cost')\n",
        "plt.show()"
      ]
    },
    {
      "cell_type": "markdown",
      "metadata": {
        "id": "1a01SamTMECB"
      },
      "source": [
        "# ***Model Training***\n",
        "\n",
        "DRAFTtext"
      ]
    },
    {
      "cell_type": "code",
      "execution_count": null,
      "metadata": {
        "id": "Vkj-6lW6MGvo"
      },
      "outputs": [],
      "source": [
        "# Write your code here"
      ]
    },
    {
      "cell_type": "markdown",
      "metadata": {
        "id": "RRv3fNkbMIrK"
      },
      "source": [
        "# ***Model Evaluation*** (?EDA After Clustering?)\n",
        "\n",
        "DRAFTtext"
      ]
    },
    {
      "cell_type": "code",
      "execution_count": null,
      "metadata": {
        "id": "Hv8nOeaNMMxo"
      },
      "outputs": [],
      "source": [
        "# Write your code here"
      ]
    },
    {
      "cell_type": "markdown",
      "metadata": {
        "id": "upx33hC_Q3PR"
      },
      "source": [
        "# ***Model Inference*** (different notebook apa langsung)\n",
        "\n",
        "DRAFTtext"
      ]
    },
    {
      "cell_type": "markdown",
      "metadata": {
        "id": "tkUihEcpRBKt"
      },
      "source": [
        "# ***Conclusion & Recommendations***\n",
        "\n",
        "DRAFTtext"
      ]
    },
    {
      "cell_type": "code",
      "execution_count": null,
      "metadata": {
        "id": "tCoHvgb2RFeg"
      },
      "outputs": [],
      "source": []
    }
  ],
  "metadata": {
    "colab": {
      "provenance": []
    },
    "kernelspec": {
      "display_name": "Python 3",
      "name": "python3"
    },
    "language_info": {
      "codemirror_mode": {
        "name": "ipython",
        "version": 3
      },
      "file_extension": ".py",
      "mimetype": "text/x-python",
      "name": "python",
      "nbconvert_exporter": "python",
      "pygments_lexer": "ipython3",
      "version": "3.11.7"
    }
  },
  "nbformat": 4,
  "nbformat_minor": 0
}
